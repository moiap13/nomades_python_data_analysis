{
 "cells": [
  {
   "cell_type": "markdown",
   "id": "83e01e82",
   "metadata": {
    "slideshow": {
     "slide_type": "slide"
    }
   },
   "source": [
    "# Python Data Analysis (prerequist week)\n",
    "## Welcome to the course!\n",
    "\n",
    "### Antonio Pisanello | Nomades 2024"
   ]
  },
  {
   "cell_type": "markdown",
   "id": "9d99275e",
   "metadata": {
    "slideshow": {
     "slide_type": "slide"
    }
   },
   "source": [
    "# Présentation du cours\n",
    "\n",
    "- Basis of python:\n",
    "  - Variables\n",
    "  - Loops\n",
    "  - import\n",
    "  - condition\n",
    "  - functions\n",
    "  - (class)\n",
    "- Basis of maths:\n",
    "  - Matrices\n",
    "  - Vectors\n",
    "  - Vector space\n",
    "  - Dimmencions\n",
    "- Basis of ML (I hope :D):\n",
    "  - MSE\n",
    "  - Gradient Descent\n",
    "  - Linear Regression"
   ]
  },
  {
   "cell_type": "markdown",
   "id": "f0f9071e",
   "metadata": {
    "slideshow": {
     "slide_type": "slide"
    }
   },
   "source": [
    "# Présentation\n",
    "\n",
    "- Antonio Pisanello\n",
    "- Étudiant\n",
    "- Freelance depuis 2ans\n",
    "- Programmation et Sport\n",
    "- [Contactez moi par e-mail](mailto:antonio@apisanello.dev)\n",
    "- À vous :)"
   ]
  },
  {
   "cell_type": "markdown",
   "id": "f094880b",
   "metadata": {
    "slideshow": {
     "slide_type": "slide"
    }
   },
   "source": [
    "# Questions ?"
   ]
  },
  {
   "cell_type": "markdown",
   "id": "9ff523d2",
   "metadata": {},
   "source": [
    "# Bon Cours :)"
   ]
  }
 ],
 "metadata": {
  "celltoolbar": "Slideshow",
  "kernelspec": {
   "display_name": "Python 3 (ipykernel)",
   "language": "python",
   "name": "python3"
  },
  "language_info": {
   "codemirror_mode": {
    "name": "ipython",
    "version": 3
   },
   "file_extension": ".py",
   "mimetype": "text/x-python",
   "name": "python",
   "nbconvert_exporter": "python",
   "pygments_lexer": "ipython3",
   "version": "3.10.13"
  }
 },
 "nbformat": 4,
 "nbformat_minor": 5
}
