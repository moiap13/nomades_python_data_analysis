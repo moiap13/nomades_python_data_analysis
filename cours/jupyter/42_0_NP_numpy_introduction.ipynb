{
 "cells": [
  {
   "cell_type": "markdown",
   "metadata": {
    "slideshow": {
     "slide_type": "slide"
    }
   },
   "source": [
    "# Numpy"
   ]
  },
  {
   "cell_type": "markdown",
   "metadata": {
    "slideshow": {
     "slide_type": "slide"
    }
   },
   "source": [
    "## Introduction\n",
    "\n",
    "NumPy is a Python library created in 2005 that performs numerical calculations. It is generally used for working with arrays.\n",
    "\n",
    "NumPy also includes a wide range of mathematical functions, such as linear algebra, Fourier transforms, and random number generation, which can be applied to arrays."
   ]
  },
  {
   "cell_type": "markdown",
   "metadata": {
    "slideshow": {
     "slide_type": "slide"
    }
   },
   "source": [
    "## Why NumPy\n",
    "\n",
    "NumPy means \"Numerical Python\". It is a Python library that performs numerical calculations. It is generally used for working with arrays.\n",
    "\n",
    "It's geneerally used for:\n",
    "- Machine Learning\n",
    "- Data Science\n",
    "- Image and Signal Processing\n",
    "- Scientific computing\n",
    "- Quantum computing"
   ]
  },
  {
   "cell_type": "markdown",
   "metadata": {
    "slideshow": {
     "slide_type": "slide"
    }
   },
   "source": [
    "## Why NumPy\n",
    "\n",
    "Some of the major reasons why we should use `NumPy` are:\n",
    "\n",
    "**1. Faster Execution**\n",
    "\n",
    "In Python, we use lists to work with arrays. But when it comes to large array operations, Python lists are not optimized enough.\n",
    "\n",
    "Numpy arrays are optimized for complex mathematical and statistical operations. Operations on NumPy are up to 50x faster than iterating over native Python lists using loops.\n",
    "\n",
    "Here're some of the reasons why NumPy is so fast:\n",
    "- Uses specialized data structures called numpy arrays\n",
    "- Uses optimized algorithms written in C"
   ]
  },
  {
   "cell_type": "markdown",
   "metadata": {
    "slideshow": {
     "slide_type": "slide"
    }
   },
   "source": [
    "## Why NumPy\n",
    "\n",
    "Some of the major reasons why we should use `NumPy` are:\n",
    "\n",
    "**2. Used with various Libraries**\n",
    "\n",
    "NumPy is heavly used with various libraries like `Pandas`, `Scipy`, `Scikit-learn`, etc."
   ]
  },
  {
   "cell_type": "markdown",
   "metadata": {
    "slideshow": {
     "slide_type": "slide"
    }
   },
   "source": [
    "## Installation\n",
    "\n",
    "To install NumPy, use the following command:\n",
    "\n",
    "```bash\n",
    "conda install numpy\n",
    "```\n",
    "\n",
    "## Importing NumPy\n",
    "\n",
    "To use NumPy, we need to import it first. We can import NumPy using the following command:"
   ]
  },
  {
   "cell_type": "code",
   "execution_count": 8,
   "metadata": {
    "slideshow": {
     "slide_type": "slide"
    }
   },
   "outputs": [],
   "source": [
    "import numpy as np"
   ]
  },
  {
   "cell_type": "markdown",
   "metadata": {},
   "source": [
    "The code above imports the `numpy` library in our program as an alias `np`.\n",
    "\n",
    "After this import statement, we can use NumPy functions and objects by calling them with `np`."
   ]
  },
  {
   "cell_type": "markdown",
   "metadata": {
    "slideshow": {
     "slide_type": "slide"
    }
   },
   "source": [
    "## NumPy Array Creation\n",
    "\n",
    "An array allows us to store a collection of multiple values in a single data structure.\n",
    "\n",
    "The NumPy array is similar to a list, but with added benefits such as being faster and more memory efficient.\n",
    "\n",
    "Numpy library provides various methods to work with data. To leverage all those features, we first need to create numpy arrays.\n",
    "\n",
    "There are multiple techniques to generate arrays in NumPy, and we will explore each of them below."
   ]
  },
  {
   "cell_type": "markdown",
   "metadata": {
    "slideshow": {
     "slide_type": "slide"
    }
   },
   "source": [
    "### Create an Array from a List\n",
    "\n",
    "We can create a NumPy array from a python list using the `array()` function :"
   ]
  },
  {
   "cell_type": "code",
   "execution_count": null,
   "metadata": {},
   "outputs": [],
   "source": [
    "# create a list named list1\n",
    "list1 = [2, 4, 6, 8]\n",
    "\n",
    "# create numpy array using list1\n",
    "array1 = np.array(list1)\n",
    "print(array1) \n",
    "\n",
    "array2 = np.array([1, 3, 5, \"7\"])\n",
    "print(array2)"
   ]
  },
  {
   "cell_type": "markdown",
   "metadata": {},
   "source": [
    "**Note :** Unlike `lists` or `series`, arrays can only store data of a similar type."
   ]
  },
  {
   "cell_type": "markdown",
   "metadata": {
    "slideshow": {
     "slide_type": "slide"
    }
   },
   "source": [
    "### Create an Array using the np.zeros and np.ones functions\n",
    "\n",
    "We can create an array of zeros or ones using the `np.zeros` and `np.ones` functions respectively."
   ]
  },
  {
   "cell_type": "code",
   "execution_count": 13,
   "metadata": {},
   "outputs": [
    {
     "name": "stdout",
     "output_type": "stream",
     "text": [
      "[0. 0. 0. 0. 0.]\n",
      "[1. 1. 1. 1. 1.]\n"
     ]
    }
   ],
   "source": [
    "z = np.zeros(5)\n",
    "print(z)\n",
    "\n",
    "o = np.ones(5)\n",
    "print(o)"
   ]
  },
  {
   "cell_type": "markdown",
   "metadata": {
    "slideshow": {
     "slide_type": "slide"
    }
   },
   "source": [
    "### Create an Array using the np.arange function\n",
    "\n",
    "We can create an array using the `np.arange` function. This function returns an array with evenly spaced values within a given interval."
   ]
  },
  {
   "cell_type": "code",
   "execution_count": 14,
   "metadata": {},
   "outputs": [
    {
     "name": "stdout",
     "output_type": "stream",
     "text": [
      "Using np.arange(5): [0 1 2 3 4]\n",
      "Using np.arange(1, 9, 2): [1 3 5 7]\n"
     ]
    }
   ],
   "source": [
    "import numpy as np\n",
    "\n",
    "# create an array with values from 0 to 4\n",
    "array1 = np.arange(5)\n",
    "\n",
    "print(\"Using np.arange(5):\", array1)\n",
    "\n",
    "# create an array with values from 1 to 8 with a step of 2\n",
    "array2 = np.arange(1, 9, 2)\n",
    "\n",
    "print(\"Using np.arange(1, 9, 2):\",array2)"
   ]
  },
  {
   "cell_type": "markdown",
   "metadata": {
    "slideshow": {
     "slide_type": "slide"
    }
   },
   "source": [
    "In the above example, we have created arrays using the np.arange() function.\n",
    "\n",
    "- `np.arange(5)` - create an array with 5 elements, where the values range from **0** to **4**\n",
    "- `np.arange(1, 9, 2)` - create an array with 5 elements, where the values range from **1** to **8** with a step of **2**."
   ]
  },
  {
   "cell_type": "markdown",
   "metadata": {
    "slideshow": {
     "slide_type": "slide"
    }
   },
   "source": [
    "### Create an Array using the np.random.rand function\n",
    "\n",
    "The np.random.rand() function is used to create an array of random numbers.\n",
    "\n",
    "Let's see an example to create an array of 5 random numbers,"
   ]
  },
  {
   "cell_type": "code",
   "execution_count": 20,
   "metadata": {},
   "outputs": [
    {
     "name": "stdout",
     "output_type": "stream",
     "text": [
      "[0.705403   0.09874786 0.52338173 0.43553374 0.21934742]\n"
     ]
    }
   ],
   "source": [
    "import numpy as np\n",
    "\n",
    "# generate an array of 5 random numbers\n",
    "array1 = np.random.rand(5)\n",
    "\n",
    "print(array1)"
   ]
  },
  {
   "cell_type": "markdown",
   "metadata": {},
   "source": [
    "In the above example, we have used the np.random.rand() function to create an array array1 with 5 random numbers.\n",
    "\n",
    "**Note :** This code generates a different output each time we run it."
   ]
  },
  {
   "cell_type": "markdown",
   "metadata": {
    "slideshow": {
     "slide_type": "slide"
    }
   },
   "source": [
    "### Create an empty Array using the np.empty function\n",
    "\n",
    "To create an empty NumPy array, we use the np.empty() function. For example,"
   ]
  },
  {
   "cell_type": "code",
   "execution_count": 21,
   "metadata": {},
   "outputs": [
    {
     "name": "stdout",
     "output_type": "stream",
     "text": [
      "[1.e-323 2.e-323 3.e-323 4.e-323]\n"
     ]
    }
   ],
   "source": [
    "# create an empty array of length 4\n",
    "array1 = np.empty(4)\n",
    "\n",
    "print(array1)"
   ]
  },
  {
   "cell_type": "markdown",
   "metadata": {
    "slideshow": {
     "slide_type": "slide"
    }
   },
   "source": [
    "Here, we have created an empty array of length 4 using the np.empty() function.\n",
    "\n",
    "If we look into the output of the code, we can see the empty array is actually not empty, it has some values in it.\n",
    "\n",
    "It is because although we are creating an empty array, NumPy will try to add some value to it. The values stored in the array are arbitrary and have no significance."
   ]
  },
  {
   "cell_type": "markdown",
   "metadata": {
    "slideshow": {
     "slide_type": "slide"
    }
   },
   "source": [
    "## NumPy N-D Array creation\n",
    "\n",
    "NumPy is not restricted to 1-D arrays, it can have arrays of multiple dimensions, also known as N-dimensional arrays or ndarrays.\n",
    "\n",
    "An N-dimensional array refers to the number of dimensions in which the array is organized.\n",
    "\n",
    "An array can have any number of dimensions and each dimension can have any number of elements.\n",
    "\n",
    "For example, a 2D array represents a table with rows and columns, while a 3D array represents a cube with width, height, and depth.\n",
    "\n",
    "There are multiple techniques to create N-d arrays in NumPy, and we will explore each of them below."
   ]
  },
  {
   "cell_type": "markdown",
   "metadata": {
    "slideshow": {
     "slide_type": "slide"
    }
   },
   "source": [
    "### N-D Array from list of lists\n",
    "\n",
    "To create an N-dimensional NumPy array from a Python List, we can use the np.array() function and pass the list as an argument."
   ]
  },
  {
   "cell_type": "markdown",
   "metadata": {
    "slideshow": {
     "slide_type": "slide"
    }
   },
   "source": [
    "#### Create a 2D NumPy Array\n",
    "\n",
    "Let's create a 2D NumPy array with 2 rows and 4 columns using lists."
   ]
  },
  {
   "cell_type": "code",
   "execution_count": 23,
   "metadata": {},
   "outputs": [
    {
     "name": "stdout",
     "output_type": "stream",
     "text": [
      "<class 'numpy.ndarray'>\n"
     ]
    }
   ],
   "source": [
    "# create a 2D array with 2 rows and 4 columns\n",
    "array1 = np.array([[1, 2, 3, 4], [5, 6, 7, 8]])\n",
    "\n",
    "print(type(array1))"
   ]
  },
  {
   "cell_type": "markdown",
   "metadata": {},
   "source": [
    "In the above example, we first created a 2D list (list of lists) [[1, 2, 3, 4], [5, 6, 7, 8]] with 2 rows and 4 columns. We then passed the list to the np.array() function to create a 2D array."
   ]
  },
  {
   "cell_type": "markdown",
   "metadata": {
    "slideshow": {
     "slide_type": "slide"
    }
   },
   "source": [
    "#### Create a 3D NumPy Array\n",
    "\n",
    "Let's say we want to create a 3-D NumPy array consisting of two \"slices\" where each slice has 3 rows and 4 columns.\n",
    "\n",
    "Here's how we create our desired 3-D array,"
   ]
  },
  {
   "cell_type": "code",
   "execution_count": 24,
   "metadata": {},
   "outputs": [
    {
     "name": "stdout",
     "output_type": "stream",
     "text": [
      "[[[ 1  2  3  4]\n",
      "  [ 5  6  7  8]\n",
      "  [ 9 10 11 12]]\n",
      "\n",
      " [[13 14 15 16]\n",
      "  [17 18 19 20]\n",
      "  [21 22 23 24]]]\n"
     ]
    }
   ],
   "source": [
    "import numpy as np\n",
    "\n",
    "# create a 3D array with 2 \"slices\", each of 3 rows and 4 columns\n",
    "array1 = np.array([[[1, 2, 3, 4],\n",
    "                [5, 6, 7, 8], \n",
    "                [9, 10, 11, 12]],\n",
    "                     \n",
    "                [[13, 14, 15, 16], \n",
    "                 [17, 18, 19, 20], \n",
    "                 [21, 22, 23, 24]]])\n",
    "\n",
    "print(array1)"
   ]
  },
  {
   "cell_type": "markdown",
   "metadata": {
    "slideshow": {
     "slide_type": "slide"
    }
   },
   "source": [
    "Here, we created a 3D list [list of lists of lists] and passed it to the np.array() function. This creates the 3-D array named array1.\n",
    "\n",
    "In the 3D list,\n",
    "\n",
    "- The outermost list contains two elements, which are lists representing the two \"slices\" of the array. Each slice is a 2-D array with 3 rows and 4 columns.\n",
    "- The innermost lists represent the individual rows of the 2-D arrays."
   ]
  },
  {
   "cell_type": "markdown",
   "metadata": {},
   "source": [
    "**Note :** In the context of an N-D array, a slice is like a subset of the array that we can take out by selecting a specific range of rows, columns."
   ]
  },
  {
   "cell_type": "markdown",
   "metadata": {
    "slideshow": {
     "slide_type": "slide"
    }
   },
   "source": [
    "### Creatin g a N-D Array from scratch\n",
    "\n",
    "We saw how to create N-d NumPy arrays from Python lists. Now we'll see how we can create them from scratch.\n",
    "\n",
    "To create multidimensional arrays from scratch we use functions such as\n",
    "\n",
    "- np.zeros() / np.ones()\n",
    "- np.arange()\n",
    "- np.random.rand()"
   ]
  },
  {
   "cell_type": "markdown",
   "metadata": {
    "slideshow": {
     "slide_type": "slide"
    }
   },
   "source": [
    "#### Create N-D Arrays using np.zeros() / np.ones()\n",
    "\n",
    "The np.zeros() function allows us to create N-D arrays filled with all zeros. For example,"
   ]
  },
  {
   "cell_type": "code",
   "execution_count": 28,
   "metadata": {},
   "outputs": [
    {
     "name": "stdout",
     "output_type": "stream",
     "text": [
      "2-D Array: \n",
      "[[0. 0. 0.]\n",
      " [0. 0. 0.]]\n",
      "\n",
      "3-D Array: \n",
      "[[[1. 1. 1. 1.]\n",
      "  [1. 1. 1. 1.]\n",
      "  [1. 1. 1. 1.]]\n",
      "\n",
      " [[1. 1. 1. 1.]\n",
      "  [1. 1. 1. 1.]\n",
      "  [1. 1. 1. 1.]]]\n"
     ]
    }
   ],
   "source": [
    "import numpy as np\n",
    "\n",
    "# create 2D array with 2 rows and 3 columns filled with zeros\n",
    "array1 = np.zeros((2, 3))\n",
    "\n",
    "print(\"2-D Array: \")\n",
    "print(array1)\n",
    "\n",
    "# create 3D array with dimensions 2x3x4 filled with zeros\n",
    "array2 = np.ones((2, 3, 4))\n",
    "\n",
    "print(\"\\n3-D Array: \")\n",
    "print(array2)"
   ]
  },
  {
   "cell_type": "markdown",
   "metadata": {
    "slideshow": {
     "slide_type": "slide"
    }
   },
   "source": [
    "In the above example, we have used the np.zeros() function to create a 2-D array and 3-D array filled with zeros respectively.\n",
    "\n",
    "- np.zeros((2, 3)) - returns a zero filled 2-D array with 2 rows and 3 columns\n",
    "- np.zeros((2, 3, 4)) - returns a zero filled 3-D array with 2 slices, each slice having 3 rows and 4 columns."
   ]
  },
  {
   "cell_type": "markdown",
   "metadata": {},
   "source": [
    "**Note :** Similarly we can use np.ones() to create an array filled with values 1."
   ]
  },
  {
   "cell_type": "markdown",
   "metadata": {
    "slideshow": {
     "slide_type": "slide"
    }
   },
   "source": [
    "#### Create N-D Array with a specified value\n",
    "\n",
    "In NumPy, we can use the np.full() function to create a multidimensional array with a specified value.\n",
    "\n",
    "For example, to create a 2-D array with the value 5, we can do the following:"
   ]
  },
  {
   "cell_type": "code",
   "execution_count": 31,
   "metadata": {},
   "outputs": [
    {
     "name": "stdout",
     "output_type": "stream",
     "text": [
      "Array: [[5 5]\n",
      " [5 5]]\n"
     ]
    }
   ],
   "source": [
    "import numpy as np\n",
    "\n",
    "# Create a 2-D array with elements initialized to 5 \n",
    "numpy_array = np.full((2, 2), 5)\n",
    "\n",
    "print(\"Array:\", numpy_array)"
   ]
  },
  {
   "cell_type": "markdown",
   "metadata": {},
   "source": [
    "Here, we have used the np.full() function to create a 2-D array where all elements are initialized to 5."
   ]
  },
  {
   "cell_type": "markdown",
   "metadata": {
    "slideshow": {
     "slide_type": "slide"
    }
   },
   "source": [
    "#### Create N-D Array with np.random.rand()\n",
    "\n",
    "The np.random.rand() function is used to create an array of random numbers.\n",
    "\n",
    "Let's see an example to create an array of 5 random numbers,"
   ]
  },
  {
   "cell_type": "code",
   "execution_count": 34,
   "metadata": {},
   "outputs": [
    {
     "name": "stdout",
     "output_type": "stream",
     "text": [
      "2-D Array: \n",
      "[[0.04776108 0.6829359 ]\n",
      " [0.85217264 0.04082834]]\n",
      "\n",
      "3-D Array: \n",
      "[[[0.24027892 0.54593305]\n",
      "  [0.28405552 0.72918824]]\n",
      "\n",
      " [[0.81406525 0.3360061 ]\n",
      "  [0.67886112 0.25663121]]]\n"
     ]
    }
   ],
   "source": [
    "import numpy as np\n",
    "\n",
    "# create a 2D array of 2 rows and 2 columns of random numbers\n",
    "array1 = np.random.rand(2, 2)\n",
    "\n",
    "print(\"2-D Array: \")\n",
    "print(array1)\n",
    "\n",
    "# create a 3D array of shape (2, 2, 2) of random numbers\n",
    "array2 = np.random.rand(2, 2, 2)\n",
    "\n",
    "print(\"\\n3-D Array: \")\n",
    "print(array2)"
   ]
  },
  {
   "cell_type": "markdown",
   "metadata": {
    "slideshow": {
     "slide_type": "slide"
    }
   },
   "source": [
    "Here,\n",
    "\n",
    "- np.random.rand(2, 2) - creates a 2D array of 2 rows and 2 columns of random numbers.\n",
    "- np.random.rand(2, 2, 2) - creates a 3D array with 2 slices, each slice having 2 rows and 2 columns of random numbers."
   ]
  },
  {
   "cell_type": "markdown",
   "metadata": {
    "slideshow": {
     "slide_type": "slide"
    }
   },
   "source": [
    "#### Create empty N-D Array\n",
    "\n",
    "To create an empty N-D NumPy array, we use the np.empty() function. For example,"
   ]
  },
  {
   "cell_type": "code",
   "execution_count": 35,
   "metadata": {},
   "outputs": [
    {
     "name": "stdout",
     "output_type": "stream",
     "text": [
      "2-D Array: \n",
      "[[0.04776108 0.6829359 ]\n",
      " [0.85217264 0.04082834]]\n",
      "\n",
      "3-D Array: \n",
      "[[[0.24027892 0.54593305]\n",
      "  [0.28405552 0.72918824]]\n",
      "\n",
      " [[0.81406525 0.3360061 ]\n",
      "  [0.67886112 0.25663121]]]\n"
     ]
    }
   ],
   "source": [
    "import numpy as np\n",
    "\n",
    "# create an empty 2D array with 2 rows and 2 columns\n",
    "array1 = np.empty((2, 2))\n",
    "\n",
    "print(\"2-D Array: \")\n",
    "print(array1)\n",
    "\n",
    "# create an empty 3D array of shape (2, 2, 2) \n",
    "array2 = np.empty((2, 2, 2))\n",
    "\n",
    "print(\"\\n3-D Array: \")\n",
    "print(array2)"
   ]
  },
  {
   "cell_type": "markdown",
   "metadata": {
    "slideshow": {
     "slide_type": "slide"
    }
   },
   "source": [
    "In the above example, we used the np.empty() function to create an empty 2-D array and a 3-D array respectively.\n",
    "\n",
    "If we look into the output of the code, we can see the empty array is actually not empty, it has some values in it.\n",
    "\n",
    "It is because although we are creating an empty array, NumPy will try to add some value to it. The values stored in the array are arbitrary and have no significance value."
   ]
  },
  {
   "cell_type": "markdown",
   "metadata": {
    "slideshow": {
     "slide_type": "slide"
    }
   },
   "source": [
    "## NumPy Data Types\n",
    "\n",
    "A data type is a way to specify the type of data that will be stored in an array. For example,"
   ]
  },
  {
   "cell_type": "code",
   "execution_count": 36,
   "metadata": {},
   "outputs": [],
   "source": [
    "array1 = np.array([2, 4, 6])"
   ]
  },
  {
   "cell_type": "markdown",
   "metadata": {},
   "source": [
    "Here, the array1 array contains three integer elements, so the data type is Integer(int64)), by default.\n",
    "\n",
    "NumPy provides us with several built-in data types to efficiently represent numerical data."
   ]
  },
  {
   "cell_type": "markdown",
   "metadata": {
    "slideshow": {
     "slide_type": "slide"
    }
   },
   "source": [
    "### NumPy data types\n",
    "\n",
    "NumPy offers a wider range of numerical data types than what is available in Python. Here's the list of most commonly used numeric data types in NumPy:\n",
    "\n",
    "- `int8`, `int16`, `int32`, `int64` - signed integer types with different bit sizes\n",
    "- `uint8`, `uint16`, `uint32`, `uint64` - unsigned integer types with different bit sizes\n",
    "- `float32`, `float64` - floating-point types with different precision levels\n",
    "- `complex64`, `complex128` - complex number types with different precision levels"
   ]
  },
  {
   "cell_type": "markdown",
   "metadata": {
    "slideshow": {
     "slide_type": "slide"
    }
   },
   "source": [
    "### check data type of a NumPy Array\n",
    "\n",
    "To check the data type of a NumPy array, we use the `dtype` attribute."
   ]
  },
  {
   "cell_type": "code",
   "execution_count": 41,
   "metadata": {},
   "outputs": [
    {
     "name": "stdout",
     "output_type": "stream",
     "text": [
      "int64\n"
     ]
    }
   ],
   "source": [
    "# create an array of integers \n",
    "array1 = np.array([2, 4, 6])\n",
    "\n",
    "# check the data type of array1\n",
    "print(array1.dtype) \n",
    "\n",
    "# Output: int64"
   ]
  },
  {
   "cell_type": "markdown",
   "metadata": {},
   "source": [
    "In the above example, we have used the dtype attribute to check the data type of the array1 array.\n",
    "\n",
    "Since array1 is an array of integers, the data type of array1 is inferred as int64 by default."
   ]
  },
  {
   "cell_type": "code",
   "execution_count": 44,
   "metadata": {
    "slideshow": {
     "slide_type": "slide"
    }
   },
   "outputs": [
    {
     "name": "stdout",
     "output_type": "stream",
     "text": [
      "int64\n",
      "float64\n",
      "complex128\n"
     ]
    }
   ],
   "source": [
    "# create an array of  integers\n",
    "int_array = np.array([-3, -1, 0, 1])\n",
    "\n",
    "# create an array of floating-point numbers\n",
    "float_array = np.array([0.1, 0.2, 0.3])\n",
    "\n",
    "# create an array of complex numbers\n",
    "complex_array = np.array([1+2j, 2+3j, 3+4j])\n",
    "\n",
    "# check the data type of int_array\n",
    "print(int_array.dtype)  # prints int64\n",
    "\n",
    "# check the data type of float_array\n",
    "print(float_array.dtype)  # prints float64\n",
    "\n",
    "# check the data type of complex_array\n",
    "print(complex_array.dtype)  # prints complex128"
   ]
  },
  {
   "cell_type": "markdown",
   "metadata": {
    "slideshow": {
     "slide_type": "slide"
    }
   },
   "source": [
    "Here, we have created types of arrays and checked the default data types of these arrays using the dtype attribute.\n",
    "\n",
    "- int_array - contains four integer elements whose default data type is int64\n",
    "- float_array - contains three floating-point numbers whose default data type is float64\n",
    "- complex_array - contains three complex numbers whose default data type is complex128"
   ]
  },
  {
   "cell_type": "markdown",
   "metadata": {
    "slideshow": {
     "slide_type": "slide"
    }
   },
   "source": [
    "### Creating NumPy Arrays with a defined data type\n",
    "\n",
    "In NumPy, we can create an array with a defined data type by passing the dtype parameter while calling the np.array() function. For example,"
   ]
  },
  {
   "cell_type": "code",
   "execution_count": 50,
   "metadata": {},
   "outputs": [
    {
     "name": "stdout",
     "output_type": "stream",
     "text": [
      "[ 1 -3  7] int32\n"
     ]
    }
   ],
   "source": [
    "# create an array of 32-bit integers\n",
    "array1 = np.array([1, -3, 7], dtype='int32')\n",
    "\n",
    "print(array1, array1.dtype)"
   ]
  },
  {
   "cell_type": "code",
   "execution_count": 54,
   "metadata": {
    "slideshow": {
     "slide_type": "slide"
    }
   },
   "outputs": [
    {
     "name": "stdout",
     "output_type": "stream",
     "text": [
      "[1 3 7] int8\n",
      "[2 4 6] uint16\n",
      "[1.2 2.3 3.4] float32\n",
      "[1.+2.j 2.+3.j 3.+4.j] complex64\n"
     ]
    }
   ],
   "source": [
    "# create an array of 8-bit integers\n",
    "array1 = np.array([1, 3, 7], dtype='int8')\n",
    "\n",
    "# create an array of unsigned 16-bit integers\n",
    "array2 = np.array([2, 4, 6], dtype='uint16')\n",
    "\n",
    "# create an array of 32-bit floating-point numbers\n",
    "array3 = np.array([1.2, 2.3, 3.4], dtype='float32')\n",
    "\n",
    "# create an array of 64-bit complex numbers\n",
    "array4 = np.array([1+2j, 2+3j, 3+4j], dtype='complex64')\n",
    "\n",
    "# print the arrays and their data types\n",
    "print(array1, array1.dtype)\n",
    "print(array2, array2.dtype)\n",
    "print(array3, array3.dtype)\n",
    "print(array4, array4.dtype)"
   ]
  },
  {
   "cell_type": "markdown",
   "metadata": {
    "slideshow": {
     "slide_type": "slide"
    }
   },
   "source": [
    "### NumPy Type Conversion\n",
    "\n",
    "In NumPy, we can convert the data type of an array using the astype() method. For example,"
   ]
  },
  {
   "cell_type": "code",
   "execution_count": 55,
   "metadata": {},
   "outputs": [
    {
     "name": "stdout",
     "output_type": "stream",
     "text": [
      "[1 3 5 7] int64\n",
      "[1. 3. 5. 7.] float64\n"
     ]
    }
   ],
   "source": [
    "# create an array of integers\n",
    "int_array = np.array([1, 3, 5, 7])\n",
    "\n",
    "# convert data type of int_array to float\n",
    "float_array = int_array.astype('float')\n",
    "\n",
    "# print the arrays and their data types\n",
    "print(int_array, int_array.dtype)\n",
    "print(float_array, float_array.dtype)"
   ]
  },
  {
   "cell_type": "markdown",
   "metadata": {},
   "source": [
    "Here, int_array.astype('float') converts the data type of int_array from int64 to float64 using astype()"
   ]
  },
  {
   "cell_type": "markdown",
   "metadata": {
    "slideshow": {
     "slide_type": "slide"
    }
   },
   "source": [
    "## NumPy Array attributes\n",
    "\n",
    "In NumPy, attributes are properties of NumPy arrays that provide information about the array's shape, size, data type, dimension, and so on.\n",
    "\n",
    "For example, to get the dimension of an array, we can use the ndim attribute.\n",
    "\n",
    "There are numerous attributes available in NumPy"
   ]
  },
  {
   "cell_type": "markdown",
   "metadata": {
    "slideshow": {
     "slide_type": "slide"
    }
   },
   "source": [
    "### Common NumPy Attributes\n",
    "\n",
    "Here are some of the commonly used NumPy attributes:\n",
    "\n",
    "| Attribute | Description |\n",
    "| --- | --- |\n",
    "| shape | The shape of the array. |\n",
    "| ndim | The number of dimensions in the array. |\n",
    "| size | The total number of elements in the array. |\n",
    "| dtype | The data type of the array. |\n",
    "| itemsize | The size of each element in the array in bytes. |\n",
    "| nbytes | The total number of bytes in the array. |\n",
    "| T | The transpose of the array. |\n",
    "| data | returns the buffer containing actual elements of the array in memory |"
   ]
  },
  {
   "cell_type": "code",
   "execution_count": 56,
   "metadata": {
    "slideshow": {
     "slide_type": "slide"
    }
   },
   "outputs": [
    {
     "name": "stdout",
     "output_type": "stream",
     "text": [
      "2\n"
     ]
    }
   ],
   "source": [
    "# create a 2-D array \n",
    "array1 = np.array([[2, 4, 6],\n",
    "                  [1, 3, 5]])\n",
    "\n",
    "# check the dimension of array1\n",
    "print(array1.ndim) \n",
    "\n",
    "# Output: 2"
   ]
  },
  {
   "cell_type": "markdown",
   "metadata": {},
   "source": [
    "In this example, array1.ndim returns the number of dimensions present in array1. As array1 is a 2D array, we got 2 as an output."
   ]
  },
  {
   "cell_type": "markdown",
   "metadata": {
    "slideshow": {
     "slide_type": "slide"
    }
   },
   "source": [
    "### NumPy Array size Attribute\n",
    "\n",
    "The size attribute returns the total number of elements in the given array.\n",
    "\n",
    "Let's see an example."
   ]
  },
  {
   "cell_type": "code",
   "execution_count": 57,
   "metadata": {},
   "outputs": [
    {
     "name": "stdout",
     "output_type": "stream",
     "text": [
      "6\n"
     ]
    }
   ],
   "source": [
    "array1 = np.array([[1, 2, 3],\n",
    "                 [6, 7, 8]])\n",
    "\n",
    "# return total number of elements in array1\n",
    "print(array1.size)\n",
    "\n",
    "# Output: 6"
   ]
  },
  {
   "cell_type": "markdown",
   "metadata": {},
   "source": [
    "In this example, array1.size returns the total number of elements in the array1 array, regardless of the number of dimensions.\n",
    "\n",
    "Since these are a total of 6 elements in array1, the size attribute returns 6."
   ]
  },
  {
   "cell_type": "markdown",
   "metadata": {
    "slideshow": {
     "slide_type": "slide"
    }
   },
   "source": [
    "### NumPy Array shape Attribute\n",
    "\n",
    "In NumPy, the shape attribute returns a tuple of integers that gives the size of the array in each dimension. For example,"
   ]
  },
  {
   "cell_type": "code",
   "execution_count": 58,
   "metadata": {},
   "outputs": [
    {
     "name": "stdout",
     "output_type": "stream",
     "text": [
      "(2, 3)\n"
     ]
    }
   ],
   "source": [
    "array1 = np.array([[1, 2, 3],\n",
    "                [6, 7, 8]])\n",
    "\n",
    "# return a tuple that gives size of array in each dimension\n",
    "print(array1.shape)\n",
    "\n",
    "# Output: (2,3)"
   ]
  },
  {
   "cell_type": "markdown",
   "metadata": {},
   "source": [
    "Here, array1 is a 2-D array that has 2 rows and 3 columns. So array1.shape returns the tuple (2,3) as an output."
   ]
  },
  {
   "cell_type": "markdown",
   "metadata": {
    "slideshow": {
     "slide_type": "slide"
    }
   },
   "source": [
    "### NumPy Array dtype Attribute\n",
    "\n",
    "We can use the dtype attribute to check the datatype of a NumPy array. For example,"
   ]
  },
  {
   "cell_type": "code",
   "execution_count": 59,
   "metadata": {},
   "outputs": [
    {
     "name": "stdout",
     "output_type": "stream",
     "text": [
      "int64\n"
     ]
    }
   ],
   "source": [
    "# create an array of integers \n",
    "array1 = np.array([6, 7, 8])\n",
    "\n",
    "# check the data type of array1\n",
    "print(array1.dtype) \n",
    "\n",
    "# Output: int64"
   ]
  },
  {
   "cell_type": "markdown",
   "metadata": {},
   "source": [
    "In the above example, the dtype attribute returns the data type of array1.\n",
    "\n",
    "Since array1 is an array of integers, the data type of array1 is inferred as int64 by default."
   ]
  },
  {
   "cell_type": "markdown",
   "metadata": {
    "slideshow": {
     "slide_type": "slide"
    }
   },
   "source": [
    "### NumPy Array itemsize Attribute\n",
    "\n",
    "In NumPy, the itemsize attribute determines size (in bytes) of each element in the array. For example,"
   ]
  },
  {
   "cell_type": "code",
   "execution_count": 60,
   "metadata": {},
   "outputs": [
    {
     "name": "stdout",
     "output_type": "stream",
     "text": [
      "8\n",
      "4\n"
     ]
    }
   ],
   "source": [
    "# create a default 1-D array of integers\n",
    "array1 = np.array([6, 7, 8, 10, 13])\n",
    "\n",
    "# create a 1-D array of 32-bit integers \n",
    "array2 = np.array([6, 7, 8, 10, 13], dtype=np.int32)\n",
    "\n",
    "# use of itemsize to determine size of each array element of array1 and array2\n",
    "print(array1.itemsize)  # prints 8\n",
    "print(array2.itemsize)  # prints 4"
   ]
  },
  {
   "cell_type": "markdown",
   "metadata": {
    "slideshow": {
     "slide_type": "slide"
    }
   },
   "source": [
    "Here,\n",
    "\n",
    "- array1 is an array containing 64-bit integers by default, which uses 8 bytes of memory per element. So, itemsize returns 8 as the size of each element.\n",
    "- array2 is an array of 32-bit integers, so each element in this array uses only 4 bytes of memory. So, itemsize returns 4 as the size of each element.\n"
   ]
  },
  {
   "cell_type": "markdown",
   "metadata": {
    "slideshow": {
     "slide_type": "slide"
    }
   },
   "source": [
    "### NumPy Array data Attribute\n",
    "\n",
    "In NumPy, we can get a buffer containing actual elements of the array in memory using the data attribute.\n",
    "\n",
    "In simpler terms, the data attribute is like a pointer to the memory location where the array's data is stored in the computer's memory.\n",
    "\n",
    "Let's see an example."
   ]
  },
  {
   "cell_type": "code",
   "execution_count": 61,
   "metadata": {},
   "outputs": [
    {
     "name": "stdout",
     "output_type": "stream",
     "text": [
      "\n",
      "Data of array1 is:  <memory at 0x10a0f8b80>\n",
      "Data of array2 is:  <memory at 0x105b3fb90>\n"
     ]
    }
   ],
   "source": [
    "array1 = np.array([6, 7, 8])\n",
    "array2 = np.array([[1, 2, 3],\n",
    "                   \t    [6, 7, 8]])\n",
    "\n",
    "# print memory address of array1's and array2's data\n",
    "print(\"\\nData of array1 is: \",array1.data)\n",
    "print(\"Data of array2 is: \",array2.data)"
   ]
  },
  {
   "cell_type": "markdown",
   "metadata": {},
   "source": [
    "Here, the data attribute returns the memory addresses of the data for array1 and array2 respectively."
   ]
  },
  {
   "cell_type": "markdown",
   "metadata": {
    "slideshow": {
     "slide_type": "slide"
    }
   },
   "source": [
    "## NumPy Input Output\n",
    "\n",
    "NumPy offers input/output (I/O) functions for loading and saving data to and from files.\n",
    "\n",
    "Input/output functions support a variety of file formats, including binary and text formats.\n",
    "\n",
    "- The binary format is designed for efficient storage and retrieval of large arrays.\n",
    "- The text format is more human-readable and can be easily edited in a text editor."
   ]
  },
  {
   "cell_type": "markdown",
   "metadata": {
    "slideshow": {
     "slide_type": "slide"
    }
   },
   "source": [
    "### Most Commonly Used I/O Functions\n",
    "\n",
    "Here are some of the commonly used NumPy Input/Output functions:\n",
    "\n",
    "| Function | Description |\n",
    "| --- | --- |\n",
    "| np.save() | Saves a NumPy array to a binary file. |\n",
    "| np.load() | Loads a NumPy array from a binary file. |\n",
    "| np.savetxt() | Saves data in a NumPy array to a text file. |\n",
    "| np.loadtxt() | Loads data from a text file and stores it in a NumPy array. |"
   ]
  },
  {
   "cell_type": "markdown",
   "metadata": {
    "slideshow": {
     "slide_type": "slide"
    }
   },
   "source": [
    "### NumPy save() Function\n",
    "\n",
    "In NumPy, the save() function is used to save an array to a binary file in the NumPy .npy format.\n",
    "\n",
    "Here's the syntax of the save() function,\n",
    "\n",
    "```python\n",
    "np.save(file, array)\n",
    "```\n",
    "\n",
    "- `file` - specifies the name of the file to which the array will be saved.\n",
    "- `array` - specifies the array to be saved."
   ]
  },
  {
   "cell_type": "code",
   "execution_count": 63,
   "metadata": {
    "slideshow": {
     "slide_type": "slide"
    }
   },
   "outputs": [],
   "source": [
    "# create a NumPy array\n",
    "array1 = np.array([[1, 3, 5], \n",
    "                   [7, 9, 11]])\n",
    "\n",
    "# save the array to a file\n",
    "np.save('./data/np_save/file1.npy', array1)"
   ]
  },
  {
   "cell_type": "markdown",
   "metadata": {},
   "source": [
    "Here, we saved the NumPy array named array1 to the binary file named file1.npy in our current directory."
   ]
  },
  {
   "cell_type": "markdown",
   "metadata": {
    "slideshow": {
     "slide_type": "slide"
    }
   },
   "source": [
    "### NumPy load() Function\n",
    "\n",
    "In the previous example, we saved an array to a binary file. Now we'll load that saved file using the load() function.\n",
    "\n",
    "Let's see an example."
   ]
  },
  {
   "cell_type": "code",
   "execution_count": 66,
   "metadata": {},
   "outputs": [
    {
     "name": "stdout",
     "output_type": "stream",
     "text": [
      "2\n"
     ]
    }
   ],
   "source": [
    "# load the saved NumPy array\n",
    "loaded_array = np.load('./data/np_save/file1.npy')\n",
    "\n",
    "# display the loaded array\n",
    "print((loaded_array.ndim))"
   ]
  },
  {
   "cell_type": "markdown",
   "metadata": {},
   "source": [
    "Here, we have used the load() function to read a binary file named file1.npy. This is the same file we created and saved using save() function in the last example."
   ]
  },
  {
   "cell_type": "markdown",
   "metadata": {
    "slideshow": {
     "slide_type": "slide"
    }
   },
   "source": [
    "NumPy savetxt() Function\n",
    "\n",
    "In NumPy, we use the savetxt() function to save an array to a text file.\n",
    "\n",
    "Here's the syntax of the savetxt() function:\n",
    "\n",
    "```python\n",
    "np.save(file, array)\n",
    "```\n",
    "\n",
    "file - specifies the file name\n",
    "array - specifies the NumPy array to be saved"
   ]
  },
  {
   "cell_type": "code",
   "execution_count": 68,
   "metadata": {
    "slideshow": {
     "slide_type": "slide"
    }
   },
   "outputs": [],
   "source": [
    "# create a NumPy array\n",
    "array2 = np.array([[1, 3, 5], \n",
    "                   [7, 9, 11]])\n",
    "\n",
    "# save the array to a file\n",
    "np.savetxt('./data/np_save/file2.txt', array2)"
   ]
  },
  {
   "cell_type": "markdown",
   "metadata": {},
   "source": [
    "The code above will save the NumPy array array2 to the text file named file2.txt in our current directory."
   ]
  },
  {
   "cell_type": "markdown",
   "metadata": {
    "slideshow": {
     "slide_type": "slide"
    }
   },
   "source": [
    "### NumPy loadtxt() Function\n",
    "\n",
    "We use the loadtxt() function to load the saved txt file.\n",
    "\n",
    "Let's see an example to load the file2.txt file that we saved earlier."
   ]
  },
  {
   "cell_type": "code",
   "execution_count": 69,
   "metadata": {},
   "outputs": [
    {
     "name": "stdout",
     "output_type": "stream",
     "text": [
      "[[ 1.  3.  5.]\n",
      " [ 7.  9. 11.]]\n"
     ]
    }
   ],
   "source": [
    "# load the saved NumPy array\n",
    "loaded_array = np.loadtxt('./data/np_save/file2.txt')\n",
    "\n",
    "# display the loaded array\n",
    "print(loaded_array)"
   ]
  },
  {
   "cell_type": "markdown",
   "metadata": {},
   "source": [
    "Here, we have used the loadtxt() function to load the text file named file2.txt that was previously created and saved using the savetxt() function.\n",
    "\n",
    "**Note :** The values in the loaded array have dots . because loadtxt() reads the values as floating point numbers by default."
   ]
  },
  {
   "cell_type": "markdown",
   "metadata": {
    "slideshow": {
     "slide_type": "slide"
    }
   },
   "source": [
    "## Numpy Array Indexing\n",
    "\n",
    "In NumPy, each element in an array is associated with a number. The number is known as an array index.\n",
    "\n",
    "Now, we'll see how we can access individual items from the array using the index number."
   ]
  },
  {
   "cell_type": "markdown",
   "metadata": {
    "slideshow": {
     "slide_type": "slide"
    }
   },
   "source": [
    "### Access Array Elements Using Index\n",
    "\n",
    "We can use indices to access individual elements of a NumPy array.\n",
    "\n",
    "Suppose we have a NumPy array:\n",
    "\n",
    "```python\n",
    "array1 = np.array([1, 3, 5, 7, 9])\n",
    "```\n",
    "\n",
    "Now, we can use the index number to access array elements as:\n",
    "\n",
    "array1[0] - to access the first element, i.e. 1\n",
    "array1[2] - to access the third element, i.e. 5\n",
    "array1[4] - to access the fifth element, i.e. 9"
   ]
  },
  {
   "cell_type": "code",
   "execution_count": 70,
   "metadata": {},
   "outputs": [
    {
     "name": "stdout",
     "output_type": "stream",
     "text": [
      "1\n",
      "5\n",
      "9\n"
     ]
    }
   ],
   "source": [
    "array1 = np.array([1, 3, 5, 7, 9])\n",
    "\n",
    "# access numpy elements using index\n",
    "print(array1[0])    # prints 1\n",
    "print(array1[2])    # prints 5\n",
    "print(array1[4])    # prints 9"
   ]
  },
  {
   "cell_type": "markdown",
   "metadata": {
    "slideshow": {
     "slide_type": "slide"
    }
   },
   "source": [
    "**Note :** Since the last element of array1 is at index 4, if we try to access the element beyond that, say index 5, we will get an index error: IndexError: index 5 is out of bounds for axis 0 with size 5"
   ]
  },
  {
   "cell_type": "markdown",
   "metadata": {
    "slideshow": {
     "slide_type": "slide"
    }
   },
   "source": [
    "### Modify Array Elements Using Index\n",
    "\n",
    "We can use indices to change the value of an element in a NumPy array. For example"
   ]
  },
  {
   "cell_type": "code",
   "execution_count": 71,
   "metadata": {},
   "outputs": [
    {
     "name": "stdout",
     "output_type": "stream",
     "text": [
      "After modifying first element: [12  4  6  8 10]\n",
      "After modifying third element: [12  4 14  8 10]\n"
     ]
    }
   ],
   "source": [
    "# create a numpy array\n",
    "numbers = np.array([2, 4, 6, 8, 10])\n",
    "\n",
    "# change the value of the first element\n",
    "numbers[0] = 12\n",
    "print(\"After modifying first element:\",numbers)    # prints [12 4 6 8 10]\n",
    "\n",
    "# change the value of the third element\n",
    "numbers[2] = 14\n",
    "print(\"After modifying third element:\",numbers)    # prints [12 4 14 8 10]"
   ]
  },
  {
   "cell_type": "markdown",
   "metadata": {},
   "source": [
    "In the above example, we have modified elements of the numbers array using array indexing.\n",
    "\n",
    "- numbers[0] = 12 - modifies the first element of numbers and sets its value to 12\n",
    "- numbers[2] = 14 - modifies the third element of numbers and sets its value to 14"
   ]
  },
  {
   "cell_type": "markdown",
   "metadata": {
    "slideshow": {
     "slide_type": "slide"
    }
   },
   "source": [
    "### NumPy Negative Array Indexing\n",
    "\n",
    "NumPy allows negative indexing for its array. The index of -1 refers to the last item, -2 to the second last item and so on."
   ]
  },
  {
   "cell_type": "code",
   "execution_count": 72,
   "metadata": {},
   "outputs": [
    {
     "name": "stdout",
     "output_type": "stream",
     "text": [
      "9\n",
      "7\n"
     ]
    }
   ],
   "source": [
    "# create a numpy array\n",
    "numbers = np.array([1, 3, 5, 7, 9])\n",
    "\n",
    "# access the last element\n",
    "print(numbers[-1])    # prints 9\n",
    "\n",
    "# access the second-to-last element\n",
    "print(numbers[-2])    # prints 7"
   ]
  },
  {
   "cell_type": "code",
   "execution_count": null,
   "metadata": {
    "slideshow": {
     "slide_type": "slide"
    }
   },
   "outputs": [],
   "source": [
    "# create a numpy array\n",
    "numbers = np.array([2, 3, 5, 7, 11])\n",
    "\n",
    "# modify the last element\n",
    "numbers[-1] = 13\n",
    "print(numbers)    # Output: [2 3 5 7 13]\n",
    "\n",
    "# modify the second-to-last element\n",
    "numbers[-2] = 17\n",
    "print(numbers)    # Output: [2 3 5 17 13]"
   ]
  },
  {
   "cell_type": "markdown",
   "metadata": {},
   "source": [
    "Here, numbers[-1] = 13 modifies the last element to 13 and numbers[-2] = 17 modifies the second-to-last element to 17.\n",
    "\n",
    "**Note :** Unlike regular indexing, negative indexing starts from -1 (not 0) and it starts counting from the end of the array"
   ]
  },
  {
   "cell_type": "markdown",
   "metadata": {
    "slideshow": {
     "slide_type": "slide"
    }
   },
   "source": [
    "### 2-D NumPy Array Indexing\n",
    "\n",
    "Array indexing in NumPy allows us to access and manipulate elements in a 2-D array.\n",
    "\n",
    "To access an element of array1, we need to specify the row index and column index of the element. Suppose we have following 2-D array,\n",
    "\n",
    "```python\n",
    "array1 = np.array([[1, 3, 5], \n",
    "                     [7, 9, 2], \n",
    "                     [4, 6, 8]])\n",
    "```\n",
    "\n",
    "Now, say we want to access the element in the third row and second column we specify the index as:\n",
    "\n",
    "```python\n",
    "array1[2, 1] # returns 6\n",
    "```\n",
    "\n",
    "Since we know indexing starts from 0. So to access the element in the third row and second column, we need to use index 2 for the third row and index 1 for the second column respectively."
   ]
  },
  {
   "cell_type": "code",
   "execution_count": 75,
   "metadata": {
    "slideshow": {
     "slide_type": "slide"
    }
   },
   "outputs": [
    {
     "name": "stdout",
     "output_type": "stream",
     "text": [
      "4th Element at 2nd Row: 15\n",
      "2nd Element at First Row: 3\n"
     ]
    }
   ],
   "source": [
    "# create a 2D array \n",
    "array1 = np.array([[1, 3, 5, 7], \n",
    "                       [9, 11, 13, 15],\n",
    "                       [2, 4, 6, 8]])\n",
    "\n",
    "\n",
    "# access the element at the second row and fourth column\n",
    "element1 = array1[1, 3]  # returns 15\n",
    "print(\"4th Element at 2nd Row:\",element1)  \n",
    "\n",
    "# access the element at the first row and second column\n",
    "element2 = array1[0, 1]  # returns 3\n",
    "print(\"2nd Element at First Row:\",element2) "
   ]
  },
  {
   "cell_type": "markdown",
   "metadata": {
    "slideshow": {
     "slide_type": "slide"
    }
   },
   "source": [
    "### Access Row or Column of 2D Array Using Indexing\n",
    "\n",
    "In NumPy, we can access specific rows or columns of a 2-D array using array indexing."
   ]
  },
  {
   "cell_type": "code",
   "execution_count": null,
   "metadata": {},
   "outputs": [],
   "source": [
    "# create a 2D array \n",
    "array1 = np.array([[1, 3, 5], \n",
    "             [7, 9, 2], \n",
    "             [4, 6, 8]])\n",
    "\n",
    "# access the second row of the array\n",
    "second_row = array1[1, :]\n",
    "print(\"Second Row:\", second_row)  # Output: [7 9 2]\n",
    "\n",
    "# access the third column of the array\n",
    "third_col = array1[:, 2]\n",
    "print(\"Third Column:\", third_col)  # Output: [5 2 8]"
   ]
  },
  {
   "cell_type": "markdown",
   "metadata": {
    "slideshow": {
     "slide_type": "slide"
    }
   },
   "source": [
    "Here,\n",
    "\n",
    "- array1[1, :] - access the second row of array1\n",
    "- array1[:, 2] - access the third column of array1"
   ]
  },
  {
   "cell_type": "markdown",
   "metadata": {
    "slideshow": {
     "slide_type": "slide"
    }
   },
   "source": [
    "### 3-D NumPy Array Indexing\n",
    "\n",
    "We learned how to access elements in a 2D array. We can also access elements in higher dimensional arrays.\n",
    "\n",
    "To access an element of a 3D array, we use three indices separated by commas.\n",
    "\n",
    "- The first index refers to the slice\n",
    "- The second index refers to the row\n",
    "- The third index refers to the column.\n",
    "\n",
    "**Note :** In 3D arrays, slice is a 2D array that is obtained by taking a subset of the elements in one of the dimensions."
   ]
  },
  {
   "cell_type": "code",
   "execution_count": 77,
   "metadata": {
    "slideshow": {
     "slide_type": "slide"
    }
   },
   "outputs": [
    {
     "name": "stdout",
     "output_type": "stream",
     "text": [
      "22\n"
     ]
    }
   ],
   "source": [
    "# create a 3D array with shape (2, 3, 4)\n",
    "array1 = np.array(\n",
    "[\n",
    "    [\n",
    "        [1, 2, 3, 4], \n",
    "        [5, 6, 7, 8], \n",
    "        [9, 10, 11, 12]\n",
    "    ],                 \n",
    "    [\n",
    "        [13, 14, 15, 16], \n",
    "        [17, 18, 19, 20], \n",
    "        [21, 22, 23, 24]\n",
    "    ]\n",
    "])\n",
    "\n",
    "# access a specific element of the array\n",
    "element = array1[1, 2, 1]\n",
    "\n",
    "# print the value of the element\n",
    "print(element) \n",
    " \n",
    "# Output: 22"
   ]
  },
  {
   "cell_type": "markdown",
   "metadata": {
    "slideshow": {
     "slide_type": "slide"
    }
   },
   "source": [
    "Here, we created a 3D array called array1 with shape (2, 3, 4). This array contains 2 2D arrays, each with 3 rows and 4 columns.\n",
    "\n",
    "Then, we used indexing to access a specific element of array1. Notice the code,\n",
    "\n",
    "```python\n",
    "array1[1, 2, 1]\n",
    "```\n",
    "\n",
    "Here,\n",
    "\n",
    "array1[1, , ,] - access the second 2D array, i.e.\n",
    "\n",
    "```python\n",
    "[13, 14, 15, 16], \n",
    "[17, 18, 19, 20], \n",
    "[21, 22, 23, 24]\n",
    "```\n",
    "\n",
    "array1[ ,2, ] - access the third row of the 2D array, i.e.\n",
    "\n",
    "```python\n",
    "[21, 22, 23, 24]\n",
    "```\n",
    "\n",
    "array1[ , ,1] - access the second element of the third row, i.e.\n",
    "\n",
    "```python\n",
    "[22]\n",
    "```"
   ]
  },
  {
   "cell_type": "markdown",
   "metadata": {
    "slideshow": {
     "slide_type": "slide"
    }
   },
   "source": [
    "## NumPy Array Slicing\n",
    "\n",
    "Array Slicing is the process of extracting a portion of an array.\n",
    "\n",
    "With slicing, we can easily access elements in the array. It can be done on one or more dimensions of a NumPy array."
   ]
  },
  {
   "cell_type": "markdown",
   "metadata": {
    "slideshow": {
     "slide_type": "-"
    }
   },
   "source": [
    "Syntax of NumPy Array Slicing\n",
    "\n",
    "Here's the syntax of array slicing in NumPy:\n",
    "\n",
    "```python\n",
    "array[start:stop:step]\n",
    "```"
   ]
  },
  {
   "cell_type": "markdown",
   "metadata": {
    "slideshow": {
     "slide_type": "slide"
    }
   },
   "source": [
    "Here,\n",
    "\n",
    "- start - index of the first element to be included in the slice\n",
    "- stop - index of the last element (exclusive)\n",
    "- step - step size between each element in the slice"
   ]
  },
  {
   "cell_type": "markdown",
   "metadata": {},
   "source": [
    "**Note :** When we slice arrays, the start index is inclusive but the stop index is exclusive.\n",
    "\n",
    "- If we omit start, slicing starts from the first element\n",
    "- If we omit stop, slicing continues up to the last element\n",
    "- If we omit step, default step size is 1"
   ]
  },
  {
   "cell_type": "markdown",
   "metadata": {
    "slideshow": {
     "slide_type": "slide"
    }
   },
   "source": [
    "## 1D NumPy Array Slicing\n",
    "\n",
    "In NumPy, it's possible to access the portion of an array using the slicing operator :. For example"
   ]
  },
  {
   "cell_type": "code",
   "execution_count": 78,
   "metadata": {
    "slideshow": {
     "slide_type": "slide"
    }
   },
   "outputs": [
    {
     "name": "stdout",
     "output_type": "stream",
     "text": [
      "[5 7 8 9]\n",
      "[1 5 8 2]\n",
      "[7 8 9 2 4 6]\n",
      "[1 3 5 7 8 9 2 4 6]\n"
     ]
    }
   ],
   "source": [
    "# create a 1D array \n",
    "array1 = np.array([1, 3, 5, 7, 8, 9, 2, 4, 6])\n",
    "\n",
    "# slice array1 from index 2 to index 6 (exclusive)\n",
    "print(array1[2:6])  # [5 7 8 9]\n",
    "\n",
    "# slice array1 from index 0 to index 8 (exclusive) with a step size of 2\n",
    "print(array1[0:8:2])  # [1 5 8 2]\n",
    "\n",
    "# slice array1 from index 3 up to the last element\n",
    "print(array1[3:])  # [7 8 9 2 4 6]\n",
    "\n",
    "# items from start to end\n",
    "print(array1[:])   # [1 3 5 7 8 9 2 4 6]"
   ]
  },
  {
   "cell_type": "markdown",
   "metadata": {
    "slideshow": {
     "slide_type": "slide"
    }
   },
   "source": [
    "In the above example, we have created the array named array1 with 9 elements.\n",
    "\n",
    "Then, we used the slicing operator : to slice array elements.\n",
    "\n",
    "- array1[2:6] - slices array1 from index 2 to index 6, not including index 6\n",
    "- array1[0:8:2] - slices array1 from index 0 to index 8, not including index 8\n",
    "- array1[3:] - slices array1 from index 3 up to the last element\n",
    "- array1[:] - returns all items from beginning to end"
   ]
  },
  {
   "cell_type": "markdown",
   "metadata": {
    "slideshow": {
     "slide_type": "slide"
    }
   },
   "source": [
    "Modify Array Elements Using Slicing\n",
    "\n",
    "With slicing, we can also modify array elements using:\n",
    "\n",
    "start parameter\n",
    "stop parameter\n",
    "start and stop parameter\n",
    "start, stop, and step parameter"
   ]
  },
  {
   "cell_type": "markdown",
   "metadata": {
    "slideshow": {
     "slide_type": "slide"
    }
   },
   "source": [
    "##### 1. Using start Parameter"
   ]
  },
  {
   "cell_type": "code",
   "execution_count": 79,
   "metadata": {},
   "outputs": [
    {
     "name": "stdout",
     "output_type": "stream",
     "text": [
      "[ 2  4  6 20 20 20]\n"
     ]
    }
   ],
   "source": [
    "# create a numpy array\n",
    "numbers = np.array([2, 4, 6, 8, 10, 12])\n",
    "\n",
    "# modify elements from index 3 onwards\n",
    "numbers[3:] = 20\n",
    "print(numbers)"
   ]
  },
  {
   "cell_type": "markdown",
   "metadata": {},
   "source": [
    "Here, numbers[3:] = 20 replaces all the elements from index 3 onwards with new value 20."
   ]
  },
  {
   "cell_type": "markdown",
   "metadata": {
    "slideshow": {
     "slide_type": "slide"
    }
   },
   "source": [
    "##### 2. Using stop Parameter"
   ]
  },
  {
   "cell_type": "code",
   "execution_count": 80,
   "metadata": {},
   "outputs": [
    {
     "name": "stdout",
     "output_type": "stream",
     "text": [
      "[40 40 40  8 10 12]\n"
     ]
    }
   ],
   "source": [
    "# create a numpy array\n",
    "numbers = np.array([2, 4, 6, 8, 10, 12])\n",
    "\n",
    "# modify the first 3 elements\n",
    "numbers[:3] = 40\n",
    "print(numbers)"
   ]
  },
  {
   "cell_type": "markdown",
   "metadata": {},
   "source": [
    "Here, numbers[:3] = 20 replaces the first 3 elements with the new value 40"
   ]
  },
  {
   "cell_type": "markdown",
   "metadata": {
    "slideshow": {
     "slide_type": "slide"
    }
   },
   "source": [
    "##### 3. Using start and stop parameter"
   ]
  },
  {
   "cell_type": "code",
   "execution_count": 81,
   "metadata": {},
   "outputs": [
    {
     "name": "stdout",
     "output_type": "stream",
     "text": [
      "[ 2  4 22 22 22 12]\n"
     ]
    }
   ],
   "source": [
    "# create a numpy array\n",
    "numbers = np.array([2, 4, 6, 8, 10, 12])\n",
    "\n",
    "# modify elements from indices 2 to 5\n",
    "numbers[2:5] = 22\n",
    "print(numbers)"
   ]
  },
  {
   "cell_type": "markdown",
   "metadata": {},
   "source": [
    "Here, numbers[2:5] = 22 selects elements from index 2 to index 4 and replaces them with new value 22."
   ]
  },
  {
   "cell_type": "markdown",
   "metadata": {
    "slideshow": {
     "slide_type": "slide"
    }
   },
   "source": [
    "##### 4. Using start, stop, and step parameter"
   ]
  },
  {
   "cell_type": "code",
   "execution_count": null,
   "metadata": {},
   "outputs": [],
   "source": [
    "# create a numpy array\n",
    "numbers = np.array([2, 4, 6, 8, 10, 12])\n",
    "\n",
    "# modify every second element from indices 1 to 5\n",
    "numbers[1:5:2] = 16\n",
    "print(numbers)\n",
    "\n",
    "# Output: [ 2 16  6 16 10 12]"
   ]
  },
  {
   "cell_type": "markdown",
   "metadata": {
    "slideshow": {
     "slide_type": "slide"
    }
   },
   "source": [
    "In the above example,\n",
    "\n",
    "```python\n",
    "numbers[1:5:2] = 16\n",
    "```\n",
    "\n",
    "modifies every second element from index 1 to index 5 with a new value 16."
   ]
  },
  {
   "cell_type": "markdown",
   "metadata": {
    "slideshow": {
     "slide_type": "slide"
    }
   },
   "source": [
    "### NumPy Array Negative Slicing\n",
    "\n",
    "We can also use negative indices to perform negative slicing in NumPy arrays. During negative slicing, elements are accessed from the end of the array."
   ]
  },
  {
   "cell_type": "code",
   "execution_count": null,
   "metadata": {
    "slideshow": {
     "slide_type": "slide"
    }
   },
   "outputs": [],
   "source": [
    "# create a numpy array\n",
    "numbers = np.array([2, 4, 6, 8, 10, 12])\n",
    "\n",
    "# slice the last 3 elements of the array\n",
    "# using the start parameter\n",
    "print(numbers[-3:])    # [8 10 12]\n",
    "\n",
    "# slice elements from 2nd-to-last to 4th-to-last element\n",
    "# using the start and stop parameters\n",
    "print(numbers[-5:-2])    # [4 6 8] \n",
    "\n",
    "# slice every other element of the array from the end\n",
    "# using the start, stop, and step parameters\n",
    "print(numbers[-1::-2])   # [12 8 4]"
   ]
  },
  {
   "cell_type": "markdown",
   "metadata": {
    "slideshow": {
     "slide_type": "slide"
    }
   },
   "source": [
    "Here,\n",
    "\n",
    "- numbers[-3:] - slices last 3 elements of numbers\n",
    "- numbers[-5:-2] - slices numbers elements from 5th last to 2nd last(excluded)\n",
    "- numbers[-1::-2] - slices every other numbers elements from the end with step size 2"
   ]
  },
  {
   "cell_type": "markdown",
   "metadata": {
    "slideshow": {
     "slide_type": "slide"
    }
   },
   "source": [
    "2D NumPy Array Slicing\n",
    "\n",
    "A 2D NumPy array can be thought of as a matrix, where each element has two indices, row index and column index.\n",
    "\n",
    "To slice a 2D NumPy array, we can use the same syntax as for slicing a 1D NumPy array. The only difference is that we need to specify a slice for each dimension of the array.\n",
    "\n",
    "Syntax of 2D NumPy Array Slicing\n",
    "\n",
    "```python \n",
    "array[row_start:row_stop:row_step, col_start:col_stop:col_step]\n",
    "```"
   ]
  },
  {
   "cell_type": "markdown",
   "metadata": {
    "slideshow": {
     "slide_type": "slide"
    }
   },
   "source": [
    "Here,\n",
    "\n",
    "- row_start,row_stop,row_step - specifies starting index, stopping index, and step size for the rows respectively\n",
    "- col_start,col_stop,col_step - specifies starting index, stopping index, and step size for the columns respectively"
   ]
  },
  {
   "cell_type": "code",
   "execution_count": 86,
   "metadata": {
    "slideshow": {
     "slide_type": "slide"
    }
   },
   "outputs": [
    {
     "name": "stdout",
     "output_type": "stream",
     "text": [
      "[[ 1  3]\n",
      " [ 9 11]]\n"
     ]
    }
   ],
   "source": [
    "# create a 2D array\n",
    "array1 = np.array([[1, 3, 5, 7], \n",
    "                   [9, 11, 13, 15]])\n",
    "\n",
    "print(array1[:2, :2])"
   ]
  },
  {
   "cell_type": "markdown",
   "metadata": {
    "slideshow": {
     "slide_type": "slide"
    }
   },
   "source": [
    "Here, the , in [:2, :2] separates the rows of the array.\n",
    "\n",
    "The first :2 returns first 2 rows i.e., entire array1. This results in\n",
    "\n",
    "````python\n",
    "[1  3]\n",
    "````\n",
    "\n",
    "The second :2 returns first 2 columns from the 2 rows. This results in\n",
    "\n",
    "```python\n",
    "[9 11]\n",
    "```"
   ]
  },
  {
   "cell_type": "code",
   "execution_count": 89,
   "metadata": {
    "slideshow": {
     "slide_type": "slide"
    }
   },
   "outputs": [
    {
     "name": "stdout",
     "output_type": "stream",
     "text": [
      "First Two Rows and Columns: \n",
      " [[ 1  3]\n",
      " [ 9 11]]\n",
      "Last two Rows and Columns: \n",
      " [[13 15]\n",
      " [ 6  8]]\n"
     ]
    }
   ],
   "source": [
    "# create a 2D array \n",
    "array1 = np.array([[1, 3, 5, 7], \n",
    "                      [9, 11, 13, 15],\n",
    "                      [2, 4, 6, 8]])\n",
    "\n",
    "\n",
    "# slice the array to get the first two rows and columns\n",
    "subarray1 = array1[:2, :2]\n",
    "\n",
    "# slice the array to get the last two rows and columns\n",
    "subarray2 = array1[1:3, 2:4]\n",
    "\n",
    "# print the subarrays\n",
    "print(\"First Two Rows and Columns: \\n\",subarray1)\n",
    "print(\"Last two Rows and Columns: \\n\",subarray2)"
   ]
  },
  {
   "cell_type": "markdown",
   "metadata": {
    "slideshow": {
     "slide_type": "slide"
    }
   },
   "source": [
    "Here,\n",
    "\n",
    "- array1[:2, :2] - slices array1 that starts at the first row and first column (default values), and ends at the second row and second column (exclusive)\n",
    "- array1[1:3, 2:4] - slices array1 that starts at the second row and third column (index 1 and 2), and ends at the third row and fourth column (index 2 and 3)"
   ]
  },
  {
   "cell_type": "markdown",
   "metadata": {
    "slideshow": {
     "slide_type": "slide"
    }
   },
   "source": [
    "## NumPy Array Reshaping\n",
    "\n",
    "NumPy array reshaping simply means changing the shape of an array without changing its data.\n",
    "\n",
    "Let's say we have a 1D array.\n",
    "\n",
    "```python\n",
    "np.array([1, 3, 5, 7, 2, 4, 6, 8])\n",
    "```\n",
    "\n",
    "We can reshape this 1D array into N-d array as\n",
    "\n",
    "```python\n",
    "# reshape 1D into 2D array \n",
    "# with 2 rows and 4 columns\n",
    "[[1 3 5 7]\n",
    " [2 4 6 8]]\n",
    "\n",
    "# reshape 1D into 3D array \n",
    "# with 2 rows, 2 columns, and 2 layers\n",
    "[[[1 3]\n",
    "  [5 7]]\n",
    "\n",
    " [[2 4]\n",
    "  [6 8]]]\n",
    "```\n",
    "\n",
    "Here, we can see that the 1D array has been reshaped into 2D and 3D arrays without altering its data."
   ]
  },
  {
   "cell_type": "markdown",
   "metadata": {
    "slideshow": {
     "slide_type": "slide"
    }
   },
   "source": [
    "### Syntax NumPy Array Reshaping\n",
    "\n",
    "The syntax of NumPy array reshaping is\n",
    "\n",
    "```python\n",
    "np.reshape(array, newshape, order = 'C')\n",
    "```\n",
    "\n",
    "Here,\n",
    "\n",
    "- array - input array that needs to be reshaped,\n",
    "- newshape - desired new shape of the array\n",
    "- order (optional) - specifies the order in which the elements of the array should be arranged. By default it is set to 'C'\n",
    "\n",
    "**Note :** The order argument can take one of three values: 'C', 'F', or 'A'. We will discuss them later."
   ]
  },
  {
   "cell_type": "markdown",
   "metadata": {
    "slideshow": {
     "slide_type": "slide"
    }
   },
   "source": [
    "## Reshape 1D Array to 2D Array in NumPy\n",
    "\n",
    "We use the reshape() function to reshape a 1D array into a 2D array. For example,"
   ]
  },
  {
   "cell_type": "code",
   "execution_count": 102,
   "metadata": {},
   "outputs": [
    {
     "name": "stdout",
     "output_type": "stream",
     "text": [
      "[[1 3 5 7]\n",
      " [2 4 6 8]]\n"
     ]
    }
   ],
   "source": [
    "array1 = np.array([1, 3, 5, 7, 2, 4, 6, 8])\n",
    "\n",
    "# reshape a 1D array into a 2D array \n",
    "# with 2 rows and 4 columns\n",
    "result = np.reshape(array1, (2, 4), order=\"C\")\n",
    "print(result)"
   ]
  },
  {
   "cell_type": "markdown",
   "metadata": {
    "slideshow": {
     "slide_type": "slide"
    }
   },
   "source": [
    "In the above example, we have used the reshape() function to change the shape of the 1D array named array1 into the 2D array. Notice the use of the reshape() function,\n",
    "\n",
    "```python\n",
    "np.reshape(array1, (2, 4))\n",
    "```\n",
    "\n",
    "Here, reshape() takes two parameters,\n",
    "\n",
    "- array1 - array to be reshaped\n",
    "- (2, 4) - new shape of array1 specified as a tuple with 2 rows and 4 columns."
   ]
  },
  {
   "cell_type": "code",
   "execution_count": 113,
   "metadata": {
    "slideshow": {
     "slide_type": "slide"
    }
   },
   "outputs": [
    {
     "name": "stdout",
     "output_type": "stream",
     "text": [
      "With 4 rows and 2 columns: \n",
      " [[1 3]\n",
      " [5 7]\n",
      " [2 4]\n",
      " [6 8]]\n",
      "\n",
      "With a single row: \n",
      " [[1 3 5 7 2 4 6 8]]\n"
     ]
    }
   ],
   "source": [
    "# reshape a 1D array into a 2D array \n",
    "# with 4 rows and 2 columns\n",
    "array1 = np.array([1, 3, 5, 7, 2, 4, 6, 8])\n",
    "result1 = np.reshape(array1, (4, 2))\n",
    "print(\"With 4 rows and 2 columns: \\n\",result1)\n",
    "\n",
    "\n",
    "# reshape a 1D array into a 2D array with a single row\n",
    "result2 = np.reshape(array1, (1, 8))\n",
    "print(\"\\nWith a single row: \\n\",result2)"
   ]
  },
  {
   "cell_type": "markdown",
   "metadata": {
    "slideshow": {
     "slide_type": "slide"
    }
   },
   "source": [
    "**Note :**\n",
    "\n",
    "- We need to make sure that the new shape in reshape() has the same number of elements as the original array, else a ValueError will be raised.\n",
    "- For example, reshaping an 8 element 1D array into a 2D array of 2 rows and 4 columns is possible, but reshaping it into a 2D array of 3 rows and 3 columns is not possible as that would require 3x3 = 9 elements."
   ]
  },
  {
   "cell_type": "markdown",
   "metadata": {
    "slideshow": {
     "slide_type": "slide"
    }
   },
   "source": [
    "## Reshape 1D Array to 3D Array in NumPy\n",
    "\n",
    "In NumPy, we can reshape a 1D NumPy array into a 3D array with a specified number of rows, columns, and layers. For example"
   ]
  },
  {
   "cell_type": "code",
   "execution_count": 92,
   "metadata": {},
   "outputs": [
    {
     "name": "stdout",
     "output_type": "stream",
     "text": [
      "1D to 3D Array: \n",
      " [[[1 3]\n",
      "  [5 7]]\n",
      "\n",
      " [[2 4]\n",
      "  [6 8]]]\n"
     ]
    }
   ],
   "source": [
    "# create a 1D array\n",
    "array1 = np.array([1, 3, 5, 7, 2, 4, 6, 8])\n",
    "\n",
    "# reshape the 1D array to a 3D array\n",
    "result = np.reshape(array1, (2, 2, 2))\n",
    "\n",
    "# print the new array\n",
    "print(\"1D to 3D Array: \\n\",result)"
   ]
  },
  {
   "cell_type": "markdown",
   "metadata": {},
   "source": [
    "Here, since there are 8 elements in the array1 array, np.reshape(array1, (2, 2, 2)) reshapes array1 into a 3D array with 2 rows, 2 columns and 2 layers."
   ]
  },
  {
   "cell_type": "markdown",
   "metadata": {
    "slideshow": {
     "slide_type": "slide"
    }
   },
   "source": [
    "### Flatten N-d Array to 1-D Array Using reshape()\n",
    "\n",
    "Flattening an array simply means converting a multidimensional array into a 1D array.\n",
    "\n",
    "To flatten an N-d array to a 1-D array we can use reshape() and pass \"-1\" as an argument."
   ]
  },
  {
   "cell_type": "code",
   "execution_count": 105,
   "metadata": {},
   "outputs": [
    {
     "name": "stdout",
     "output_type": "stream",
     "text": [
      "Flattened 2D array: [ 1  3  5  7  9 11]\n",
      "Flattened 3D array: [1 3 5 7 2 4 6 8]\n"
     ]
    }
   ],
   "source": [
    "# flatten 2D array to 1D\n",
    "array1 = np.array([[1, 3], [5, 7], [9, 11]])\n",
    "result1 = np.reshape(array1, -1)\n",
    "print(\"Flattened 2D array:\", result1)\n",
    "\n",
    "# flatten 3D array to 1D\n",
    "array2 = np.array([[[1, 3], [5, 7]], [[2, 4], [6, 8]]])\n",
    "result2 = np.reshape(array2, -1)\n",
    "print(\"Flattened 3D array:\", result2)"
   ]
  },
  {
   "cell_type": "markdown",
   "metadata": {},
   "source": [
    "Here, reshape(array1, -1) and reshape(array2, -1) convert 2-D array and 3-D array into a 1-D array by collapsing all dimensions."
   ]
  }
 ],
 "metadata": {
  "celltoolbar": "Slideshow",
  "kernelspec": {
   "display_name": "Python 3 (ipykernel)",
   "language": "python",
   "name": "python3"
  },
  "language_info": {
   "codemirror_mode": {
    "name": "ipython",
    "version": 3
   },
   "file_extension": ".py",
   "mimetype": "text/x-python",
   "name": "python",
   "nbconvert_exporter": "python",
   "pygments_lexer": "ipython3",
   "version": "3.10.13"
  }
 },
 "nbformat": 4,
 "nbformat_minor": 2
}
