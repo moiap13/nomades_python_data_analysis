{
 "cells": [
  {
   "cell_type": "markdown",
   "id": "ae751f04",
   "metadata": {
    "slideshow": {
     "slide_type": "slide"
    }
   },
   "source": [
    "# Python Operators\n",
    "\n",
    "Les opérateurs sont des symboles qui effectuent des opérations sur des valeurs et des variables. Par exemple, l'addition est un opérateur qui ajoute deux valeurs, comme 2 + 3 = 5."
   ]
  },
  {
   "cell_type": "markdown",
   "id": "97cee712",
   "metadata": {
    "slideshow": {
     "slide_type": "slide"
    }
   },
   "source": [
    "# Arithmetics Operators\n",
    "\n",
    "Les opérateurs arithmétiques sont utilisés avec des nombres (entiers et flottants) pour effectuer des opérations mathématiques Simple.\n",
    "\n",
    "| Opérateur | Nom | Exemple |\n",
    "| --- | --- | --- |\n",
    "| + | Addition | 5 + 2 = 7 |\n",
    "| - | Soustraction | 7 - 2 = 5 |\n",
    "| * | Multiplication | 7 * 2 = 14 |\n",
    "| / | Division | 7 / 2 = 3.5 |\n",
    "| // | Floor division | 7 // 2 = 3 |\n",
    "| % | Modulo | 7 % 2 = 1 |\n",
    "| ** | Exponentiation | 7 ** 2 = 49 |"
   ]
  },
  {
   "cell_type": "code",
   "execution_count": null,
   "id": "f49b9acf",
   "metadata": {
    "slideshow": {
     "slide_type": "slide"
    }
   },
   "outputs": [],
   "source": [
    "a = 7\n",
    "b = 2\n",
    "\n",
    "# addition\n",
    "print ('Sum: ', a + b)  \n",
    "\n",
    "# subtraction\n",
    "print ('Subtraction: ', a - b)   \n",
    "\n",
    "# multiplication\n",
    "print ('Multiplication: ', a * b)  \n",
    "\n",
    "# division\n",
    "print ('Division: ', a / b) \n",
    "\n",
    "# floor division\n",
    "print ('Floor Division: ', a // b)\n",
    "\n",
    "# modulo\n",
    "print ('Modulo: ', a % b)  \n",
    "\n",
    "# a to the power b\n",
    "print ('Power: ', a ** b)  "
   ]
  },
  {
   "cell_type": "markdown",
   "id": "df412cea",
   "metadata": {
    "slideshow": {
     "slide_type": "slide"
    }
   },
   "source": [
    "# Assignment Operators\n",
    "\n",
    "Les opérateurs d'affectation sont utilisés pour affecter des valeurs à des variables.\n",
    "\n",
    "| Opérateur | Exemple | Équivalent à |\n",
    "| --- | --- | --- |\n",
    "| = | x = 5 | x = 5 |\n",
    "| += | x += 5 | x = x + 5 |\n",
    "| -= | x -= 5 | x = x - 5 |\n",
    "| *= | x *= 5 | x = x * 5 |\n",
    "| /= | x /= 5 | x = x / 5 |\n",
    "| //= | x //= 5 | x = x // 5 |\n",
    "| %= | x %= 5 | x = x % 5 |\n",
    "| **= | x **= 5 | x = x ** 5 |"
   ]
  },
  {
   "cell_type": "code",
   "execution_count": null,
   "id": "79498da8",
   "metadata": {
    "slideshow": {
     "slide_type": "slide"
    }
   },
   "outputs": [],
   "source": [
    "# assign 10 to a\n",
    "a = 10\n",
    "\n",
    "# assign 5 to b\n",
    "b = 5 \n",
    "\n",
    "# assign the sum of a and b to a\n",
    "a *= b      # a = a + b\n",
    "\n",
    "print(a)"
   ]
  },
  {
   "cell_type": "markdown",
   "id": "6878e7cc",
   "metadata": {
    "slideshow": {
     "slide_type": "slide"
    }
   },
   "source": [
    "# Comparison Operators\n",
    "\n",
    "Les opérateurs de comparaison sont utilisés pour comparer deux valeurs. Il renvoie `True` ou `False` selon la condition.\n",
    "\n",
    "| Opérateur | Nom | Exemple |\n",
    "| --- | --- | --- |\n",
    "| == | Égal | 5 == 3 renvoie False |\n",
    "| != | Différent (pas égal) | 5 != 3 renvoie True |\n",
    "| > | Supérieur | 5 > 3 renvoie True |\n",
    "| < | Inférieur | 5 < 3 renvoie False |\n",
    "| >= | Supérieur ou égal | 5 >= 3 renvoie True |\n",
    "| <= | Inférieur ou égal | 5 <= 3 renvoie False |"
   ]
  },
  {
   "cell_type": "code",
   "execution_count": null,
   "id": "16998aeb",
   "metadata": {
    "slideshow": {
     "slide_type": "slide"
    }
   },
   "outputs": [],
   "source": [
    "a = 5\n",
    "b = 3\n",
    "\n",
    "# equal to operator\n",
    "print('a == b =', a == b)\n",
    "\n",
    "# not equal to operator\n",
    "print('a != b =', a != b)\n",
    "\n",
    "# greater than operator\n",
    "print('a > b =', a > b)\n",
    "\n",
    "# less than operator\n",
    "print('a < b =', a < b)\n",
    "\n",
    "# greater than or equal to operator\n",
    "print('a >= b =', a >= b)\n",
    "\n",
    "# less than or equal to operator\n",
    "print('a <= b =', a <= b)"
   ]
  },
  {
   "cell_type": "markdown",
   "id": "e38dc795",
   "metadata": {},
   "source": [
    "> **Note**: les opérateurs de comparaison sont utilisé dans les conditions (`if`, `while`)."
   ]
  },
  {
   "cell_type": "markdown",
   "id": "7d25765b",
   "metadata": {
    "slideshow": {
     "slide_type": "slide"
    }
   },
   "source": [
    "# Logical Operators\n",
    "\n",
    "Les opérateurs logiques sont utilisés pour combiner des conditions.\n",
    "\n",
    "| Opérateur | Nom | Exemple |\n",
    "| --- | --- | --- |\n",
    "| and | Et | x > 5 and x < 10 |\n",
    "| or | Ou | x > 5 or x < 10 |\n",
    "| not | Non | not(x > 5 and x < 10) |"
   ]
  },
  {
   "cell_type": "code",
   "execution_count": null,
   "id": "baada6f0",
   "metadata": {},
   "outputs": [],
   "source": [
    "# logical AND\n",
    "print(True and True)  # True    \n",
    "print(True and False) # False    \n",
    "print(\"test\", ((2==2) and ((3==5) and (8==8)))) # test False\n",
    "\n",
    "# logical OR \n",
    "print(True or False) # True\n",
    "print(True ^ False) # True\n",
    "\n",
    "# logical NOT\n",
    "print(not True) # False        "
   ]
  },
  {
   "cell_type": "markdown",
   "id": "6130d519",
   "metadata": {
    "slideshow": {
     "slide_type": "slide"
    }
   },
   "source": [
    "# Python Bitwise Operators\n",
    "\n",
    "Les opérateurs bit à bit agissent sur les bits binaires des nombres. Dans le tableau suivant: laissez `x = 10` et `y = 4`, nous avons:\n",
    "\n",
    "| Opérateur | Nom | Description | Exemple |\n",
    "| --- | --- | --- | --- |\n",
    "| & | ET | Définit chaque bit sur 1 si les deux bits sont 1 | x & y = 0 (0000 0000) |\n",
    "| \\| | OU | Définit chaque bit sur 1 si l'un des deux bits est 1 | x \\| y = 14 (0000 1110) |\n",
    "| ^ | XOR | Définit chaque bit sur 1 si un seul des deux bits est 1 | x ^ y = 14 (0000 1110) |\n",
    "| ~ | NON | Inverse tous les bits | ~x = -11 (1111 0101) |\n",
    "| << | Décalage à gauche | Décalage des bits vers la gauche, en poussant les bits de remplissage à droite | x << 2 = 40 (0010 1000) |\n",
    "| >> | Décalage à droite | Décalage des bits vers la droite, en poussant les bits de remplissage à gauche | x >> 2 = 2 (0000 0010) |"
   ]
  },
  {
   "cell_type": "code",
   "execution_count": null,
   "id": "05a7f996",
   "metadata": {
    "slideshow": {
     "slide_type": "slide"
    }
   },
   "outputs": [],
   "source": [
    "x = 10\n",
    "y = 13\n",
    "\n",
    "# bitwise AND\n",
    "print(x & y)   \n",
    "\n",
    "# bitwise OR\n",
    "print(x | y)    \n",
    "\n",
    "# bitwise NOT\n",
    "print(~x)       \n",
    "\n",
    "# bitwise XOR\n",
    "print(x ^ y)    \n",
    "\n",
    "# bitwise right shift\n",
    "print(x >> 2)   \n",
    "\n",
    "# bitwise left shift\n",
    "print(x << 1)   "
   ]
  },
  {
   "cell_type": "markdown",
   "id": "82fcd0a6",
   "metadata": {
    "slideshow": {
     "slide_type": "slide"
    }
   },
   "source": [
    "# Python Special Operators\n",
    "\n",
    "Python propose des opérateurs spéciaux comme l'opérateur d'identité, l'opérateur d'appartenance, etc. Ils sont utilisés pour des tâches très spécifiques."
   ]
  },
  {
   "cell_type": "markdown",
   "id": "a1df4fb3",
   "metadata": {
    "slideshow": {
     "slide_type": "slide"
    }
   },
   "source": [
    "## Identity Operators\n",
    "\n",
    "Les opérateurs d'indentitle sont utilisés pour vérifier si deux variables sont situées au même endroit de la mémoire. Il renvoie `True` ou `False` selon la condition.\n",
    "\n",
    "| Opérateur | Description | Exemple |\n",
    "| --- | --- | --- |\n",
    "| is | Renvoie `True` si les variables sont le même objet | x is y |\n",
    "| is not | Renvoie `True` si les variables ne sont pas le même objet | x is not y |"
   ]
  },
  {
   "cell_type": "code",
   "execution_count": null,
   "id": "ddffbf09",
   "metadata": {},
   "outputs": [],
   "source": [
    "x1 = \"antonio\"\n",
    "y1 = \"antonio\"\n",
    "y1 = \"python\"\n",
    "y12 = \"python\"\n",
    "x2 = 'Hello'\n",
    "y2 = 'Hello'\n",
    "x3 = [1,2,3]\n",
    "y3 = [1,2,3]\n",
    "print(x1 is y1)  # prints False\n",
    "print(y1 == y1)\n",
    "print(y12 is y2)  # prints True\n",
    "print(x3 is y3)  # prints False\n",
    "print(x3 == y3)"
   ]
  },
  {
   "cell_type": "markdown",
   "id": "a59cb517",
   "metadata": {
    "slideshow": {
     "slide_type": "slide"
    }
   },
   "source": [
    "## Membership Operators\n",
    "\n",
    "Les opérateurs d'appartenance sont utilisés pour vérifier si une valeur est présente dans une séquence `(string, list, tuple, set et dictionary)`. Il renvoie `True` ou `False` selon la condition.\n",
    "\n",
    "| Opérateur | Description | Exemple |\n",
    "| --- | --- | --- |\n",
    "| in | Renvoie `True` si une valeur est présente dans la séquence | x in y |\n",
    "| not in | Renvoie `True` si une valeur n'est pas présente dans la séquence | x not in y |"
   ]
  },
  {
   "cell_type": "code",
   "execution_count": null,
   "id": "d347b08b",
   "metadata": {
    "slideshow": {
     "slide_type": "slide"
    }
   },
   "outputs": [],
   "source": [
    "x = 'Hello world'\n",
    "y = {1:'a', 2:'b'}\n",
    "\n",
    "# check if 'H' is present in x string\n",
    "print('H' in x)  # prints True\n",
    "\n",
    "# check if 'hello' is present in x string\n",
    "print('hello' not in x)  # prints True\n",
    "\n",
    "# check if '1' key is present in y\n",
    "print(1 in y)  # prints True\n",
    "\n",
    "# check if 'a' key is present in y\n",
    "print('a' in y)  # prints False"
   ]
  },
  {
   "cell_type": "markdown",
   "id": "511ed4e6",
   "metadata": {
    "slideshow": {
     "slide_type": "slide"
    }
   },
   "source": [
    "# Python Operator Precedence\n",
    "\n",
    "L'ordre d'exécution des opérateurs est appelé précédence des opérateurs. Les opérateurs avec une précédence plus élevée sont exécutés en premier. Dans le tableau suivant, nous avons classé les opérateurs par ordre de précédence décroissante.\n",
    "\n",
    "[Source](https://www.programiz.com/python-programming/precedence-associativity)"
   ]
  },
  {
   "cell_type": "markdown",
   "id": "7dfc747d",
   "metadata": {
    "slideshow": {
     "slide_type": "slide"
    }
   },
   "source": [
    "| Operator | Description |\n",
    "| --- | --- |\n",
    "| () | Parentheses |\n",
    "| ** | Exponentiation (puissance) |\n",
    "| ~X +X -X | Complement, unary plus and minus (complément, plus et moins unaire) |\n",
    "| * / % // | Multiplication, division, modulo and floor division (multiplication, division, modulo et division entière) |\n",
    "| + - | Addition and subtraction (addition et soustraction) |\n",
    "| >> << | Right and left bitwise shift (décalage bit à droite et à gauche) |\n",
    "| & | Bitwise 'AND' |\n",
    "| ^ \\| | Bitwise exclusive `OR` and regular `OR` (bitwise exclusive `OR` et `OR` régulier) |\n",
    "| <= < > >= | Comparison operators (opérateurs de comparaison) |\n",
    "| <> == != | Equality operators (opérateurs d'égalité) |\n",
    "| = %= /= //= -= += *= **= | Assignment operators (opérateurs d'affectation) |\n",
    "| is is not | Identity operators (opérateurs d'identité) |\n",
    "| in not in | Membership operators (opérateurs d'appartenance) |\n",
    "| not or and | Logical operators (opérateurs logiques) |"
   ]
  },
  {
   "cell_type": "markdown",
   "id": "03d4ddaa",
   "metadata": {
    "slideshow": {
     "slide_type": "skip"
    }
   },
   "source": [
    "# Python Operator Overloading\n",
    "\n",
    "L'opérateur surchargeant signifie donner un sens aux opérateurs (+, /, -, *, etc.) lorsqu'ils sont appliqués à des opérandes de différents types.\n",
    "\n",
    "Par exemple, ajouter un entier à une chaîne, diviser un entier par un complexe, etc.\n",
    "\n",
    "Pour effectuer une surcharge d'opérateur, Python fournit certaines fonctions spéciales ou magiques qui sont appelées lorsque ces opérateurs sont appliqués. Par exemple, lorsque vous utilisez l'opérateur `+` pour ajouter deux nombres, l'opérateur `+` est appelé et ajoute les deux nombres. Mais si vous utilisez l'opérateur `+` pour ajouter deux objets, alors derrière les coulisses, la fonction spéciale `__add__` est appelée. Voyons un exemple:"
   ]
  },
  {
   "cell_type": "code",
   "execution_count": null,
   "id": "04d5d2fc",
   "metadata": {
    "slideshow": {
     "slide_type": "skip"
    }
   },
   "outputs": [],
   "source": [
    "class Point:\n",
    "    def __init__(self, x=0, y=0):\n",
    "        self.x = x\n",
    "        self.y = y\n",
    "\n",
    "    # définit la représentation de l'objet\n",
    "    def __str__(self):\n",
    "        return \"({0},{1})\".format(self.x, self.y)\n",
    "\n",
    "    def __add__(self, other):\n",
    "        x = self.x + other.x\n",
    "        y = self.y + other.y\n",
    "        return Point(x, y)\n",
    "\n",
    "\n",
    "p1 = Point(2, 3)\n",
    "p2 = Point(-1, 2)\n",
    "print(p1 + p2)  # affiche (1,5)"
   ]
  }
 ],
 "metadata": {
  "celltoolbar": "Slideshow",
  "kernelspec": {
   "display_name": "Python 3 (ipykernel)",
   "language": "python",
   "name": "python3"
  },
  "language_info": {
   "codemirror_mode": {
    "name": "ipython",
    "version": 3
   },
   "file_extension": ".py",
   "mimetype": "text/x-python",
   "name": "python",
   "nbconvert_exporter": "python",
   "pygments_lexer": "ipython3",
   "version": "3.11.6"
  }
 },
 "nbformat": 4,
 "nbformat_minor": 5
}
