{
 "cells": [
  {
   "cell_type": "markdown",
   "id": "61e60f74",
   "metadata": {
    "slideshow": {
     "slide_type": "slide"
    }
   },
   "source": [
    "# Python For loops\n",
    "\n",
    "En programmation, les boucles sont utilisées pour répéter un bloc de code autant de fois que nécessaire.\n",
    "\n",
    "En Python, nous avons deux types de boucles:\n",
    "- `for` loop, qui est utilisé pour itérer sur une séquence (liste, tuple, dictionnaire, ensemble, chaîne)\n",
    "- `while` loop, qui est utilisé pour exécuter un bloc de code tant qu'une condition est vraie"
   ]
  },
  {
   "cell_type": "code",
   "execution_count": null,
   "id": "8b28ca57",
   "metadata": {
    "slideshow": {
     "slide_type": "slide"
    }
   },
   "outputs": [],
   "source": [
    "languages = ['Swift', 'Python', 'Go', 'JavaScript']\n",
    "\n",
    "# run a loop for each item of the list\n",
    "for language in languages:\n",
    "    language = language.upper()\n",
    "    print(language)"
   ]
  },
  {
   "cell_type": "markdown",
   "id": "5e56b155",
   "metadata": {},
   "source": [
    "Dans l'exemple ci-dessus, nous avons utilisé une boucle `for` pour imprimer chaque élément de la liste `languages`."
   ]
  },
  {
   "cell_type": "markdown",
   "id": "5128671c",
   "metadata": {
    "slideshow": {
     "slide_type": "slide"
    }
   },
   "source": [
    "La syntaxe de la boucle `for` est la suivante:\n",
    "\n",
    "```python\n",
    "for element in sequence:\n",
    "    # do something with element\n",
    "```\n",
    "\n",
    "- `element` est une variable qui contient l'élément de la séquence à chaque itération (l'élément courrant)"
   ]
  },
  {
   "cell_type": "markdown",
   "id": "2261a0d3",
   "metadata": {
    "slideshow": {
     "slide_type": "slide"
    }
   },
   "source": [
    "## Flowchart de la boucle `for`\n",
    "\n",
    "![Flowchart de la boucle for](./imgs/python-for-loop.png)\n"
   ]
  },
  {
   "cell_type": "markdown",
   "id": "f2d1d4f4",
   "metadata": {
    "slideshow": {
     "slide_type": "slide"
    }
   },
   "source": [
    "### Exemple 1: boucler a travers une chaîne de caractères"
   ]
  },
  {
   "cell_type": "code",
   "execution_count": null,
   "id": "85c0ade1",
   "metadata": {},
   "outputs": [],
   "source": [
    "for x in '          ':\n",
    "    print(x, end=\" \")"
   ]
  },
  {
   "cell_type": "markdown",
   "id": "2184f5f5",
   "metadata": {
    "slideshow": {
     "slide_type": "slide"
    }
   },
   "source": [
    "# Python for loop with range()\n",
    "\n",
    "La fonction `range()` est utilisée pour générer une séquence de nombres.\n",
    "\n",
    "La syntaxe de la fonction `range()` est la suivante:\n",
    "\n",
    "```python\n",
    "range(start, stop, step)\n",
    "```\n",
    "\n",
    "- `start` est un nombre entier qui indique le début de la séquence (par défaut 0)\n",
    "- `stop` est un nombre entier qui indique la fin de la séquence (non inclus)\n",
    "- `step` est un nombre entier qui indique le pas de la séquence (par défaut 1)"
   ]
  },
  {
   "cell_type": "code",
   "execution_count": null,
   "id": "9d4dc6d1",
   "metadata": {
    "slideshow": {
     "slide_type": "slide"
    }
   },
   "outputs": [],
   "source": [
    "students = [\"Nicolas\", \"Geogios\", \"Homan\", \"Elena\"]\n",
    "for i in range(len(students)):\n",
    "    print(students[i])\n",
    "    \n",
    "for student in (students):\n",
    "    print(student)"
   ]
  },
  {
   "cell_type": "markdown",
   "id": "f8fdef91",
   "metadata": {
    "slideshow": {
     "slide_type": "slide"
    }
   },
   "source": [
    "# Python for loop sans accéder aux éléments\n",
    "\n",
    "Parfois, nous n'avons pas besoin d'accéder aux éléments de la séquence, nous voulons juste répéter un bloc de code un certain nombre de fois.\n",
    "\n",
    "Dans ce cas, nous pouvons utiliser la fonction `range()` avec la boucle `for` comme ceci:\n",
    "\n",
    "```python\n",
    "for _ in range(5):\n",
    "    # do something\n",
    "```"
   ]
  },
  {
   "cell_type": "code",
   "execution_count": null,
   "id": "4e53876c",
   "metadata": {},
   "outputs": [],
   "source": [
    "languages = ['Swift', 'Python', 'Go']\n",
    "\n",
    "for _ in True:\n",
    "    print('Hello')\n",
    "    print('Hi')\n",
    "    print(_)"
   ]
  },
  {
   "cell_type": "markdown",
   "id": "8cd64d1a",
   "metadata": {
    "slideshow": {
     "slide_type": "slide"
    }
   },
   "source": [
    "# Utilisation de la fonction enumerate()\n",
    "\n",
    "La fonction `enumerate()` est utilisée pour obtenir l'index et l'élément de la séquence à chaque itération. La syntaxe de la fonction `enumerate()` est la suivante:\n",
    "\n",
    "```python\n",
    "for index, element in enumerate(sequence):\n",
    "    # do something with index and element\n",
    "```\n",
    "\n",
    "- `index` est un nombre entier qui indique l'index de l'élément dans la séquence\n",
    "- `element` est l'élément courrant de la séquence"
   ]
  },
  {
   "cell_type": "code",
   "execution_count": null,
   "id": "63a90cde",
   "metadata": {
    "slideshow": {
     "slide_type": "slide"
    }
   },
   "outputs": [],
   "source": [
    "#print(languages)\n",
    "print(enumerate(languages))\n",
    "for i, language in enumerate(languages):\n",
    "    print(i, language)"
   ]
  },
  {
   "cell_type": "markdown",
   "id": "baec2a23",
   "metadata": {
    "slideshow": {
     "slide_type": "slide"
    }
   },
   "source": [
    "# Python for loop with else\n",
    "\n",
    "La clause `else` est facultative et sera exécutée si la boucle se termine sans interruption."
   ]
  },
  {
   "cell_type": "code",
   "execution_count": null,
   "id": "33c46017",
   "metadata": {},
   "outputs": [],
   "source": [
    "digits = [0, 1, 5]\n",
    "\n",
    "for i in digits:\n",
    "    print(i)\n",
    "    if i == 1:\n",
    "        break\n",
    "else:\n",
    "    print(\"No items left.\")"
   ]
  },
  {
   "cell_type": "markdown",
   "id": "d1cb68f6",
   "metadata": {},
   "source": [
    "> **Note:** La clause `else` ne sera pas exécutée si la boucle se termine avec `break`."
   ]
  }
 ],
 "metadata": {
  "celltoolbar": "Slideshow",
  "kernelspec": {
   "display_name": "Python 3 (ipykernel)",
   "language": "python",
   "name": "python3"
  },
  "language_info": {
   "codemirror_mode": {
    "name": "ipython",
    "version": 3
   },
   "file_extension": ".py",
   "mimetype": "text/x-python",
   "name": "python",
   "nbconvert_exporter": "python",
   "pygments_lexer": "ipython3",
   "version": "3.11.6"
  }
 },
 "nbformat": 4,
 "nbformat_minor": 5
}
