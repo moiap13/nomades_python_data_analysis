{
 "cells": [
  {
   "cell_type": "markdown",
   "id": "bc4829dc",
   "metadata": {
    "slideshow": {
     "slide_type": "slide"
    }
   },
   "source": [
    "# Python Basic Input and Output\n",
    "\n",
    "En python, on peut utiliser la fonction `print()` pour afficher du texte en output"
   ]
  },
  {
   "cell_type": "code",
   "execution_count": null,
   "id": "91ca7deb",
   "metadata": {},
   "outputs": [],
   "source": [
    "from time import sleep\n",
    "for i in range(10):\n",
    "    print(\"le chiffre actuel est :\", i, \"valeurs\", sep=\"\\t\", flush=True)\n",
    "    sleep(1)"
   ]
  },
  {
   "cell_type": "markdown",
   "id": "9f5aced5",
   "metadata": {
    "slideshow": {
     "slide_type": "slide"
    }
   },
   "source": [
    "Ici, `print()` prend un seul paramètre, qui est une chaîne de caractères (string). Cependant, `print()` attend **5** paramètres\n",
    "\n",
    "```python\n",
    "print(object=, sep=, end=, file=, flush=)\n",
    "```\n",
    "\n",
    "- `object` : la/les variable(s) à afficher\n",
    "- `sep (optionnel)` : le séparateur entre les `objects` (par défaut, un espace)\n",
    "- `end (optionnel)` : le caractère à ajouter à la fin de l'affichage (par défaut, un retour à la ligne)\n",
    "- `file (optionnel)` : le fichier dans lequel écrire (par défaut, la sortie standard `sys.stdout`)\n",
    "- `flush (optionnel)` : Valeur booléenne indiquant s'il faut vider le buffer après l'affichage (par défaut, `False`)"
   ]
  },
  {
   "cell_type": "markdown",
   "id": "b47942f8",
   "metadata": {
    "slideshow": {
     "slide_type": "slide"
    }
   },
   "source": [
    "### Exemple 1 : Python Print Statement\n",
    "\n",
    "Affichage de deux String, ici la valeur de `end` n'est pas renseignée, donc par défaut un retour à la ligne est ajouté à la fin de l'affichage. L'affichage des deux string se fera sur deux ligne différentes."
   ]
  },
  {
   "cell_type": "code",
   "execution_count": null,
   "id": "e6904ca3",
   "metadata": {},
   "outputs": [],
   "source": [
    "print('Good Morning!', end=\"\\t\")\n",
    "print('It is rainy today')"
   ]
  },
  {
   "cell_type": "markdown",
   "id": "5997ec3a",
   "metadata": {
    "slideshow": {
     "slide_type": "slide"
    }
   },
   "source": [
    "### Exemple 2 : Python Print() avec end\n",
    "\n",
    "Affichage de deux String, ici la valeur de `end` est renseignée, donc un espace est ajouté à la fin de l'affichage. L'affichage des deux string se fera sur une seule ligne."
   ]
  },
  {
   "cell_type": "code",
   "execution_count": null,
   "id": "902ea390",
   "metadata": {},
   "outputs": [],
   "source": [
    "# print with end whitespace\n",
    "print('Good Morning!', end= ' ')\n",
    "\n",
    "print('It is rainy today')"
   ]
  },
  {
   "cell_type": "markdown",
   "id": "39c87cd0",
   "metadata": {
    "slideshow": {
     "slide_type": "slide"
    }
   },
   "source": [
    "### Exemple 3: Python print() avec sep parameter\n",
    "\n",
    "Affichage de plusieurs objets, ici la valeur de `sep` est renseignée, donc un séparateur est ajouté entre les objets."
   ]
  },
  {
   "cell_type": "code",
   "execution_count": null,
   "id": "d29a537b",
   "metadata": {},
   "outputs": [],
   "source": [
    "def un():\n",
    "    return 1\n",
    "print('New Year', 3+13, un(), 'See you soon!', sep= '. ')"
   ]
  },
  {
   "cell_type": "markdown",
   "id": "0a87abe2",
   "metadata": {
    "slideshow": {
     "slide_type": "slide"
    }
   },
   "source": [
    "### Example: Print Python Variables and Literals\n",
    "\n",
    "On peut utiliser `print()` pour afficher des variables et des littéraux (littéraux = valeurs littérales, c'est à dire des valeurs qui ne sont pas stockées dans une variable)"
   ]
  },
  {
   "cell_type": "code",
   "execution_count": null,
   "id": "8e86f587",
   "metadata": {},
   "outputs": [],
   "source": [
    "number = -10.6\n",
    "\n",
    "name = \"Antonio\"\n",
    "\n",
    "# print literals     \n",
    "print(5)\n",
    "\n",
    "# print variables\n",
    "print(number)\n",
    "print(0xA)\n",
    "print(number, name, sep=\"\\n\")"
   ]
  },
  {
   "cell_type": "markdown",
   "id": "d6de2eed",
   "metadata": {
    "slideshow": {
     "slide_type": "slide"
    }
   },
   "source": [
    "### Exemple: Print avec concatenation de string\n",
    "\n",
    "On peut `join` 2 strings ensemble a l'intérieur de la fonction `print()` avec l'opérateur `+`"
   ]
  },
  {
   "cell_type": "code",
   "execution_count": null,
   "id": "f8275971",
   "metadata": {},
   "outputs": [],
   "source": [
    "print('Hello ' + 'World.')"
   ]
  },
  {
   "cell_type": "markdown",
   "id": "6e8ff5f8",
   "metadata": {
    "slideshow": {
     "slide_type": "slide"
    }
   },
   "source": [
    "# Output formatting\n",
    "\n",
    "On peut utiliser la fonction `format()` pour formater l'affichage de variables dans une chaîne de caractères."
   ]
  },
  {
   "cell_type": "code",
   "execution_count": null,
   "id": "474f9509",
   "metadata": {},
   "outputs": [],
   "source": [
    "x = 5\n",
    "y = 10\n",
    "z = 10.555555555\n",
    "\n",
    "print('The value of x is {} and y is {}'.format(x,y))\n",
    "print('I love {1} and {0}'.format('bread','butter'))\n",
    "\n",
    "# on peut aussi formatter l'affichage des variables\n",
    "print('{greeting}, Hello {name} '.format(greeting = 'Good Morning', name = 'John'))\n",
    "\n",
    "\n",
    "# on peut aussi formatter les nombres a afficher\n",
    "print(\"z is %0.2f\"%(z))\n",
    "print(\"z is {0:.2f}\".format(z))"
   ]
  },
  {
   "cell_type": "markdown",
   "id": "34d8f326",
   "metadata": {
    "slideshow": {
     "slide_type": "slide"
    }
   },
   "source": [
    "## F-Strings: A New and Improved Way to Format Strings in Python\n",
    "\n",
    "Depuis Python 3.6, on peut utiliser les `f-strings` pour formater l'affichage de variables dans une chaîne de caractères."
   ]
  },
  {
   "cell_type": "code",
   "execution_count": null,
   "id": "c40f6d65",
   "metadata": {},
   "outputs": [],
   "source": [
    "# old style formatting\n",
    "x = 12.3456789\n",
    "print(f'The value of x is {{{x:.2f}}}')\n",
    "\n",
    "# new style formatting\n",
    "print('The value of x is {:.2f}'.format(x))\n",
    "print(f\"The value of x is {x:.2f}\")\n",
    "\n",
    "name = 'John'\n",
    "greeting = 'Good Morning'\n",
    "\n",
    "print(f\"Hello {name.upper()}, {greeting}\")"
   ]
  },
  {
   "cell_type": "markdown",
   "id": "97e9820c",
   "metadata": {
    "slideshow": {
     "slide_type": "slide"
    }
   },
   "source": [
    "# Python Input\n",
    "\n",
    "En python, il est possible de demander à l'utilisateur d'entrer une valeur avec la fonction `input()`"
   ]
  },
  {
   "cell_type": "code",
   "execution_count": null,
   "id": "2598bfc6",
   "metadata": {},
   "outputs": [],
   "source": [
    "hello = input('Enter your name: ')\n",
    "print(type(hello))"
   ]
  },
  {
   "cell_type": "markdown",
   "id": "d16d6bd5",
   "metadata": {},
   "source": [
    "Ici, on affichera le string: 'Enter your name' et l'utilisateur pourra entrer une valeur. Cette valeur sera stockée dans la variable `user_input`  "
   ]
  },
  {
   "cell_type": "code",
   "execution_count": null,
   "id": "b5d5843b",
   "metadata": {
    "slideshow": {
     "slide_type": "slide"
    }
   },
   "outputs": [],
   "source": [
    "# using input() to take user input\n",
    "num = input('Enter a number: ')\n",
    "print('You Entered:', num)\n",
    "print('Data type of num:', type(num))\n",
    "\n",
    "num_int = int(input('Enter a number: '))\n",
    "print(f'You entered: {num_int}')\n",
    "print(f'Data type of num_int: {type(num_int)}')"
   ]
  }
 ],
 "metadata": {
  "celltoolbar": "Slideshow",
  "kernelspec": {
   "display_name": "Python 3 (ipykernel)",
   "language": "python",
   "name": "python3"
  },
  "language_info": {
   "codemirror_mode": {
    "name": "ipython",
    "version": 3
   },
   "file_extension": ".py",
   "mimetype": "text/x-python",
   "name": "python",
   "nbconvert_exporter": "python",
   "pygments_lexer": "ipython3",
   "version": "3.11.6"
  }
 },
 "nbformat": 4,
 "nbformat_minor": 5
}
