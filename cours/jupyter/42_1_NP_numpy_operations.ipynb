{
 "cells": [
  {
   "cell_type": "markdown",
   "metadata": {
    "slideshow": {
     "slide_type": "slide"
    }
   },
   "source": [
    "# NumPy Arithmetic Array Operations"
   ]
  },
  {
   "cell_type": "markdown",
   "metadata": {
    "slideshow": {
     "slide_type": "slide"
    }
   },
   "source": [
    "## NumPy Arithmetic Array Operations\n",
    "\n",
    "NumPy provides a wide range of operations that can perform on arrays, including arithmetic operations.\n",
    "\n",
    "NumPy's arithmetic operations are widely used due to their ability to perform simple and efficient calculations on arrays.\n",
    "\n",
    "In this tutorial, we will explore some commonly used arithmetic operations in NumPy and learn how to use them to manipulate arrays."
   ]
  },
  {
   "cell_type": "markdown",
   "metadata": {
    "slideshow": {
     "slide_type": "slide"
    }
   },
   "source": [
    "## List of Arithmetic Operations\n",
    "\n",
    "Here's a list of various arithmetic operations along with their associated operators and built-in functions:\n",
    "\n",
    "| Element-wise Operation | Operator | Function |\n",
    "| ---------------------- | -------- | -------- |\n",
    "| Addition               | `+`      | `np.add(a, b)` |\n",
    "| Subtraction            | `-`      | `np.subtract(a, b)` |\n",
    "| Multiplication         | `*`      | `np.multiply(a, b)` |\n",
    "| Division               | `/`      | `np.divide(a, b)` |\n",
    "| Floor Division         | `//`     | `np.floor_divide(a, b)` |\n",
    "| Power                  | `**`     | `np.power(a, b)` |\n",
    "| Modulus                | `%`      | `np.mod(a, b)` |\n",
    "| Trigonometric Functions | `sin`    | `np.sin(a)` |\n",
    "\n",
    "To perform each operation, we can either use the associated operator or built-in functions. For example, to perform addition, we can either use the + operator or the add() built-in function.\n",
    "\n",
    "Next, we will see examples of each of these operations."
   ]
  },
  {
   "cell_type": "markdown",
   "metadata": {
    "slideshow": {
     "slide_type": "slide"
    }
   },
   "source": [
    "### NumPy Array Element-Wise Addition\n",
    "\n",
    "As mentioned earlier, we can use the both + operator and the built-in function add() to perform element-wise addition between two NumPy arrays."
   ]
  },
  {
   "cell_type": "code",
   "execution_count": 8,
   "metadata": {},
   "outputs": [
    {
     "name": "stdout",
     "output_type": "stream",
     "text": [
      "Using the + operator: [ 3  7 11 15]\n",
      "Using the add() function: [ 3  7 11 15]\n"
     ]
    }
   ],
   "source": [
    "first_array = np.array([1, 3, 5, 7])\n",
    "second_array = np.array([2, 4, 6, 8])\n",
    "\n",
    "# using the + operator\n",
    "result1 = first_array + second_array\n",
    "print(\"Using the + operator:\",result1) \n",
    "\n",
    "# using the add() function\n",
    "result2 = np.add(first_array, second_array)\n",
    "print(\"Using the add() function:\",result2) "
   ]
  },
  {
   "cell_type": "markdown",
   "metadata": {
    "slideshow": {
     "slide_type": "slide"
    }
   },
   "source": [
    "In the above example, first we created two arrays named: first_array and second_array.\n",
    "\n",
    "Then, we used the + operator and the add() function to perform element-wise addition respectively.\n",
    "\n",
    "As we can see, both + and add() give the same result."
   ]
  },
  {
   "cell_type": "markdown",
   "metadata": {
    "slideshow": {
     "slide_type": "slide"
    }
   },
   "source": [
    "### NumPy Array Element-Wise Subtraction\n",
    "\n",
    "In NumPy, we can either use the - operator or the subtract() function to perform element-wise subtraction between two NumPy arrays."
   ]
  },
  {
   "cell_type": "code",
   "execution_count": 9,
   "metadata": {},
   "outputs": [
    {
     "name": "stdout",
     "output_type": "stream",
     "text": [
      "Using the - operator: [ 1  5 19 65]\n",
      "Using the subtract() function: [ 1  5 19 65]\n"
     ]
    }
   ],
   "source": [
    "first_array = np.array([3, 9, 27, 81])\n",
    "second_array = np.array([2, 4, 8, 16])\n",
    "\n",
    "# using the - operator\n",
    "result1 = first_array - second_array\n",
    "print(\"Using the - operator:\",result1) \n",
    "\n",
    "# using the subtract() function\n",
    "result2 = np.subtract(first_array, second_array)\n",
    "print(\"Using the subtract() function:\",result2) "
   ]
  },
  {
   "cell_type": "markdown",
   "metadata": {},
   "source": [
    "Here, we have performed subtraction between first_array and second_array using both the - operator and the subtract() function."
   ]
  },
  {
   "cell_type": "markdown",
   "metadata": {
    "slideshow": {
     "slide_type": "slide"
    }
   },
   "source": [
    "## NumPy Array Element-Wise Multiplication\n",
    "\n",
    "For element-wise multiplication, we can use the * operator or the multiply() function. "
   ]
  },
  {
   "cell_type": "code",
   "execution_count": 10,
   "metadata": {},
   "outputs": [
    {
     "name": "stdout",
     "output_type": "stream",
     "text": [
      "Using the * operator: [ 2 12 30 56]\n",
      "Using the multiply() function: [ 2 12 30 56]\n"
     ]
    }
   ],
   "source": [
    "first_array = np.array([1, 3, 5, 7])\n",
    "second_array = np.array([2, 4, 6, 8])\n",
    "\n",
    "# using the * operator\n",
    "result1 = first_array * second_array\n",
    "print(\"Using the * operator:\",result1) \n",
    "\n",
    "# using the multiply() function\n",
    "result2 = np.multiply(first_array, second_array)\n",
    "print(\"Using the multiply() function:\",result2) "
   ]
  },
  {
   "cell_type": "markdown",
   "metadata": {
    "slideshow": {
     "slide_type": "slide"
    }
   },
   "source": [
    "Here, we have used * and multiply() to demonstrate two ways of multiplying the two arrays element-wise."
   ]
  },
  {
   "cell_type": "markdown",
   "metadata": {
    "slideshow": {
     "slide_type": "slide"
    }
   },
   "source": [
    "## NumPy Array Element-Wise Division\n",
    "\n",
    "We can use either the / operator or the divide() function to perform element-wise division between two numpy arrays."
   ]
  },
  {
   "cell_type": "code",
   "execution_count": null,
   "metadata": {},
   "outputs": [],
   "source": [
    "first_array = np.array([1, 2, 3])\n",
    "second_array = np.array([4, 5, 6])\n",
    "\n",
    "# using the / operator\n",
    "result1 = first_array / second_array\n",
    "print(\"Using the / operator:\",result1) \n",
    "\n",
    "# using the divide() function\n",
    "result2 = np.divide(first_array, second_array)\n",
    "print(\"Using the divide() function:\",result2) "
   ]
  },
  {
   "cell_type": "markdown",
   "metadata": {},
   "source": [
    "**Note :** Here, we can see both / and divide() give the same result."
   ]
  },
  {
   "cell_type": "markdown",
   "metadata": {
    "slideshow": {
     "slide_type": "slide"
    }
   },
   "source": [
    "## NumPy Array Element-Wise Exponentiation\n",
    "\n",
    "Array exponentiation refers to raising each element of an array to a given power.\n",
    "\n",
    "In NumPy, we can use either the ** operator or the power() function to perform the element-wise exponentiation operation."
   ]
  },
  {
   "cell_type": "code",
   "execution_count": 11,
   "metadata": {},
   "outputs": [
    {
     "name": "stdout",
     "output_type": "stream",
     "text": [
      "Using the ** operator: [1 4 9]\n",
      "Using the power() function: [1 4 9]\n"
     ]
    }
   ],
   "source": [
    "array1 = np.array([1, 2, 3])\n",
    "\n",
    "# using the ** operator\n",
    "result1 = array1 ** 2\n",
    "print(\"Using the ** operator:\",result1) \n",
    "\n",
    "# using the power() function\n",
    "result2 = np.power(array1, 2)\n",
    "print(\"Using the power() function:\",result2)"
   ]
  },
  {
   "cell_type": "markdown",
   "metadata": {},
   "source": [
    "In the above example, we have used the ** operator and the power() function to perform exponentiation operation respectively.\n",
    "\n",
    "Here, ** and power() both raise each element of array1 to the power of 2."
   ]
  },
  {
   "cell_type": "markdown",
   "metadata": {
    "slideshow": {
     "slide_type": "slide"
    }
   },
   "source": [
    "## NumPy Array Element-Wise Modulus\n",
    "\n",
    "We can perform a modulus operation in NumPy arrays using the % operator or the mod() function.\n",
    "\n",
    "This operation calculates the remainder of element-wise division between two arrays."
   ]
  },
  {
   "cell_type": "code",
   "execution_count": 15,
   "metadata": {},
   "outputs": [
    {
     "name": "stdout",
     "output_type": "stream",
     "text": [
      "Using the % operator: [1 0 6]\n",
      "Using the mod() function: [1 0 6]\n"
     ]
    }
   ],
   "source": [
    "first_array = np.array([9, 10, 20])\n",
    "second_array = np.array([2, 5, 7])\n",
    "\n",
    "# using the % operator\n",
    "result1 = first_array % second_array\n",
    "print(\"Using the % operator:\",result1) \n",
    "\n",
    "# using the mod() function\n",
    "result2 = np.mod(first_array, second_array)\n",
    "print(\"Using the mod() function:\",result2)"
   ]
  },
  {
   "cell_type": "markdown",
   "metadata": {},
   "source": [
    "Here, we have performed the element-wise modulus operation using both the % operator and the mod() function."
   ]
  },
  {
   "cell_type": "markdown",
   "metadata": {
    "slideshow": {
     "slide_type": "slide"
    }
   },
   "source": [
    "## NumPy Array Functions\n",
    "\n",
    "NumPy array functions are the built-in functions provided by NumPy that allow us to create and manipulate arrays, and perform different operations on them.\n",
    "\n",
    "We will discuss some of the most commonly used NumPy array functions."
   ]
  },
  {
   "cell_type": "markdown",
   "metadata": {
    "slideshow": {
     "slide_type": "slide"
    }
   },
   "source": [
    "Common NumPy Array Functions\n",
    "\n",
    "There are many NumPy array functions available but here are some of the most commonly used ones.\n",
    "\n",
    "| Array Operations | Functions |\n",
    "| ---------------- | --------- |\n",
    "| Array Creation Functions | np.array(), np.zeros(), np.ones(), np.empty(), etc. |\n",
    "| Array Manipulation Functions | np.reshape(), np.transpose(), etc. |\n",
    "| Array Mathematical Functions | np.add(), np.subtract(), np.sqrt(), np.power(), etc. |\n",
    "| Array Statistical Functions | np.median(), np.mean(), np.std(), and np.var() |\n",
    "| Array Input and Output Functions | np.save(), np.load(), etc. |"
   ]
  },
  {
   "cell_type": "markdown",
   "metadata": {
    "slideshow": {
     "slide_type": "slide"
    }
   },
   "source": [
    "### NumPy Array Creation Functions\n",
    "\n",
    "Array creation functions allow us to create new NumPy arrays."
   ]
  },
  {
   "cell_type": "code",
   "execution_count": null,
   "metadata": {},
   "outputs": [],
   "source": [
    "# create an array using np.array()\n",
    "array1 = np.array([1, 3, 5])\n",
    "print(\"np.array():\\n\", array1)\n",
    "\n",
    "# create an array filled with zeros using np.zeros()\n",
    "array2 = np.zeros((3, 3))\n",
    "print(\"\\nnp.zeros():\\n\", array2)\n",
    "\n",
    "# create an array filled with ones using np.ones()\n",
    "array3 = np.ones((2, 4))\n",
    "print(\"\\nnp.ones():\\n\", array3)"
   ]
  },
  {
   "cell_type": "markdown",
   "metadata": {
    "slideshow": {
     "slide_type": "slide"
    }
   },
   "source": [
    "Here,\n",
    "\n",
    "- np.array() - creates an array from a Python List\n",
    "- np.zeros() - creates an array filled with zeros of the specified shape\n",
    "- np.ones() - creates an array filled with ones of the specified shape"
   ]
  },
  {
   "cell_type": "markdown",
   "metadata": {
    "slideshow": {
     "slide_type": "slide"
    }
   },
   "source": [
    "### NumPy Array Manipulation Functions\n",
    "\n",
    "NumPy array manipulation functions allow us to modify or rearrange NumPy arrays."
   ]
  },
  {
   "cell_type": "code",
   "execution_count": 19,
   "metadata": {},
   "outputs": [
    {
     "name": "stdout",
     "output_type": "stream",
     "text": [
      "Original array:\n",
      " [ 1  3  5  7  9 11]\n",
      "\n",
      "Reshaped array:\n",
      " [[ 1  3  5]\n",
      " [ 7  9 11]]\n",
      "\n",
      "Transposed array:\n",
      " [[ 1  7]\n",
      " [ 3  9]\n",
      " [ 5 11]]\n",
      "\n",
      "Transposed array:\n",
      " [[ 1  7]\n",
      " [ 3  9]\n",
      " [ 5 11]]\n"
     ]
    }
   ],
   "source": [
    "# create a 1D array\n",
    "array1 = np.array([1, 3, 5, 7, 9, 11])\n",
    "\n",
    "# reshape the 1D array into a 2D array\n",
    "array2 = np.reshape(array1, (2, 3))\n",
    "\n",
    "# transpose the 2D array\n",
    "array3 = np.transpose(array2)\n",
    "\n",
    "print(\"Original array:\\n\", array1)\n",
    "print(\"\\nReshaped array:\\n\", array2)\n",
    "print(\"\\nTransposed array:\\n\", array2.T)\n",
    "print(\"\\nTransposed array:\\n\", array3)"
   ]
  },
  {
   "cell_type": "markdown",
   "metadata": {
    "slideshow": {
     "slide_type": "slide"
    }
   },
   "source": [
    "In this example,\n",
    "\n",
    "- np.reshape(array1, (2, 3)) - reshapes array1 into 2D array with shape (2,3)\n",
    "- np.transpose(array2) - transposes 2D array array2"
   ]
  },
  {
   "cell_type": "markdown",
   "metadata": {
    "slideshow": {
     "slide_type": "slide"
    }
   },
   "source": [
    "### NumPy Array Mathematical Functions\n",
    "\n",
    "In NumPy, there are tons of mathematical functions to perform on arrays."
   ]
  },
  {
   "cell_type": "code",
   "execution_count": null,
   "metadata": {},
   "outputs": [],
   "source": [
    "# create two arrays\n",
    "array1 = np.array([1, 2, 3, 4, 5])\n",
    "array2 = np.array([4, 9, 16, 25, 36])\n",
    "\n",
    "# add the two arrays element-wise\n",
    "arr_sum = np.add(array1, array2)\n",
    "\n",
    "# subtract the array2 from array1 element-wise\n",
    "arr_diff = np.subtract(array1, array2)\n",
    "\n",
    "# compute square root of array2 element-wise\n",
    "arr_sqrt = np.sqrt(array2)\n",
    "\n",
    "\n",
    "print(\"\\nSum of arrays:\\n\", arr_sum)\n",
    "print(\"\\nDifference of arrays:\\n\", arr_diff)\n",
    "print(\"\\nSquare root of first array:\\n\", arr_sqrt)"
   ]
  },
  {
   "cell_type": "markdown",
   "metadata": {
    "slideshow": {
     "slide_type": "slide"
    }
   },
   "source": [
    "### NumPy Array Statistical Functions\n",
    "\n",
    "NumPy provides us with various statistical functions to perform statistical data analysis.\n",
    "\n",
    "These statistical functions are useful to find basic statistical concepts like mean, median, variance, etc. It is also used to find the maximum or the minimum element in an array."
   ]
  },
  {
   "cell_type": "code",
   "execution_count": 20,
   "metadata": {},
   "outputs": [
    {
     "name": "stdout",
     "output_type": "stream",
     "text": [
      "Mean: 77.2\n",
      "Median: 78.0\n",
      "Minimum marks: 66\n",
      "Maximum marks: 85\n"
     ]
    }
   ],
   "source": [
    "# create a numpy array\n",
    "marks = np.array([76, 78, 81, 66, 85])\n",
    "\n",
    "# compute the mean of marks\n",
    "mean_marks = np.mean(marks)\n",
    "print(\"Mean:\",mean_marks)\n",
    "\n",
    "# compute the median of marks\n",
    "median_marks = np.median(marks)\n",
    "print(\"Median:\",median_marks)\n",
    "\n",
    "# find the minimum and maximum marks\n",
    "min_marks = np.min(marks)\n",
    "print(\"Minimum marks:\", min_marks)\n",
    "\n",
    "max_marks = np.max(marks)\n",
    "print(\"Maximum marks:\", max_marks)"
   ]
  },
  {
   "cell_type": "markdown",
   "metadata": {
    "slideshow": {
     "slide_type": "slide"
    }
   },
   "source": [
    "Here, computed the mean, median, minimum, and maximum of the given array marks."
   ]
  },
  {
   "cell_type": "markdown",
   "metadata": {
    "slideshow": {
     "slide_type": "slide"
    }
   },
   "source": [
    "## NumPy Array Input/Output Functions\n",
    "\n",
    "NumPy offers several input/output (I/O) functions for loading and saving data to and from files."
   ]
  },
  {
   "cell_type": "code",
   "execution_count": null,
   "metadata": {},
   "outputs": [],
   "source": [
    "# create an array\n",
    "array1 = np.array([[1, 3, 5], [2, 4, 6]])\n",
    "\n",
    "# save the array to a text file\n",
    "np.savetxt('data.txt', array1)\n",
    "\n",
    "# load the data from the text file\n",
    "loaded_data = np.loadtxt('array1.txt')\n",
    "\n",
    "# print the loaded data\n",
    "print(loaded_data)"
   ]
  },
  {
   "cell_type": "markdown",
   "metadata": {
    "slideshow": {
     "slide_type": "slide"
    }
   },
   "source": [
    "In this example, we first created the 2D array named array1 and then saved it to a text file using the np.savetxt() function.\n",
    "\n",
    "We then loaded the saved data using the np.loadtxt() function."
   ]
  },
  {
   "cell_type": "markdown",
   "metadata": {
    "slideshow": {
     "slide_type": "slide"
    }
   },
   "source": [
    "## Numpy Comparison/Logical Operations\n",
    "\n",
    "NumPy provides several comparison and logical operations that can be performed on NumPy arrays.\n",
    "\n",
    "NumPy's comparison operators allow for element-wise comparison of two arrays.\n",
    "\n",
    "Similarly, logical operators perform boolean algebra, which is a branch of algebra that deals with True and False statements.\n",
    "\n",
    "First we'll discuss comparison operations and then about logical operations in NumPy.\n",
    "\n"
   ]
  },
  {
   "cell_type": "markdown",
   "metadata": {
    "slideshow": {
     "slide_type": "slide"
    }
   },
   "source": [
    "### NumPy Comparison Operators\n",
    "\n",
    "NumPy provides various element-wise comparison operators that can compare the elements of two NumPy arrays.\n",
    "\n",
    "Here's a list of various comparison operators available in NumPy.\n",
    "\n",
    "| Operators | Description |\n",
    "| --- | --- |\n",
    "| < (less than) | Returns `True` if the element in the first array is less than the element in the second array. |\n",
    "| <= (less than or equal to) | Returns `True` if the element in the first array is less than or equal to the element in the second array. |\n",
    "| > (greater than) | Returns `True` if the element in the first array is greater than the element in the second array. |\n",
    "| >= (greater than or equal to) | Returns `True` if the element in the first array is greater than or equal to the element in the second array. |\n",
    "| == (equal to) | Returns `True` if the element in the first array is equal to the element in the second array. |\n",
    "| != (not equal to) | Returns `True` if the element in the first array is not equal to the element in the second array. |"
   ]
  },
  {
   "cell_type": "markdown",
   "metadata": {
    "slideshow": {
     "slide_type": "slide"
    }
   },
   "source": [
    "#### Example 1: NumPy Comparison Operators"
   ]
  },
  {
   "cell_type": "code",
   "execution_count": 21,
   "metadata": {},
   "outputs": [
    {
     "name": "stdout",
     "output_type": "stream",
     "text": [
      "array1 < array2: [ True False False]\n",
      "array1 > array2: [False False  True]\n",
      "array1 == array2: [False  True False]\n"
     ]
    }
   ],
   "source": [
    "array1 = np.array([1, 2, 3])\n",
    "array2 = np.array([3, 2, 1])\n",
    "\n",
    "# less than operator\n",
    "result1 = array1 < array2\n",
    "print(\"array1 < array2:\",result1)    # Output: [ True False False]\n",
    "\n",
    "# greater than operator\n",
    "result2 = array1 > array2\n",
    "print(\"array1 > array2:\",result2)    # Output: [False False  True]\n",
    "\n",
    "# equal to operator\n",
    "result3 = array1 == array2\n",
    "print(\"array1 == array2:\",result3)    # Output: [False  True False]"
   ]
  },
  {
   "cell_type": "markdown",
   "metadata": {
    "slideshow": {
     "slide_type": "slide"
    }
   },
   "source": [
    "Here, we can see that the output of the comparison operators is also an array, where each element is either True or False based on the array element's comparison."
   ]
  },
  {
   "cell_type": "markdown",
   "metadata": {
    "slideshow": {
     "slide_type": "slide"
    }
   },
   "source": [
    "### NumPy Comparison Functions\n",
    "\n",
    "NumPy also provides built-in functions to perform all the comparison operations.\n",
    "\n",
    "For example, the less() function returns True if each element of the first array is less than the corresponding element in the second array.\n",
    "\n",
    "Here's a list of all built-in comparison functions.\n",
    "\n",
    "| Function | Description |\n",
    "| --- | --- |\n",
    "| np.less() | Returns `True` if the element in the first array is less than the element in the second array. |\n",
    "| np.less_equal() | Returns `True` if the element in the first array is less than or equal to the element in the second array. |\n",
    "| np.greater() | Returns `True` if the element in the first array is greater than the element in the second array. |\n",
    "| np.greater_equal() | Returns `True` if the element in the first array is greater than or equal to the element in the second array. |\n",
    "| np.equal() | Returns `True` if the element in the first array is equal to the element in the second array. |\n",
    "| np.not_equal() | Returns `True` if the element in the first array is not equal to the element in the second array. |\n",
    "\n",
    "**Note :** al these operations are element-wise"
   ]
  },
  {
   "cell_type": "markdown",
   "metadata": {
    "slideshow": {
     "slide_type": "slide"
    }
   },
   "source": [
    "### Example 2: NumPy Comparison Functions"
   ]
  },
  {
   "cell_type": "code",
   "execution_count": null,
   "metadata": {},
   "outputs": [],
   "source": [
    "array1 = np.array([9, 12, 21])\n",
    "array2 = np.array([21, 12, 9])\n",
    "\n",
    "# use of less()\n",
    "result = np.less(array1, array2)\n",
    "print(\"Using less():\",result)    # Output: [ True False False]\n",
    "\n",
    "# use of less_equal()\n",
    "result = np.less_equal(array1, array2)\n",
    "print(\"Using less_equal():\",result)     # Output: [ True  True False]\n",
    "\n",
    "# use of greater()\n",
    "result = np.greater(array1, array2)\n",
    "print(\"Using greater():\",result)    # Output: [False False  True]\n",
    "\n",
    "# use of greater_equal()\n",
    "result = np.greater_equal(array1, array2)\n",
    "print(\"Using greater_equal():\",result)    # Output: [False  True  True]\n",
    "\n",
    "# use of equal()\n",
    "result = np.equal(array1, array2)\n",
    "print(\"Using equal():\",result)    # Output: [False  True False]\n",
    "\n",
    "# use of not_equal()\n",
    "result = np.not_equal(array1, array2)\n",
    "print(\"Using not_equal():\",result)    # Output: [ True False  True]"
   ]
  },
  {
   "cell_type": "markdown",
   "metadata": {
    "slideshow": {
     "slide_type": "slide"
    }
   },
   "source": [
    "## NumPy Logical Operations\n",
    "\n",
    "As mentioned earlier, logical operators perform Boolean algebra; a branch of algebra that deals with True and False statements.\n",
    "\n",
    "Logical operations are performed element-wise. For example, if we have two arrays x1 and x2 of the same shape, the output of the logical operator will also be an array of the same shape.\n",
    "\n",
    "Here's a list of various logical operators available in NumPy:\n",
    "\n",
    "| Function | Description |\n",
    "| --- | --- |\n",
    "| np.logical_and() | Returns `True` if the element in the first array is less than the element in the second array. |\n",
    "| np.logical_or() | Returns `True` if the element in the first array is less than the element in the second array. |\n",
    "| np.logical_not() | Returns `True` if the element in the first array is less than the element in the second array. |"
   ]
  },
  {
   "cell_type": "markdown",
   "metadata": {
    "slideshow": {
     "slide_type": "slide"
    }
   },
   "source": [
    "#### Example 3: NumPy Logical Operations"
   ]
  },
  {
   "cell_type": "code",
   "execution_count": 22,
   "metadata": {},
   "outputs": [
    {
     "name": "stdout",
     "output_type": "stream",
     "text": [
      "[False False  True]\n",
      "[ True False  True]\n",
      "[False  True False]\n"
     ]
    }
   ],
   "source": [
    "x1 = np.array([True, False, True])\n",
    "x2 = np.array([False, False, True])\n",
    "\n",
    "# Logical AND\n",
    "print(np.logical_and(x1, x2)) # Output: [False False  True]\n",
    "\n",
    "# Logical OR\n",
    "print(np.logical_or(x1, x2)) # Output: [ True False  True]\n",
    "\n",
    "# Logical NOT\n",
    "print(np.logical_not(x1)) # Output: [False  True False]"
   ]
  },
  {
   "cell_type": "markdown",
   "metadata": {},
   "source": [
    "Here, we have performed logical operations on two arrays, x1 and x2, containing boolean values.\n",
    "\n",
    "It demonstrates the logical AND, OR, and NOT operations using np.logical_and(), np.logical_or(), and np.logical_not() respectively."
   ]
  },
  {
   "cell_type": "markdown",
   "metadata": {
    "slideshow": {
     "slide_type": "slide"
    }
   },
   "source": [
    "### NumPy Math Functions\n",
    "\n",
    "Numpy provides a wide range of mathematical functions that can be performed on arrays.\n",
    "\n",
    "Let's explore three different types of math functions in NumPy:\n",
    "\n",
    "- 1 Trigonometric Functions\n",
    "- 2 Arithmetic Functions\n",
    "- 3 Rounding Functions"
   ]
  },
  {
   "cell_type": "markdown",
   "metadata": {
    "slideshow": {
     "slide_type": "slide"
    }
   },
   "source": [
    "#### 1. Trigonometric Functions\n",
    "\n",
    "NumPy provides a set of standard trigonometric functions to calculate the trigonometric ratios (sine, cosine, tangent, etc.)\n",
    "\n",
    "Here's a list of commonly used trigonometric functions in NumPy.\n",
    "\n",
    "| Trigonometric Functiion | Computes (in radians) |\n",
    "| --- | --- |\n",
    "| np.sin() | Trigonometric sine of an angle |\n",
    "| np.cos() | Trigonometric cosine of an angle |\n",
    "| np.tan() | Trigonometric tangent of an angle |\n",
    "| np.arcsin() | Inverse trigonometric sine of an angle |\n",
    "| np.arccos() | Inverse trigonometric cosine of an angle |\n",
    "| np.arctan() | Inverse trigonometric tangent of an angle |\n",
    "| np.degrees | Converts an angle from radians to degrees |\n",
    "| np.radians | Converts an angle from degrees to radians |"
   ]
  },
  {
   "cell_type": "code",
   "execution_count": 25,
   "metadata": {
    "slideshow": {
     "slide_type": "slide"
    }
   },
   "outputs": [
    {
     "name": "stdout",
     "output_type": "stream",
     "text": [
      "Angles: [0 1 1]\n",
      "Sine values: [0.         0.84147098 0.84147098]\n",
      "Inverse Sine values: [0.         1.57079633 1.57079633]\n"
     ]
    }
   ],
   "source": [
    "# array of angles in radians\n",
    "angles = np.array([0, 1, 1])\n",
    "print(\"Angles:\", angles)\n",
    "\n",
    "# compute the sine of the angles\n",
    "sine_values = np.sin(angles)\n",
    "print(\"Sine values:\", sine_values)\n",
    "\n",
    "# compute the inverse sine of the angles\n",
    "inverse_sine = np.arcsin(angles)\n",
    "print(\"Inverse Sine values:\", inverse_sine)"
   ]
  },
  {
   "cell_type": "markdown",
   "metadata": {
    "slideshow": {
     "slide_type": "slide"
    }
   },
   "source": [
    "In this example, the sin() and arcsin() functions calculate the sine and inverse sine values, respectively, for each element in the angles array.\n",
    "\n",
    "The resulting values are in radians.\n",
    "\n",
    "Now let's see the examples for degrees() and radians()."
   ]
  },
  {
   "cell_type": "code",
   "execution_count": null,
   "metadata": {
    "slideshow": {
     "slide_type": "slide"
    }
   },
   "outputs": [],
   "source": [
    "# define an angle in radians\n",
    "angle =  1.57079633\n",
    "print(\"Initial angle in radian:\", angle)\n",
    "\n",
    "# convert the angle to degrees\n",
    "angle_degree = np.degrees(angle)\n",
    "print(\"Angle in degrees:\", angle_degree)\n",
    "\n",
    "# convert the angle back to radians\n",
    "angle_radian = np.radians(angle_degree)\n",
    "print(\"Angle in radians (after conversion):\", angle_radian)"
   ]
  },
  {
   "cell_type": "markdown",
   "metadata": {},
   "source": [
    "Here, we first initialized an angle in radians. Then we converted it to degrees using the degrees() function.\n",
    "\n",
    "\n",
    "Similarly, we used radians() to convert the degrees back to radians."
   ]
  },
  {
   "cell_type": "markdown",
   "metadata": {
    "slideshow": {
     "slide_type": "slide"
    }
   },
   "source": [
    "#### 2. Arithmetic Functions\n",
    "\n",
    "NumPy provides a wide range of arithmetic functions to perform on arrays.\n",
    "\n",
    "Here's a list of various arithmetic functions along with their associated operators:\n",
    "\n",
    "| Arithmetic Function | Operator | Description |\n",
    "| --- | --- | --- |\n",
    "| np.add() | + | Addition |\n",
    "| np.subtract() | - | Subtraction |\n",
    "| np.multiply() | * | Multiplication |\n",
    "| np.divide() | / | Division |\n",
    "| np.mod() | % | Modulus |\n",
    "| np.power() | ** | Exponentiation |"
   ]
  },
  {
   "cell_type": "code",
   "execution_count": null,
   "metadata": {
    "slideshow": {
     "slide_type": "slide"
    }
   },
   "outputs": [],
   "source": [
    "ifirst_array = np.array([1, 3, 5, 7])\n",
    "second_array = np.array([2, 4, 6, 8])\n",
    "\n",
    "# using the add() function\n",
    "result2 = np.add(first_array, second_array)\n",
    "print(\"Using the add() function:\",result2) "
   ]
  },
  {
   "cell_type": "markdown",
   "metadata": {},
   "source": [
    "In the above example, first we created two arrays named: first_array and second_array. Then, we used the add() function to perform element-wise addition respectively."
   ]
  },
  {
   "cell_type": "markdown",
   "metadata": {
    "slideshow": {
     "slide_type": "slide"
    }
   },
   "source": [
    "#### 3. Rounding Functions\n",
    "\n",
    "We use rounding functions to round the values in an array to a specified number of decimal places.\n",
    "\n",
    "Here's a list of commonly used NumPy rounding functions:\n",
    "\n",
    "| Rounding Function | Description |\n",
    "| --- | --- |\n",
    "| np.round() | Rounds the values in an array to a specified number of decimal places |\n",
    "| np.floor() | Rounds the values in an array to the nearest integer below the value |\n",
    "| np.ceil() | Rounds the values in an array to the nearest integer above the value |"
   ]
  },
  {
   "cell_type": "code",
   "execution_count": 30,
   "metadata": {
    "slideshow": {
     "slide_type": "slide"
    }
   },
   "outputs": [
    {
     "name": "stdout",
     "output_type": "stream",
     "text": [
      "[1.23 2.35 3.46 4.57]\n"
     ]
    }
   ],
   "source": [
    "numbers = np.array([1.23456, 2.34567, 3.45678, 4.56789])\n",
    "\n",
    "# round the array to two decimal places\n",
    "rounded_array = np.round(numbers, 2)\n",
    "\n",
    "print(rounded_array)\n",
    "\n",
    "# Output: [1.23 2.35 3.46 4.57]"
   ]
  },
  {
   "cell_type": "markdown",
   "metadata": {
    "slideshow": {
     "slide_type": "slide"
    }
   },
   "source": [
    "Here, we used the round() function to round the values of array numbers. Notice the line,\n",
    "\n",
    "```python\n",
    "np.round(numbers, 2)\n",
    "```\n",
    "\n",
    "We've given two arguments to the round() function.\n",
    "\n",
    "numbers - the array whose values are to be rounded\n",
    "2 - denotes the number of decimal places to which the array is rounded"
   ]
  },
  {
   "cell_type": "code",
   "execution_count": 31,
   "metadata": {
    "slideshow": {
     "slide_type": "slide"
    }
   },
   "outputs": [
    {
     "name": "stdout",
     "output_type": "stream",
     "text": [
      "Array after floor(): [1. 2. 3. 4.]\n",
      "Array after ceil(): [2. 3. 4. 5.]\n"
     ]
    }
   ],
   "source": [
    "array1 = np.array([1.23456, 2.34567, 3.45678, 4.56789])\n",
    "\n",
    "print(\"Array after floor():\", np.floor(array1))\n",
    "print(\"Array after ceil():\", np.ceil(array1))"
   ]
  },
  {
   "cell_type": "markdown",
   "metadata": {},
   "source": [
    "In the above example, the floor() function rounds the values of array1 down to the nearest integer that is less than or equal to each element.\n",
    "\n",
    "Whereas, the ceil() function rounds the values of array1 up to the nearest integer that is greater than or equal to each element."
   ]
  },
  {
   "cell_type": "markdown",
   "metadata": {
    "slideshow": {
     "slide_type": "slide"
    }
   },
   "source": [
    "## Numpy Constants\n",
    "\n",
    "NumPy constants are the predefined fixed values used for mathematical calculations.\n",
    "\n",
    "For example, np.pi is a mathematical constant that returns the value of pi (π), i.e. 3.141592653589793.\n",
    "\n",
    "Using predefined constants makes our code concise and easier to read.\n",
    "\n",
    "We'll discuss some common constants provided by Numpy library."
   ]
  },
  {
   "cell_type": "markdown",
   "metadata": {
    "slideshow": {
     "slide_type": "slide"
    }
   },
   "source": [
    "## Numpy Constants\n",
    "\n",
    "In Numpy, the most commonly used constants are pi and e."
   ]
  },
  {
   "cell_type": "markdown",
   "metadata": {
    "slideshow": {
     "slide_type": "slide"
    }
   },
   "source": [
    "### np.pi\n",
    "\n",
    "np.pi is a mathematical constant that returns the value of pi(π) as a floating point number. Its value is approximately 3.141592653589793."
   ]
  },
  {
   "cell_type": "code",
   "execution_count": 33,
   "metadata": {},
   "outputs": [
    {
     "name": "stdout",
     "output_type": "stream",
     "text": [
      "12.566368\n"
     ]
    }
   ],
   "source": [
    "radius = 2\n",
    "circumference = 2 * np.pi * radius\n",
    "print(circumference)"
   ]
  },
  {
   "cell_type": "markdown",
   "metadata": {
    "slideshow": {
     "slide_type": "slide"
    }
   },
   "source": [
    "Here, the np.pi returns the value 3.141592653589793, which calculates the circumference.\n",
    "\n",
    "Instead of the long floating point number, we used the constant np.pi. This made our code look cleaner.\n",
    "\n",
    "**Note :** As pi falls under the Numpy library, we need to import and access it with np.pi."
   ]
  },
  {
   "cell_type": "markdown",
   "metadata": {
    "slideshow": {
     "slide_type": "slide"
    }
   },
   "source": [
    "### np.e\n",
    "\n",
    "\n",
    "np.e is widely used with exponential and logarithmic functions. Its value is approximately 2.718281828459045."
   ]
  },
  {
   "cell_type": "code",
   "execution_count": 34,
   "metadata": {},
   "outputs": [
    {
     "data": {
      "text/plain": [
       "2.718281828459045"
      ]
     },
     "execution_count": 34,
     "metadata": {},
     "output_type": "execute_result"
    }
   ],
   "source": [
    "y = np.e\n",
    "y"
   ]
  },
  {
   "cell_type": "markdown",
   "metadata": {
    "slideshow": {
     "slide_type": "slide"
    }
   },
   "source": [
    "in the previous example, we simply printed the constant np.e. As we can see, it returns its value 2.718281828459045.\n",
    "\n",
    "However, this example makes no sense because that's not how we use the constant e in real life.\n",
    "\n",
    "We usually use the constant e with the function exp(). e is the base of exponential function, exp(x), which is equivalent to e^x."
   ]
  },
  {
   "cell_type": "code",
   "execution_count": 37,
   "metadata": {
    "slideshow": {
     "slide_type": "slide"
    }
   },
   "outputs": [
    {
     "data": {
      "text/plain": [
       "2.718281828459045"
      ]
     },
     "execution_count": 37,
     "metadata": {},
     "output_type": "execute_result"
    }
   ],
   "source": [
    "x = 1\n",
    "y = np.exp(x)\n",
    "y"
   ]
  },
  {
   "cell_type": "markdown",
   "metadata": {
    "slideshow": {
     "slide_type": "slide"
    }
   },
   "source": [
    "### Arithmetic Operations with Numpy Constants and Arrays\n",
    "\n",
    "We can use arithmetic operators to perform operations such as addition, subtraction, and division between a constant and all elements in an array."
   ]
  },
  {
   "cell_type": "code",
   "execution_count": 38,
   "metadata": {},
   "outputs": [
    {
     "data": {
      "text/plain": [
       "array([4.14159265, 5.14159265, 6.14159265])"
      ]
     },
     "execution_count": 38,
     "metadata": {},
     "output_type": "execute_result"
    }
   ],
   "source": [
    "array1 = np.array([1, 2, 3])\n",
    "\n",
    "# add each array element with the constant pi\n",
    "y = array1 + np.pi\n",
    "y"
   ]
  },
  {
   "cell_type": "markdown",
   "metadata": {
    "slideshow": {
     "slide_type": "slide"
    }
   },
   "source": [
    "## NumPy Statistical Functions\n",
    "\n",
    "Statistics involves gathering data, analyzing it, and drawing conclusions based on the information collected.\n",
    "\n",
    "NumPy provides us with various statistical functions that can perform statistical data analysis."
   ]
  },
  {
   "cell_type": "markdown",
   "metadata": {
    "slideshow": {
     "slide_type": "slide"
    }
   },
   "source": [
    "## Common NumPy Statistical Functions\n",
    "\n",
    "Here are some of the statistical functions provided by NumPy:\n",
    "\n",
    "| Function | Description |\n",
    "| --- | --- |\n",
    "| np.mean() | Calculates the mean of the values in an array |\n",
    "| np.median() | Calculates the median of the values in an array |\n",
    "| np.std() | Calculates the standard deviation of the values in an array |\n",
    "| np.var() | Calculates the variance of the values in an array |\n",
    "| np.min() | Calculates the minimum value in an array |\n",
    "| np.max() | Calculates the maximum value in an array |\n",
    "| np.sum() | Calculates the sum of the values in an array |\n",
    "| np.percentile() | Calculates the percentile of the values in an array |"
   ]
  },
  {
   "cell_type": "markdown",
   "metadata": {
    "slideshow": {
     "slide_type": "slide"
    }
   },
   "source": [
    "### Find Median Using NumPy\n",
    "\n",
    "The median value of a numpy array is the middle value in a sorted array.\n",
    "\n",
    "In other words, it is the value that separates the higher half from the lower half of the data.\n",
    "\n",
    "Suppose we have the following list of numbers:\n",
    "\n",
    "1, 5, 7, 8, 9, 12, 14\n",
    " \n",
    "Then, median is simply the middle number, which in this case is 8.\n",
    "\n",
    "It is important to note that if the number of elements is\n",
    "\n",
    "- **Odd**, the median is the middle element.\n",
    "- **Even**, the median is the average of the two middle elements.\n",
    "\n",
    "Now, we will learn how to calculate the median using NumPy for arrays with odd and even number of elements."
   ]
  },
  {
   "cell_type": "code",
   "execution_count": 39,
   "metadata": {
    "slideshow": {
     "slide_type": "slide"
    }
   },
   "outputs": [
    {
     "name": "stdout",
     "output_type": "stream",
     "text": [
      "3.0\n"
     ]
    }
   ],
   "source": [
    "# create a 1D array with 5 elements\n",
    "array1 = np.array([1, 2, 3, 4, 5])\n",
    "                                                                                                           \n",
    "# calculate the median\n",
    "median = np.median(array1)\n",
    "print(median)"
   ]
  },
  {
   "cell_type": "markdown",
   "metadata": {},
   "source": [
    "In the above example, the array named array1 contains an odd number of elements (5 elements).\n",
    "\n",
    "So, np.median(array1) returns the median of array1 as 3, which is the middle value of the sorted array"
   ]
  },
  {
   "cell_type": "markdown",
   "metadata": {
    "slideshow": {
     "slide_type": "slide"
    }
   },
   "source": [
    "### Example 2: Compute Median for Even Number of Elements"
   ]
  },
  {
   "cell_type": "code",
   "execution_count": 40,
   "metadata": {},
   "outputs": [
    {
     "name": "stdout",
     "output_type": "stream",
     "text": [
      "3.5\n"
     ]
    }
   ],
   "source": [
    "# create a 1D array with 6 elements\n",
    "array1 = np.array([1, 2, 3, 4, 5, 7])\n",
    "\n",
    "# calculate the median\n",
    "median = np.median(array1)\n",
    "print(median)"
   ]
  },
  {
   "cell_type": "markdown",
   "metadata": {},
   "source": [
    "Here, since the array1 array has an even number of elements (6 elements), the median is calculated as the average of the two middle elements (3 and 4) i.e. 3.5."
   ]
  },
  {
   "cell_type": "markdown",
   "metadata": {
    "slideshow": {
     "slide_type": "slide"
    }
   },
   "source": [
    "### Median of NumPy 2D Array\n",
    "\n",
    "Calculation of the median is not just limited to 1D array. We can also calculate the median of the 2D array.\n",
    "\n",
    "In a 2D array, median can be calculated either along the horizontal or the vertical axis individually, or across the entire array.\n",
    "\n",
    "When computing the median of a 2D array, we use the `axis` parameter inside `np.median()` to specify the axis along which to compute the median.\n",
    "\n",
    "If we specify,\n",
    "\n",
    "- `axis = 0`, median is calculated along vertical axis\n",
    "- `axis = 1`, median is calculated along horizontal axis\n",
    "- \n",
    "If we don't use the `axis` parameter, the median is computed over the entire array."
   ]
  },
  {
   "cell_type": "code",
   "execution_count": 7,
   "metadata": {
    "slideshow": {
     "slide_type": "slide"
    }
   },
   "outputs": [
    {
     "name": "stdout",
     "output_type": "stream",
     "text": [
      "Median along horizontal axis : [10.  6. 16.]\n",
      "Median along vertical axis: [10.  8. 12.]\n",
      "Median of entire array: 10.0\n"
     ]
    }
   ],
   "source": [
    "import numpy as np\n",
    "# create a 2D array\n",
    "array1 = np.array([[10, 4, 12], \n",
    "                    [2, 8, 6],\n",
    "                   [14, 16, 18]])\n",
    "\n",
    "# compute median along horizontal axis \n",
    "result1 = np.median(array1, axis=1)\n",
    "\n",
    "print(\"Median along horizontal axis :\", result1)\n",
    "\n",
    "# compute median along vertical axis\n",
    "result2 = np.median(array1, axis=0)\n",
    "\n",
    "print(\"Median along vertical axis:\", result2)\n",
    "\n",
    "# compute median of entire array\n",
    "result3 = np.median(array1)\n",
    "\n",
    "print(\"Median of entire array:\", result3)"
   ]
  },
  {
   "cell_type": "markdown",
   "metadata": {
    "slideshow": {
     "slide_type": "slide"
    }
   },
   "source": [
    "In this example, we have created a 2D array named array1.\n",
    "\n",
    "We then computed the median along the horizontal and vertical axis individually and then computed the median of the entire array.\n",
    "\n",
    "- np.median(array1, axis=1) - median along horizontal axis, which gives [4. 10. 16.]\n",
    "- np.median(array1, axis=0) - median along vertical axis, which gives [8. 10. 12.]\n",
    "- np.median(array1) - median over the entire array, which gives 10.0\n",
    "\n",
    "To calculate the median over the entire 2D array, first we flatten the array to [ 2, 4, 6, 8, 10, 12, 14, 16, 18] and then find the middle value of the flattened array which in our case is 10."
   ]
  },
  {
   "cell_type": "markdown",
   "metadata": {
    "slideshow": {
     "slide_type": "slide"
    }
   },
   "source": [
    "#### Compute Mean Using NumPy\n",
    "\n",
    "The mean value of a NumPy array is the average value of all the elements in the array.\n",
    "\n",
    "It is calculated by adding all elements in the array and then dividing the result by the total number of elements in the array.\n",
    "\n",
    "We use the np.mean() function to calculate the mean value."
   ]
  },
  {
   "cell_type": "code",
   "execution_count": null,
   "metadata": {
    "slideshow": {
     "slide_type": "slide"
    }
   },
   "outputs": [],
   "source": [
    "# create a numpy array\n",
    "marks = np.array([76, 78, 81, 66, 85])\n",
    "\n",
    "# compute the mean of marks\n",
    "mean_marks = np.mean(marks)\n",
    "\n",
    "print(mean_marks)\n",
    "\n",
    "# Output: 77.2"
   ]
  },
  {
   "cell_type": "markdown",
   "metadata": {
    "slideshow": {
     "slide_type": "slide"
    }
   },
   "source": [
    "#### Example 3: Mean of NumPy N-d Array"
   ]
  },
  {
   "cell_type": "code",
   "execution_count": 45,
   "metadata": {},
   "outputs": [
    {
     "name": "stdout",
     "output_type": "stream",
     "text": [
      "Entire Array: 4.0\n",
      "Along Vertical Axis: [3. 5.]\n",
      "Along Horizontal Axis : [2. 6.]\n"
     ]
    }
   ],
   "source": [
    "# create a 2D array\n",
    "array1 = np.array([[1, 3], \n",
    "                 [5, 7]])\n",
    "\n",
    "# calculate the mean of the entire array\n",
    "result1 = np.mean(array1)\n",
    "print(\"Entire Array:\",result1)  # 4.0\n",
    "\n",
    "# calculate the mean along vertical axis (axis=0)\n",
    "result2 = np.mean(array1, axis=0)\n",
    "print(\"Along Vertical Axis:\",result2)  # [3. 5.]\n",
    "\n",
    "# calculate the mean along  (axis=1)\n",
    "result3 = np.mean(array1, axis=1)\n",
    "print(\"Along Horizontal Axis :\",result3)  # [2. 6.]"
   ]
  },
  {
   "cell_type": "markdown",
   "metadata": {
    "slideshow": {
     "slide_type": "slide"
    }
   },
   "source": [
    "Here, first we have created the 2D array named array1. We then calculated the mean using np.mean().\n",
    "\n",
    "- np.mean(array1) - calculates the mean over the entire array\n",
    "- np.mean(array1, axis=0) - calculates the mean along vertical axis\n",
    "- np.mean(array1, axis=1) calculates the mean along horizontal axis"
   ]
  },
  {
   "cell_type": "markdown",
   "metadata": {
    "slideshow": {
     "slide_type": "slide"
    }
   },
   "source": [
    "#### Standard Deviation of NumPy Array\n",
    "\n",
    "The standard deviation is a measure of the spread of the data in the array. It gives us the degree to which the data points in an array deviate from the mean.\n",
    "\n",
    "Smaller standard deviation indicates that the data points are closer to the mean\n",
    "Larger standard deviation indicates that the data points are more spread out.\n",
    "In NumPy, we use the np.std() function to calculate the standard deviation of an array."
   ]
  },
  {
   "cell_type": "code",
   "execution_count": 46,
   "metadata": {
    "slideshow": {
     "slide_type": "slide"
    }
   },
   "outputs": [
    {
     "name": "stdout",
     "output_type": "stream",
     "text": [
      "6.368673331236263\n"
     ]
    }
   ],
   "source": [
    "# create a numpy array\n",
    "marks = np.array([76, 78, 81, 66, 85])\n",
    "\n",
    "# compute the standard deviation of marks\n",
    "std_marks = np.std(marks)\n",
    "print(std_marks)"
   ]
  },
  {
   "cell_type": "markdown",
   "metadata": {},
   "source": [
    "In the above example, we have used the np.std() function to calculate the standard deviation of the marks array.\n",
    "\n",
    "Here, 6.803568381206575 is the standard deviation of marks. It tells us how much the values in the marks array deviate from the mean value of the array."
   ]
  },
  {
   "cell_type": "markdown",
   "metadata": {
    "slideshow": {
     "slide_type": "slide"
    }
   },
   "source": [
    "#### Standard Deviation of NumPy 2D Array\n",
    "\n",
    "In a 2D array, standard deviation can be calculated either along the horizontal or the vertical axis individually, or across the entire array.\n",
    "\n",
    "Similar to mean and median, when computing the standard deviation of a 2D array, we use the axis parameter inside np.std() to specify the axis along which to compute the standard deviation."
   ]
  },
  {
   "cell_type": "code",
   "execution_count": 47,
   "metadata": {
    "slideshow": {
     "slide_type": "slide"
    }
   },
   "outputs": [
    {
     "name": "stdout",
     "output_type": "stream",
     "text": [
      "Standard deviation along horizontal axis: [2.86744176 3.29983165 1.24721913]\n",
      "Standard deviation  along vertical axis: [0.81649658 1.24721913 1.63299316]\n",
      "Standard deviation of entire array: 2.7666443551086073\n"
     ]
    }
   ],
   "source": [
    "# create a 2D array\n",
    "array1 = np.array([[2, 5, 9], \n",
    "                 [3, 8, 11], \n",
    "                 [4, 6, 7]])\n",
    "\n",
    "# compute standard deviation along horizontal axis\n",
    "result1 = np.std(array1, axis=1)\n",
    "print(\"Standard deviation along horizontal axis:\", result1)\n",
    "\n",
    "# compute standard deviation along vertical axis\n",
    "result2 = np.std(array1, axis=0)\n",
    "print(\"Standard deviation  along vertical axis:\", result2)\n",
    "\n",
    "# compute standard deviation of entire array\n",
    "result3 = np.std(array1)\n",
    "print(\"Standard deviation of entire array:\", result3)"
   ]
  },
  {
   "cell_type": "markdown",
   "metadata": {
    "slideshow": {
     "slide_type": "slide"
    }
   },
   "source": [
    "Here, we have created a 2D array named array1.\n",
    "\n",
    "We then computed the standard deviation along horizontal and vertical axis individually and then computed the standard deviation of the entire array."
   ]
  },
  {
   "cell_type": "markdown",
   "metadata": {
    "slideshow": {
     "slide_type": "slide"
    }
   },
   "source": [
    "#### Compute Percentile of NumPy Array\n",
    "\n",
    "In NumPy, we use the percentile() function to compute the nth percentile of a given array."
   ]
  },
  {
   "cell_type": "code",
   "execution_count": 48,
   "metadata": {},
   "outputs": [
    {
     "name": "stdout",
     "output_type": "stream",
     "text": [
      "25th percentile: 5.5\n",
      "75th percentile: 14.5\n"
     ]
    }
   ],
   "source": [
    "# create an array\n",
    "array1 = np.array([1, 3, 5, 7, 9, 11, 13, 15, 17, 19])\n",
    "\n",
    "# compute the 25th percentile of the array\n",
    "result1 = np.percentile(array1, 25)\n",
    "print(\"25th percentile:\",result1)\n",
    "\n",
    "# compute the 75th percentile of the array\n",
    "result2 = np.percentile(array1, 75)\n",
    "print(\"75th percentile:\",result2)"
   ]
  },
  {
   "cell_type": "markdown",
   "metadata": {
    "slideshow": {
     "slide_type": "slide"
    }
   },
   "source": [
    "Here,\n",
    "\n",
    "- 25% of the values in array1 are less than or equal to 5.5.\n",
    "- 75% of the values in array1 are less than or equal to 14.5."
   ]
  },
  {
   "cell_type": "markdown",
   "metadata": {
    "slideshow": {
     "slide_type": "slide"
    }
   },
   "source": [
    "#### Find Minimum and Maximum Value of NumPy Array\n",
    "\n",
    "We use the min() and max() function in NumPy to find the minimum and maximum values in a given array."
   ]
  },
  {
   "cell_type": "code",
   "execution_count": 49,
   "metadata": {},
   "outputs": [
    {
     "name": "stdout",
     "output_type": "stream",
     "text": [
      "Minimum value: 1\n",
      "Maximum value: 65\n"
     ]
    }
   ],
   "source": [
    "# create an array\n",
    "array1 = np.array([2,6,9,15,17,22,65,1,62])\n",
    "\n",
    "# find the minimum value of the array\n",
    "min_val = np.min(array1)\n",
    "\n",
    "# find the maximum value of the array\n",
    "max_val = np.max(array1)\n",
    "\n",
    "# print the results\n",
    "print(\"Minimum value:\", min_val)\n",
    "print(\"Maximum value:\", max_val)"
   ]
  },
  {
   "cell_type": "markdown",
   "metadata": {},
   "source": [
    "As we can see min() and max() returns the minimum and maximum value of array1 which is 1 and 65 respectively."
   ]
  },
  {
   "cell_type": "markdown",
   "metadata": {
    "slideshow": {
     "slide_type": "slide"
    }
   },
   "source": [
    "## NumPy String Functions\n",
    "\n",
    "In addition to NumPy's numerical capabilities, it also provides several functions that can be applied to strings represented in NumPy arrays.\n",
    "\n",
    "For example, we can add two strings, change the contents of a string, case conversion, padding, trimming, and so on."
   ]
  },
  {
   "cell_type": "markdown",
   "metadata": {
    "slideshow": {
     "slide_type": "slide"
    }
   },
   "source": [
    "### Common NumPy String Functions\n",
    "\n",
    "Here are some of the string functions provided by NumPy:\n",
    "\n",
    "| Functions | Descriptions |\n",
    "| :--- | :--- |\n",
    "| capitalize() | Converts the first character of each word to uppercase |\n",
    "| lower() | Converts the string to lowercase |\n",
    "| upper() | Converts the string to uppercase |\n",
    "| swapcase() | Swaps the case of the string |\n",
    "| add() | concatenate two strings |\n",
    "| multiply() | repeat a string |\n",
    "| equal() | check if two strings are equal |\n",
    "\n",
    "**Note :** These are the most commonly used string functions in NumPy.\n",
    "\n",
    "You can find more string functions in the [NumPy strings documentation](https://numpy.org/doc/stable/reference/routines.char.html)"
   ]
  },
  {
   "cell_type": "markdown",
   "metadata": {
    "slideshow": {
     "slide_type": "slide"
    }
   },
   "source": [
    "### NumPy String add() Function\n",
    "\n",
    "In NumPy, we use the np.char.add() function to perform element-wise string concatenation for two arrays of strings."
   ]
  },
  {
   "cell_type": "code",
   "execution_count": 50,
   "metadata": {},
   "outputs": [
    {
     "name": "stdout",
     "output_type": "stream",
     "text": [
      "['iPhone: 15' 'price: $900']\n"
     ]
    }
   ],
   "source": [
    "array1 = np.array(['iPhone: ', 'price: '])\n",
    "array2 = np.array(['15', '$900'])\n",
    "\n",
    "# perform element-wise array string concatenation\n",
    "result = np.char.add(array1, array2)\n",
    "\n",
    "print(result)"
   ]
  },
  {
   "cell_type": "markdown",
   "metadata": {
    "slideshow": {
     "slide_type": "slide"
    }
   },
   "source": [
    "In this example, we have defined two NumPy arrays: array1 and array2, with string elements 'iphone: ' and 'price: ' and '15' and '$900' respectively.\n",
    "\n",
    "We then used np.char.add(array1, array2) to concatenate the elements of array1 and array2 element-wise.\n",
    "\n",
    "Finally, we have stored the concatenated string in result, which in our case are 'iPhone: 15' and 'price: $900'."
   ]
  },
  {
   "cell_type": "markdown",
   "metadata": {
    "slideshow": {
     "slide_type": "slide"
    }
   },
   "source": [
    "### NumPy String multiply() Function\n",
    "\n",
    "The np.char.multiply() function is used to perform element-wise string repetition. It returns an array of strings with each string element repeated a specified number of times."
   ]
  },
  {
   "cell_type": "code",
   "execution_count": 52,
   "metadata": {},
   "outputs": [
    {
     "name": "stdout",
     "output_type": "stream",
     "text": [
      "['AA' 'BB' 'CC']\n"
     ]
    }
   ],
   "source": [
    "#  define array with three string elements\n",
    "array1 = np.array(['A', 'B', 'C']) \n",
    "\n",
    "#  repeat each element in array1 two times \n",
    "result = np.char.multiply(array1, 2)  \n",
    "\n",
    "print(result)"
   ]
  },
  {
   "cell_type": "markdown",
   "metadata": {},
   "source": [
    "Here, np.char.multiply(array1, 2) repeats each element in array1 two times."
   ]
  },
  {
   "cell_type": "markdown",
   "metadata": {
    "slideshow": {
     "slide_type": "slide"
    }
   },
   "source": [
    "### NumPy String capitalize() Function\n",
    "In NumPy, the np.char.capitalize() function is used to capitalize the first character of each string element in a given array."
   ]
  },
  {
   "cell_type": "code",
   "execution_count": 53,
   "metadata": {},
   "outputs": [
    {
     "name": "stdout",
     "output_type": "stream",
     "text": [
      "['Eric' 'Paul' 'Sean']\n"
     ]
    }
   ],
   "source": [
    "# define an array with three string elements\n",
    "array1 = np.array(['eric', 'paul', 'sean'])  \n",
    "\n",
    "# capitalize the first letter of each string in array1 \n",
    "result = np.char.capitalize(array1)  \n",
    "\n",
    "print(result) "
   ]
  },
  {
   "cell_type": "markdown",
   "metadata": {},
   "source": [
    "In this example, np.char.capitalize(array1) capitalizes the first character of the string element in the array1 array."
   ]
  },
  {
   "cell_type": "markdown",
   "metadata": {
    "slideshow": {
     "slide_type": "slide"
    }
   },
   "source": [
    "### NumPy String upper() and lower() Function\n",
    "NumPy provides two string functions for converting the case of a string: np.char.upper() and np.char.lower()."
   ]
  },
  {
   "cell_type": "code",
   "execution_count": null,
   "metadata": {},
   "outputs": [],
   "source": [
    "array1 = np.array(['nEpalI', 'AmeriCAN', 'CaNadIan'])\n",
    "\n",
    "# convert all string elements to uppercase\n",
    "result1 = np.char.upper(array1)\n",
    "\n",
    "# convert all string elements to lowercase\n",
    "result2 = np.char.lower(array1)\n",
    "\n",
    "print(\"To Uppercase: \",result1)\n",
    "print(\"To Lowercase: \",result2)"
   ]
  },
  {
   "cell_type": "markdown",
   "metadata": {},
   "source": [
    "Here,\n",
    "- np.char.upper(array1) - convert all strings in array1 to uppercase\n",
    "- np.char.lower(array1) - convert all strings in array1 to lowercase"
   ]
  },
  {
   "cell_type": "markdown",
   "metadata": {
    "slideshow": {
     "slide_type": "slide"
    }
   },
   "source": [
    "### NumPy String join() Function\n",
    "In NumPy, we use the np.char.join() function to join strings in an array with a specified delimiter. "
   ]
  },
  {
   "cell_type": "code",
   "execution_count": 54,
   "metadata": {},
   "outputs": [
    {
     "name": "stdout",
     "output_type": "stream",
     "text": [
      "['h-e-l-l-o' 'w-o-r-l-d']\n"
     ]
    }
   ],
   "source": [
    "# create an array of strings\n",
    "array1 = np.array(['hello', 'world'])\n",
    "\n",
    "# join the strings in the array using a dash as the delimiter\n",
    "result = np.char.join('-', array1)\n",
    "\n",
    "print(result)"
   ]
  },
  {
   "cell_type": "markdown",
   "metadata": {},
   "source": [
    "In this example, the np.char.join('-', array1) function is used to join the strings in array1 using dash - as the delimiter.\n",
    "\n",
    "The resulting strings have each character separated by a dash."
   ]
  },
  {
   "cell_type": "markdown",
   "metadata": {
    "slideshow": {
     "slide_type": "slide"
    }
   },
   "source": [
    "### NumPy String equal() Function\n",
    "The np.char.equal() function is used to perform element-wise string comparison between two string arrays."
   ]
  },
  {
   "cell_type": "code",
   "execution_count": null,
   "metadata": {},
   "outputs": [],
   "source": [
    "# create two arrays of strings\n",
    "array1 = np.array(['C', 'Python', 'Swift'])\n",
    "array2 = np.array(['C++', 'Python', 'Java'])\n",
    "\n",
    "# check if each element of the arrays is equal\n",
    "result = np.char.equal(array1, array2)\n",
    "\n",
    "print(result)\n",
    "\n",
    "# Output: [False True False]"
   ]
  },
  {
   "cell_type": "markdown",
   "metadata": {},
   "source": [
    "Here, np.char.equal(array1, array2) checks whether the corresponding elements of array1 and array2 are equal or not.\n",
    "\n",
    "The resulting boolean array [False True False] indicates that the first and third elements of array1 and array2 are not equal, while the second element is equal."
   ]
  }
 ],
 "metadata": {
  "celltoolbar": "Slideshow",
  "kernelspec": {
   "display_name": "Python 3 (ipykernel)",
   "language": "python",
   "name": "python3"
  },
  "language_info": {
   "codemirror_mode": {
    "name": "ipython",
    "version": 3
   },
   "file_extension": ".py",
   "mimetype": "text/x-python",
   "name": "python",
   "nbconvert_exporter": "python",
   "pygments_lexer": "ipython3",
   "version": "3.10.13"
  }
 },
 "nbformat": 4,
 "nbformat_minor": 2
}
