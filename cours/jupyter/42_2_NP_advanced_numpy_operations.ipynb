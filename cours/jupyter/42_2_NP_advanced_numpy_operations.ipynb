{
 "cells": [
  {
   "cell_type": "markdown",
   "metadata": {
    "slideshow": {
     "slide_type": "slide"
    }
   },
   "source": [
    "# NumPy Advanced Operations"
   ]
  },
  {
   "cell_type": "markdown",
   "metadata": {
    "slideshow": {
     "slide_type": "slide"
    }
   },
   "source": [
    "## Numpy Broadcasting\n",
    "In NumPy, we can perform mathematical operations on arrays of different shapes. An array with a smaller shape is expanded to match the shape of a larger one. This is called broadcasting.\n",
    "\n",
    "Let's see an example.\n",
    "```python\n",
    "array1 = [1, 2, 3]\n",
    "array2 = [[1], [2], [3]]\n",
    "```\n",
    "array1 is a 1-D array and array2 is a 2-D array. Let's perform addition between these two arrays of different shapes.\n",
    "\n",
    "result = array1 + array2\n",
    "Here, NumPy automatically broadcasts the size of a 1-D array array1 to perform element-wise addition with a 2-D array array2."
   ]
  },
  {
   "cell_type": "code",
   "execution_count": 1,
   "metadata": {
    "slideshow": {
     "slide_type": "slide"
    }
   },
   "outputs": [
    {
     "name": "stdout",
     "output_type": "stream",
     "text": [
      "[[2 3 4]\n",
      " [3 4 5]\n",
      " [4 5 6]]\n"
     ]
    }
   ],
   "source": [
    "import numpy as np\n",
    "\n",
    "# create 1-D array\n",
    "array1 = np.array([1, 2, 3])\n",
    "\n",
    "# create 2-D array\n",
    "array2 = np.array([[1], [2], [3]])\n",
    "\n",
    "# add arrays of different dimension\n",
    "# size of array1 expands to match with array2\n",
    "sum = array1 + array2\n",
    "\n",
    "print(sum)"
   ]
  },
  {
   "cell_type": "markdown",
   "metadata": {
    "slideshow": {
     "slide_type": "slide"
    }
   },
   "source": [
    "In the example, we added two arrays with different dimensions. Numpy automatically expands the size of 1-D array array1 to match with the size of 2-D array array2.\n",
    "\n",
    "Then, the element-wise addition is performed between two 2-D arrays."
   ]
  },
  {
   "cell_type": "markdown",
   "metadata": {
    "slideshow": {
     "slide_type": "slide"
    }
   },
   "source": [
    "### Compatibility Rules for Broadcasting\n",
    "Broadcasting only works with compatible arrays. NumPy compares a set of array dimensions from right to left.\n",
    "\n",
    "Every set of dimensions must be compatible with the arrays to be broadcastable. A set of dimension lengths is compatible when\n",
    "\n",
    "one of them has a length of 1 or\n",
    "they are equal\n",
    "\n",
    "Let's see an example.\n",
    "\n",
    "array1 = shape(6, 7)\n",
    "array2 = shape(6, 1)\n",
    "Here, array1 and array2 are arrays with different dimensions (6,7) and (6,1) respectively.\n",
    "\n",
    "The dimension length 7 and 1 are compatible because one of them is 1.\n",
    "\n",
    "Similarly, 6 and 6 are compatible since they are the same.\n",
    "\n",
    "As both sets of dimensions are compatible, the arrays are broadcastable.\n",
    "\n"
   ]
  },
  {
   "cell_type": "markdown",
   "metadata": {
    "slideshow": {
     "slide_type": "slide"
    }
   },
   "source": [
    "### Examples of Broadcastable Shapes\n",
    "Now, we'll see the list of broadcastable and non-broadcastable shapes.\n",
    "\n",
    "Broadcastable Shapes\n",
    "\n",
    "- (6, 7) and (6, 7)\n",
    "- (6, 7) and (6, 1)\n",
    "- (6, 7) and (7, )\n",
    "  \n",
    "Two arrays need not have the same number of dimensions to be broadcastable.\n",
    "\n",
    "The last set of shapes is broadcastable because the right-most dimensions are both 7.\n",
    "\n",
    "Non-Broadcastable Shapes\n",
    "\n",
    "- (6, 7) and (7, 6)\n",
    "- (6, 7) and (6, )\n",
    "The last set of shapes is not broadcastable because the right-most dimensions are not the same.\n",
    "\n"
   ]
  },
  {
   "cell_type": "markdown",
   "metadata": {
    "slideshow": {
     "slide_type": "slide"
    }
   },
   "source": [
    "### Broadcasting with Scalars\n",
    "We can also perform mathematical operations between arrays and scalars (single values)"
   ]
  },
  {
   "cell_type": "code",
   "execution_count": null,
   "metadata": {},
   "outputs": [],
   "source": [
    "# 1-D array\n",
    "array1 = np.array([1, 2, 3])\n",
    "\n",
    "# scalar\n",
    "number = 5\n",
    "\n",
    "# add scalar and 1-D array\n",
    "sum = array1 + number\n",
    "\n",
    "print(sum)"
   ]
  },
  {
   "cell_type": "markdown",
   "metadata": {},
   "source": [
    "In this example, NumPy automatically expands the scalar number to an 1-D array and then performs the element-wise addition."
   ]
  },
  {
   "cell_type": "markdown",
   "metadata": {
    "slideshow": {
     "slide_type": "slide"
    }
   },
   "source": [
    "## NumPy Matrix Operations\n",
    "A matrix is a two-dimensional data structure where numbers are arranged into rows and columns.\n",
    "\n",
    "![Squared 3x3 matrix](./imgs/numpy-matrix-3-3.png)\n",
    "\n",
    "The above matrix is a 3x3 (pronounced \"three by three\") matrix because it has 3 rows and 3 columns.\n",
    "\n",
    "It's also called a squared matrix because it has the same number of rows and columns."
   ]
  },
  {
   "cell_type": "markdown",
   "metadata": {
    "slideshow": {
     "slide_type": "slide"
    }
   },
   "source": [
    "NumPy Matrix Operations\n",
    "Here are some of the basic matrix operations provided by NumPy.\n",
    "\n",
    "| Functions | Descriptions |\n",
    "| --- | --- |\n",
    "| `array()` | Create a matrix |\n",
    "| `dot()` | performs matrix multiplication |\n",
    "| `transpose()` | Transpose a matrix\n",
    "| `trace()` | Find the sum of diagonal elements |\n",
    "| `linalg.det()` | Find the determinant |\n",
    "| `linalg.inv()` | Find the inverse |\n",
    "| `flatten()` | Flatten a matrix |\n",
    "| `reshape()` | Reshape a matrix |\n",
    "\n",
    "and many others function. See the full list of NumPy matrix functions [here](https://numpy.org/doc/stable/reference/routines.linalg.html#module-numpy.linalg)."
   ]
  },
  {
   "cell_type": "markdown",
   "metadata": {
    "slideshow": {
     "slide_type": "slide"
    }
   },
   "source": [
    "### Create Matrix in NumPy\n",
    "In NumPy, we use the np.array() function to create a matrix."
   ]
  },
  {
   "cell_type": "code",
   "execution_count": null,
   "metadata": {},
   "outputs": [],
   "source": [
    "# create a 2x2 matrix\n",
    "matrix1 = np.array([[1, 3], \n",
    "                   [5, 7]])\n",
    "\n",
    "print(\"2x2 Matrix:\\n\",matrix1)\n",
    "\n",
    "# create a 3x3  matrix\n",
    "matrix2 = np.array([[2, 3, 5],\n",
    "             \t    [7, 14, 21],\n",
    "                    [1, 3, 5]])\n",
    "                    \n",
    "print(\"\\n3x3 Matrix:\\n\",matrix2)"
   ]
  },
  {
   "cell_type": "markdown",
   "metadata": {},
   "source": [
    "Here, we have created two matrices: 2x2 matrix and 3x3 matrix by passing a list of lists to the np.array() function respectively."
   ]
  },
  {
   "cell_type": "markdown",
   "metadata": {
    "slideshow": {
     "slide_type": "slide"
    }
   },
   "source": [
    "### Perform Matrix Multiplication in NumPy\n",
    "We use the np.dot() function to perform multiplication between two matrices."
   ]
  },
  {
   "cell_type": "code",
   "execution_count": 4,
   "metadata": {},
   "outputs": [
    {
     "name": "stdout",
     "output_type": "stream",
     "text": [
      "matrix1 x matrix2: \n",
      " [[ 14  32]\n",
      " [ 32  77]\n",
      " [ 50 122]]\n"
     ]
    }
   ],
   "source": [
    "# create two matrices\n",
    "matrix1 = np.array([[1,2,3], [4,5,6], [7,8,9]])\n",
    "             \n",
    "matrix2 = np.array([[1,4], \n",
    "                    [2,5], [3,6]])\n",
    "\n",
    "# calculate the dot product of the two matrices\n",
    "result = np.dot(matrix1, matrix2)\n",
    "\n",
    "print(\"matrix1 x matrix2: \\n\",result)"
   ]
  },
  {
   "cell_type": "markdown",
   "metadata": {
    "slideshow": {
     "slide_type": "slide"
    }
   },
   "source": [
    "In this example, we have used the np.dot(matrix1, matrix2) function to perform matrix multiplication between two matrices: matrix1 and matrix2.\n",
    "\n",
    "To learn more about Matrix multiplication, please visit NumPy Matrix Multiplication."
   ]
  },
  {
   "cell_type": "markdown",
   "metadata": {},
   "source": [
    "**Note :** We can only take a dot product of matrices when they have a common dimension size. For example, For A = (M x N) and B = (N x K) when we take a dot product of C = A . B the resulting matrix is of size C = (M x K)."
   ]
  },
  {
   "cell_type": "markdown",
   "metadata": {
    "slideshow": {
     "slide_type": "slide"
    }
   },
   "source": [
    "### Transpose NumPy Matrix\n",
    "The transpose of a matrix is a new matrix that is obtained by exchanging the rows and columns. For 2x2 matrix,\n",
    "\n",
    "```\n",
    "Matrix:\n",
    "a11    a12    \n",
    "a21    a22    \n",
    "\n",
    "Transposed Matrix:\n",
    "a11    a21\n",
    "a12    a22\n",
    "```\n",
    "\n",
    "In NumPy, we can obtain the transpose of a matrix using the np.transpose() function."
   ]
  },
  {
   "cell_type": "markdown",
   "metadata": {
    "slideshow": {
     "slide_type": "slide"
    }
   },
   "source": [
    "# create a matrix\n",
    "matrix1 = np.array([[1, 3], \n",
    "             \t\t[5, 7]])\n",
    "\n",
    "# get transpose of matrix1\n",
    "result = np.transpose(matrix1)\n",
    "\n",
    "print(result)"
   ]
  },
  {
   "cell_type": "markdown",
   "metadata": {},
   "source": [
    "**Note :** Alternatively, we can use the .T attribute to get the transpose of a matrix. For example, if we used matrix1.T in our previous example, the result would be the same."
   ]
  },
  {
   "cell_type": "markdown",
   "metadata": {
    "slideshow": {
     "slide_type": "slide"
    }
   },
   "source": [
    "### Calculate Inverse of a Matrix in NumPy\n",
    "In NumPy, we use the np.linalg.inv() function to calculate the inverse of the given matrix.\n",
    "\n",
    "However, it is important to note that not all matrices have an inverse. Only square matrices that have a non-zero determinant have an inverse.\n",
    "\n",
    "Now, let's use np.linalg.inv() to calculate the inverse of a square matrix."
   ]
  },
  {
   "cell_type": "code",
   "execution_count": null,
   "metadata": {
    "slideshow": {
     "slide_type": "slide"
    }
   },
   "outputs": [],
   "source": [
    "# create a 3x3 square matrix\n",
    "matrix1 = np.array([[1, 3, 5], \n",
    "             \t\t[7, 9, 2],\n",
    "                    [4, 6, 8]])\n",
    "\n",
    "# find inverse of matrix1\n",
    "result = np.linalg.inv(matrix1)\n",
    "\n",
    "print(result)"
   ]
  },
  {
   "cell_type": "markdown",
   "metadata": {},
   "source": [
    "**Note :** If we try to find the inverse of a non-square matrix, we will get an error message: numpy.linalg.linalgerror: Last 2 dimensions of the array must be square"
   ]
  },
  {
   "cell_type": "markdown",
   "metadata": {
    "slideshow": {
     "slide_type": "slide"
    }
   },
   "source": [
    "### Find Determinant of a Matrix in NumPy\n",
    "We can find the determinant of a square matrix using the np.linalg.det() function to calculate the determinant of the given matrix.\n",
    "\n",
    "Suppose we have a 2x2 matrix A:\n",
    "```\n",
    "a b\n",
    "c d\n",
    "```\n",
    "So, the determinant of a 2x2 matrix will be:\n",
    "```\n",
    "det(A) = ad - bc\n",
    "```\n",
    "where a, b, c, and d are the elements of the matrix."
   ]
  },
  {
   "cell_type": "code",
   "execution_count": null,
   "metadata": {
    "slideshow": {
     "slide_type": "slide"
    }
   },
   "outputs": [],
   "source": [
    "import numpy as np\n",
    "\n",
    "# create a matrix\n",
    "matrix1 = np.array([[1, 2, 3], \n",
    "                     [4, 5, 1],\n",
    "                    [2, 3, 4]])\n",
    "\n",
    "# find determinant of matrix1\n",
    "result = np.linalg.det(matrix1)\n",
    "\n",
    "print(result)"
   ]
  },
  {
   "cell_type": "markdown",
   "metadata": {
    "slideshow": {
     "slide_type": "slide"
    }
   },
   "source": [
    "### Flatten Matrix in NumPy\n",
    "Flattening a matrix simply means converting a matrix into a 1D array.\n",
    "\n",
    "To flatten a matrix into a 1-D array we use the array.flatten() function. "
   ]
  },
  {
   "cell_type": "code",
   "execution_count": null,
   "metadata": {},
   "outputs": [],
   "source": [
    "# create a 2x3 matrix\n",
    "matrix1 = np.array([[1, 2, 3], \n",
    "             \t\t[4, 5, 7]])\n",
    "\n",
    "result = matrix1.flatten()\n",
    "print(\"Flattened 2x3 matrix:\", result)"
   ]
  },
  {
   "cell_type": "markdown",
   "metadata": {},
   "source": [
    "Here, we have used the matrix1.flatten() function to flatten matrix1 into a 1D array, without compromising any of its elements"
   ]
  },
  {
   "cell_type": "markdown",
   "metadata": {
    "slideshow": {
     "slide_type": "slide"
    }
   },
   "source": [
    "## NumPy Vectorization\n",
    "NumPy vectorization involves performing mathematical operations on entire arrays, eliminating the need to loop through individual elements.\n",
    "\n",
    "We will see an overview of NumPy vectorization and demonstrate its advantages through examples."
   ]
  },
  {
   "cell_type": "markdown",
   "metadata": {
    "slideshow": {
     "slide_type": "slide"
    }
   },
   "source": [
    "### NumPy Vectorization\n",
    "We've used the concept of vectorization many times in NumPy. It refers to performing element-wise operations on arrays.\n",
    "\n",
    "Let's take a simple example. When we add a number with a NumPy array, it adds up with each element of the array."
   ]
  },
  {
   "cell_type": "code",
   "execution_count": 5,
   "metadata": {
    "slideshow": {
     "slide_type": "slide"
    }
   },
   "outputs": [
    {
     "name": "stdout",
     "output_type": "stream",
     "text": [
      "[11 12 13 14 15]\n"
     ]
    }
   ],
   "source": [
    "array1 = np.array([1, 2, 3, 4, 5 ])\n",
    "number = 10\n",
    "\n",
    "#  number sums up with each array element\n",
    "result = array1 + number\n",
    "\n",
    "print(result)"
   ]
  },
  {
   "cell_type": "markdown",
   "metadata": {},
   "source": [
    "Here, the number 10 adds up with each array element. This is possible because of vectorization.\n",
    "\n",
    "Without vectorization, performing the operation would require the use of loops."
   ]
  },
  {
   "cell_type": "markdown",
   "metadata": {
    "slideshow": {
     "slide_type": "slide"
    }
   },
   "source": [
    "#### Example: Numpy Vectorization to Add Two Arrays Together"
   ]
  },
  {
   "cell_type": "code",
   "execution_count": 6,
   "metadata": {
    "slideshow": {
     "slide_type": "slide"
    }
   },
   "outputs": [
    {
     "name": "stdout",
     "output_type": "stream",
     "text": [
      "Sum between two arrays:\n",
      " [[1 3 5]\n",
      " [4 6 8]]\n"
     ]
    }
   ],
   "source": [
    "# define two 2D arrays\n",
    "array1 = np.array([[1, 2, 3], [4, 5, 6]])\n",
    "array2 = np.array([[0, 1, 2], [0, 1, 2]])\n",
    "\n",
    "# add two arrays (vectorization)\n",
    "array_sum = array1 + array2\n",
    "\n",
    "print(\"Sum between two arrays:\\n\", array_sum)"
   ]
  },
  {
   "cell_type": "markdown",
   "metadata": {},
   "source": [
    "In this example, we have created two 2D arrays array1 and array2, and added them together.\n",
    "\n",
    "This is a vectorized operation, where corresponding elements of two arrays are added together element-wise."
   ]
  },
  {
   "cell_type": "markdown",
   "metadata": {
    "slideshow": {
     "slide_type": "slide"
    }
   },
   "source": [
    "### NumPy Vectorization Vs Python for Loop\n",
    "\n",
    "Even though NumPy is a Python library, it inherited vectorization from C programming. As C is efficient in terms of speed and memory, NumPy vectorization is also much faster than Python.\n",
    "\n",
    "Let's compare the time it takes to perform a vectorized operation with that of an equivalent loop-based operation."
   ]
  },
  {
   "cell_type": "markdown",
   "metadata": {
    "slideshow": {
     "slide_type": "slide"
    }
   },
   "source": [
    "#### Python for loop"
   ]
  },
  {
   "cell_type": "code",
   "execution_count": 24,
   "metadata": {
    "slideshow": {
     "slide_type": "slide"
    }
   },
   "outputs": [
    {
     "name": "stdout",
     "output_type": "stream",
     "text": [
      "For loop time: 5.507469177246094e-05\n"
     ]
    }
   ],
   "source": [
    "import time\n",
    "\n",
    "start = time.time()\n",
    "\n",
    "array1 = [1, 2, 3, 4, 5]\n",
    "\n",
    "for i in range(len(array1)):\n",
    "    array1[i] += 10\n",
    "\n",
    "end = time.time()\n",
    "\n",
    "print(\"For loop time:\", end - start)"
   ]
  },
  {
   "cell_type": "markdown",
   "metadata": {
    "slideshow": {
     "slide_type": "slide"
    }
   },
   "source": [
    "#### NumPy Vectorization"
   ]
  },
  {
   "cell_type": "code",
   "execution_count": 13,
   "metadata": {},
   "outputs": [
    {
     "name": "stdout",
     "output_type": "stream",
     "text": [
      "Vectorization time: 0.0001442432403564453\n"
     ]
    }
   ],
   "source": [
    "start = time.time()\n",
    "\n",
    "array1 = np.array([1, 2, 3, 4, 5 ])\n",
    "\n",
    "result = array1 + 10\n",
    "\n",
    "end = time.time()\n",
    "\n",
    "print(\"Vectorization time:\", end - start)"
   ]
  },
  {
   "cell_type": "markdown",
   "metadata": {},
   "source": [
    "Here, the difference in execution time between vectorization and a for loop is significant, even for simple operation.\n",
    "\n",
    "This comparison illustrates the performance benefits of vectorization, especially when working with large datasets."
   ]
  },
  {
   "cell_type": "markdown",
   "metadata": {
    "slideshow": {
     "slide_type": "slide"
    }
   },
   "source": [
    "### NumPy Vectorize() Function\n",
    "In NumPy, every mathematical operation with arrays is automatically vectorized. So we don't always need to use the vectorize() function.\n",
    "\n",
    "Let's take a scenario. You have an array and a function that returns the square of a positive number."
   ]
  },
  {
   "cell_type": "code",
   "execution_count": null,
   "metadata": {
    "slideshow": {
     "slide_type": "slide"
    }
   },
   "outputs": [],
   "source": [
    "# array\n",
    "array1 = np.array([-1, 0, 2, 3, 4])\n",
    "\n",
    "# function that returns the square of a positive number\n",
    "def find_square(x):\n",
    "    if x < 0:\n",
    "        return 0\n",
    "    else:\n",
    "        return x ** 2"
   ]
  },
  {
   "cell_type": "markdown",
   "metadata": {},
   "source": [
    "Now, to apply the function find_square() to array1, we have two options: use a loop or vectorize the operation.\n",
    "\n",
    "Since loops are complicated and slow by nature, it's efficient and convenient to use vectorize()."
   ]
  },
  {
   "cell_type": "code",
   "execution_count": 25,
   "metadata": {
    "slideshow": {
     "slide_type": "slide"
    }
   },
   "outputs": [
    {
     "name": "stdout",
     "output_type": "stream",
     "text": [
      "[ 0  0  4  9 16]\n"
     ]
    }
   ],
   "source": [
    "# array whose square we need to find\n",
    "array1 = np.array([-1, 0, 2, 3, 4])\n",
    "\n",
    "# function to find the square\n",
    "def find_square(x):\n",
    "    if x < 0:\n",
    "        return 0\n",
    "    else:\n",
    "        return x ** 2\n",
    "        \n",
    "# vectorize() to vectorize the function find_square()\n",
    "vectorized_function = np.vectorize(find_square)\n",
    "\n",
    "# passing an array to a vectorized function\n",
    "result = vectorized_function(array1)\n",
    "\n",
    "print(result)"
   ]
  },
  {
   "cell_type": "markdown",
   "metadata": {},
   "source": [
    "In this example, we used the vectorize() function to vectorize the find_square() function. We then passed array1 as a parameter to the vectorized function."
   ]
  },
  {
   "cell_type": "markdown",
   "metadata": {
    "slideshow": {
     "slide_type": "slide"
    }
   },
   "source": [
    "## NumPy Boolean Indexing\n",
    "In NumPy, boolean indexing allows us to filter elements from an array based on a specific condition.\n",
    "\n",
    "We use boolean masks to specify the condition.\n",
    "\n",
    "Before we learn about boolean indexing, we need to know about boolean masks."
   ]
  },
  {
   "cell_type": "markdown",
   "metadata": {
    "slideshow": {
     "slide_type": "slide"
    }
   },
   "source": [
    "### Boolean Masks in NumPy\n",
    "Boolean mask is a numpy array containing truth values (True/False) that correspond to each element in the array.\n",
    "\n",
    "Suppose we have an array named array1."
   ]
  },
  {
   "cell_type": "code",
   "execution_count": 27,
   "metadata": {},
   "outputs": [],
   "source": [
    "array1 = np.array([12, 24, 16, 21, 32, 29, 7, 15])"
   ]
  },
  {
   "cell_type": "markdown",
   "metadata": {
    "slideshow": {
     "slide_type": "slide"
    }
   },
   "source": [
    "Now let's create a mask that selects all elements of array1 that are greater than 20.\n",
    "```python\n",
    "boolean_mask = array1 > 20\n",
    "```\n",
    "Here, array1 > 20 creates a boolean mask that evaluates to True for elements that are greater than 20, and False for elements that are less than or equal to 20.\n",
    "\n",
    "The resulting mask is an array stored in the boolean_mask variable as:"
   ]
  },
  {
   "cell_type": "code",
   "execution_count": 28,
   "metadata": {},
   "outputs": [
    {
     "data": {
      "text/plain": [
       "array([False,  True, False,  True,  True,  True, False, False])"
      ]
     },
     "execution_count": 28,
     "metadata": {},
     "output_type": "execute_result"
    }
   ],
   "source": [
    "boolean_mask = array1 > 20\n",
    "boolean_mask"
   ]
  },
  {
   "cell_type": "markdown",
   "metadata": {
    "slideshow": {
     "slide_type": "slide"
    }
   },
   "source": [
    "### 1D Boolean Indexing in NumPy\n",
    "Boolean Indexing allows us to create a filtered subset of an array by passing a boolean mask as an index.\n",
    "\n",
    "The boolean mask selects only those elements in the array that have a True value at the corresponding index position.\n",
    "\n",
    "Let's create a boolean indexing of the boolean mask in the above example."
   ]
  },
  {
   "cell_type": "code",
   "execution_count": 29,
   "metadata": {},
   "outputs": [
    {
     "data": {
      "text/plain": [
       "array([24, 21, 32, 29])"
      ]
     },
     "execution_count": 29,
     "metadata": {},
     "output_type": "execute_result"
    }
   ],
   "source": [
    "array1[boolean_mask]"
   ]
  },
  {
   "cell_type": "markdown",
   "metadata": {},
   "source": [
    "We'll use the boolean indexing to select only the odd numbers from an array."
   ]
  },
  {
   "cell_type": "code",
   "execution_count": 30,
   "metadata": {
    "slideshow": {
     "slide_type": "slide"
    }
   },
   "outputs": [
    {
     "name": "stdout",
     "output_type": "stream",
     "text": [
      "[1 3 5 7 9]\n"
     ]
    }
   ],
   "source": [
    "# create an array of numbers\n",
    "array1 = np.array([1, 2, 3, 4, 5, 6, 7, 8, 9, 10])\n",
    "\n",
    "# create a boolean mask\n",
    "boolean_mask = array1 % 2 != 0\n",
    "\n",
    "# boolean indexing to filter the odd numbers\n",
    "result = array1[boolean_mask]\n",
    "\n",
    "print(result)\n",
    "\n",
    "# Output: [ 1  3  5  7 9]"
   ]
  },
  {
   "cell_type": "markdown",
   "metadata": {
    "slideshow": {
     "slide_type": "slide"
    }
   },
   "source": [
    "In this example, we have used the boolean indexing to select only the odd numbers from the array1 array.\n",
    "\n",
    "Here, the expression numbers % 2 != 0 is a boolean mask. If the elements of array1 meet the condition specified in the boolean mask, it replaces the element (odd numbers) with True, and even numbers with False.\n",
    "\n",
    "With boolean indexing, a filtered array with only the True valued elements is returned. Hence, we get an array with odd numbers."
   ]
  },
  {
   "cell_type": "markdown",
   "metadata": {
    "slideshow": {
     "slide_type": "slide"
    }
   },
   "source": [
    "#### Example: 1D Boolean Indexing in NumPy"
   ]
  },
  {
   "cell_type": "code",
   "execution_count": null,
   "metadata": {},
   "outputs": [],
   "source": [
    "# create an array of integers\n",
    "array1 = np.array([1, 2, 4, 9, 11, 16, 18, 22, 26, 31, 33, 47, 51, 52])\n",
    "\n",
    "# create a boolean mask using combined logical operators\n",
    "boolean_mask = (array1 < 10) | (array1 > 40)\n",
    "\n",
    "# apply the boolean mask to the array \n",
    "result = array1[boolean_mask]\n",
    "\n",
    "print(result)\n",
    "\n",
    "# Output: [ 1  2  4  9 47 51 52]"
   ]
  },
  {
   "cell_type": "markdown",
   "metadata": {},
   "source": [
    "Here, we have created a boolean mask using the | operator to select all the elements in array1 that are less than 10 or greater than 40."
   ]
  },
  {
   "cell_type": "markdown",
   "metadata": {
    "slideshow": {
     "slide_type": "slide"
    }
   },
   "source": [
    "### Modify Elements Using Boolean Indexing\n",
    "In NumPy, we can use boolean indexing to modify elements of the array."
   ]
  },
  {
   "cell_type": "code",
   "execution_count": 31,
   "metadata": {},
   "outputs": [
    {
     "name": "stdout",
     "output_type": "stream",
     "text": [
      "[1 0 3 0 5 0 7 0 9 0]\n"
     ]
    }
   ],
   "source": [
    "# create an array of numbers\n",
    "numbers = np.array([1, 2, 3, 4, 5, 6, 7, 8, 9, 10])\n",
    "\n",
    "# make a copy of the array\n",
    "numbers_copy = numbers.copy()\n",
    "\n",
    "# change all even numbers to 0 in the copy\n",
    "numbers_copy[numbers % 2 == 0] = 0\n",
    "\n",
    "# print the modified copy\n",
    "print(numbers_copy)"
   ]
  },
  {
   "cell_type": "markdown",
   "metadata": {},
   "source": [
    "Here, numbers_copy[numbers % 2 == 0] accesses all even numbers of the array and then we have assigned 0 to those numbers."
   ]
  },
  {
   "cell_type": "markdown",
   "metadata": {
    "slideshow": {
     "slide_type": "slide"
    }
   },
   "source": [
    "### 2D Boolean Indexing in NumPy\n",
    "Boolean indexing can also be applied to multi-dimensional arrays in NumPy."
   ]
  },
  {
   "cell_type": "code",
   "execution_count": null,
   "metadata": {},
   "outputs": [],
   "source": [
    "# create a 2D  array\n",
    "array1 = np.array([[1, 7, 9], \n",
    "                    [14, 19, 21], \n",
    "                    [25, 29, 35]])\n",
    "\n",
    "# create a boolean mask based on the condition \n",
    "# that elements are greater than 9\n",
    "boolean_mask = array1 > 9\n",
    "\n",
    "# select only the elements that satisfy the condition\n",
    "result = array1[boolean_mask]\n",
    "\n",
    "print(result)"
   ]
  },
  {
   "cell_type": "markdown",
   "metadata": {
    "slideshow": {
     "slide_type": "slide"
    }
   },
   "source": [
    "In this example, we have applied boolean indexing to the 2D array named array1.\n",
    "\n",
    "We then created boolean_mask based on the condition that elements are greater than 9. The resulting mask is,\n",
    "```python\n",
    "[[False, False, False], \n",
    " [ True,  True,  True], \n",
    " [ True,  True,  True]]\n",
    "```\n",
    "We then use this boolean mask to index array1, which returns a flattened 1D array containing only the elements that satisfy the condition.\n",
    "```python\n",
    "[14, 19, 21, 25, 29, 35]\n",
    "```"
   ]
  },
  {
   "cell_type": "markdown",
   "metadata": {
    "slideshow": {
     "slide_type": "slide"
    }
   },
   "source": [
    "## NumPy Fancy Indexing\n",
    "In NumPy, fancy indexing allows us to use an array of indices to access multiple array elements at once.\n",
    "\n",
    "Fancy indexing can perform more advanced and efficient array operations, including conditional filtering, sorting, and so on."
   ]
  },
  {
   "cell_type": "markdown",
   "metadata": {
    "slideshow": {
     "slide_type": "slide"
    }
   },
   "source": [
    "### Select Multiple Elements Using NumPy Fancy Indexing"
   ]
  },
  {
   "cell_type": "code",
   "execution_count": 32,
   "metadata": {},
   "outputs": [
    {
     "name": "stdout",
     "output_type": "stream",
     "text": [
      "[2 3 6 8]\n"
     ]
    }
   ],
   "source": [
    "# create a numpy array\n",
    "array1 = np.array([1, 2, 3, 4, 5, 6, 7, 8])\n",
    "\n",
    "# select elements at index 1, 2, 5, 7\n",
    "select_elements = array1[[1, 2, 5, 7]]\n",
    "\n",
    "print(select_elements)"
   ]
  },
  {
   "cell_type": "markdown",
   "metadata": {},
   "source": [
    "In this example, the resulting array select_elements contains the elements of array1 that correspond to the indices [1, 2, 5, 7] which are 2, 3, 6, and 8 respectively."
   ]
  },
  {
   "cell_type": "markdown",
   "metadata": {
    "slideshow": {
     "slide_type": "slide"
    }
   },
   "source": [
    "## Example: NumPy Fancy Indexing"
   ]
  },
  {
   "cell_type": "code",
   "execution_count": 36,
   "metadata": {},
   "outputs": [
    {
     "name": "stdout",
     "output_type": "stream",
     "text": [
      "Simple Indexing: 4\n",
      "Fancy Indexing: [2 4 6 2]\n"
     ]
    }
   ],
   "source": [
    "array1 = np.array([1, 2, 3, 4, 5, 6, 7, 8])\n",
    "\n",
    "# select a single element\n",
    "simple_indexing = array1[3]\n",
    "\n",
    "print(\"Simple Indexing:\",simple_indexing)   # 4\n",
    "\n",
    "# select multiple elements\n",
    "fancy_indexing = array1[[1, 3, 5, 1]]\n",
    "\n",
    "print(\"Fancy Indexing:\",fancy_indexing)   # [2 3 6 8]"
   ]
  },
  {
   "cell_type": "markdown",
   "metadata": {
    "slideshow": {
     "slide_type": "slide"
    }
   },
   "source": [
    "## Fancy Indexing for Sorting NumPy Array\n",
    "Fancy indexing can also sort a NumPy array."
   ]
  },
  {
   "cell_type": "code",
   "execution_count": 35,
   "metadata": {},
   "outputs": [
    {
     "name": "stdout",
     "output_type": "stream",
     "text": [
      "[1 2 3 4 5 6 7 8]\n"
     ]
    }
   ],
   "source": [
    "array1 = np.array([3, 2, 6, 1, 8, 5, 7, 4])\n",
    "\n",
    "# sort array1 using fancy indexing\n",
    "sorted_array = array1[np.argsort(array1)]\n",
    "\n",
    "print(sorted_array)"
   ]
  },
  {
   "cell_type": "markdown",
   "metadata": {
    "slideshow": {
     "slide_type": "slide"
    }
   },
   "source": [
    "Here, we are using the fancy indexing with the argsort() function to sort the array1 in the ascending order."
   ]
  },
  {
   "cell_type": "markdown",
   "metadata": {},
   "source": [
    "We could also use fancy indexing to sort the array in descending order."
   ]
  },
  {
   "cell_type": "code",
   "execution_count": 38,
   "metadata": {
    "slideshow": {
     "slide_type": "slide"
    }
   },
   "outputs": [
    {
     "name": "stdout",
     "output_type": "stream",
     "text": [
      "[8 7 6 5 4 3 2 1]\n"
     ]
    }
   ],
   "source": [
    "array1 = np.array([3, 2, 6, 1, 8, 5, 7, 4])\n",
    "\n",
    "# sort array1 using fancy indexing in descending order\n",
    "sorted_array = array1[np.argsort(-array1)]\n",
    "\n",
    "print(sorted_array)"
   ]
  },
  {
   "cell_type": "markdown",
   "metadata": {},
   "source": [
    "Here, first we multiplied array1 by -1 to sort in descending order and then used the fancy indexing to return the sorted array."
   ]
  },
  {
   "cell_type": "markdown",
   "metadata": {
    "slideshow": {
     "slide_type": "slide"
    }
   },
   "source": [
    "## Fancy Indexing to Assign New Values to Specific Elements\n",
    "We can also assign new values to specific elements of a NumPy array using fancy indexing."
   ]
  },
  {
   "cell_type": "code",
   "execution_count": null,
   "metadata": {
    "slideshow": {
     "slide_type": "slide"
    }
   },
   "outputs": [],
   "source": [
    "array1 = np.array([3, 2, 6, 1, 8, 5, 7, 4])\n",
    "\n",
    "# create a list of indices to assign new values\n",
    "indices = [1, 3, 6]\n",
    "\n",
    "# create a new array of values to assign\n",
    "new_values = [10, 20, 30]\n",
    "\n",
    "# use fancy indexing to assign new values to specific elements\n",
    "array1[indices] = new_values\n",
    "\n",
    "print(array1)\n",
    "\n",
    "# Output: [ 3 10  6 20  8  5 30  4]"
   ]
  },
  {
   "cell_type": "markdown",
   "metadata": {},
   "source": [
    "In this example, first we have created a list of indices called indices which specifies the elements of array1 that we want to assign new values to.\n",
    "\n",
    "Then we created the array for new values called new_values that we want to assign to the specified indices.\n",
    "\n",
    "Finally, we used fancy indexing with the list of indices to assign the new values to the specified elements of array1."
   ]
  },
  {
   "cell_type": "markdown",
   "metadata": {
    "slideshow": {
     "slide_type": "slide"
    }
   },
   "source": [
    "## Fancy Indexing on N-d Arrays\n",
    "We can also use fancy indexing on multi-dimensional arrays.\n",
    "\n",
    "Let's see an example to select specific rows using fancy indexing."
   ]
  },
  {
   "cell_type": "code",
   "execution_count": 39,
   "metadata": {
    "slideshow": {
     "slide_type": "slide"
    }
   },
   "outputs": [
    {
     "name": "stdout",
     "output_type": "stream",
     "text": [
      "[[ 1  3  5]\n",
      " [13 18 29]]\n"
     ]
    }
   ],
   "source": [
    "# create a 2D array\n",
    "array1 = np.array([[1, 3, 5], \n",
    "                [11, 7, 9], \n",
    "                [13, 18, 29]])\n",
    "\n",
    "# create an array of row indices\n",
    "row_indices = np.array([0, 2])\n",
    "\n",
    "# use fancy indexing to select specific rows\n",
    "selected_rows = array1[row_indices, :]\n",
    "\n",
    "print(selected_rows)"
   ]
  },
  {
   "cell_type": "markdown",
   "metadata": {},
   "source": [
    "Here, we have created a 2D array named array1 and an array of row indices named row_indices.\n",
    "\n",
    "Then, we used fancy indexing to select the rows with indices 0 and 2 from array1."
   ]
  }
 ],
 "metadata": {
  "celltoolbar": "Slideshow",
  "kernelspec": {
   "display_name": "Python 3 (ipykernel)",
   "language": "python",
   "name": "python3"
  },
  "language_info": {
   "codemirror_mode": {
    "name": "ipython",
    "version": 3
   },
   "file_extension": ".py",
   "mimetype": "text/x-python",
   "name": "python",
   "nbconvert_exporter": "python",
   "pygments_lexer": "ipython3",
   "version": "3.10.13"
  }
 },
 "nbformat": 4,
 "nbformat_minor": 2
}
