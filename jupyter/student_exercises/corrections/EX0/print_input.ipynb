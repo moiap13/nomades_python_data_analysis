{
 "cells": [
  {
   "cell_type": "markdown",
   "metadata": {},
   "source": [
    "# Exercise on print and input\n",
    "\n",
    "In this exercise, you will learn how to use the `print` and `input` functions in Python."
   ]
  },
  {
   "cell_type": "markdown",
   "metadata": {},
   "source": [
    "## EX0\n",
    "\n",
    "Write a Python program that prompts the user to enter a number and then prints the number entered by the user.\n",
    "\n",
    "> **Note :** You can use the `input` function to take input from the user."
   ]
  },
  {
   "cell_type": "code",
   "execution_count": 4,
   "metadata": {},
   "outputs": [
    {
     "name": "stdout",
     "output_type": "stream",
     "text": [
      "12\n"
     ]
    }
   ],
   "source": [
    "print(input(\"Enter a number: \"))"
   ]
  },
  {
   "cell_type": "markdown",
   "metadata": {},
   "source": [
    "## EX1\n",
    "\n",
    "Write a Python program that prompts the user to enter two numbers and then prints the sum of the two numbers."
   ]
  },
  {
   "cell_type": "code",
   "execution_count": 15,
   "metadata": {},
   "outputs": [
    {
     "data": {
      "text/plain": [
       "63"
      ]
     },
     "execution_count": 15,
     "metadata": {},
     "output_type": "execute_result"
    }
   ],
   "source": [
    "# n1, n2 = [int(x) for x in input(\"Enter the two numbers\").split()] # list-comprehension\n",
    "# print(n1 + n2)\n",
    "\n",
    "n1 = (input(\"Enter first number: \"))\n",
    "n2 = int(input(\"Enter second number: \"))\n",
    "\n",
    "print(int(n1) + n2)\n",
    "\n",
    "# sum_total = 0\n",
    "# for string_number in input(\"Enter all the humbers you want to sum up: \").split():\n",
    "#   sum_total += int(string_number)\n",
    "\n",
    "# sum_total\n",
    "\n",
    "sum([int(string_number) for string_number in input(\"Enter all the humbers you want to sum up: \").split()])"
   ]
  },
  {
   "cell_type": "markdown",
   "metadata": {},
   "source": [
    "## EX2\n",
    "\n",
    "Write a Python program that prompts the user to enter it's name and store it in a variable called `name`. Then, ask again the user to enter his first name and store it in a variable called `first_name`. Finally, print \"Hello \\<FIRSTNAME> \\<LASTNAME>\"\n",
    "\n",
    "> **Note :** The concatenation between strings is done using `+` operators\n",
    "\n",
    "> **Note :** Try to use `F-Strings` to format the string instead of concatenation, a practical tutorial [here](https://www.datacamp.com/tutorial/f-string-formatting-in-python?utm_source=google&utm_medium=paid_search&utm_campaignid=19589720821&utm_adgroupid=157156375191&utm_device=c&utm_keyword=&utm_matchtype=&utm_network=g&utm_adpostion=&utm_creative=716160943156&utm_targetid=aud-2274077226600:dsa-2218886984100&utm_loc_interest_ms=&utm_loc_physical_ms=9188033&utm_content=&utm_campaign=230119_1-sea~dsa~tofu_2-b2c_3-row-p1_4-prc_5-na_6-na_7-le_8-pdsh-go_9-nb-e_10-na_11-na-oct24&gad_source=1&gbraid=0AAAAADQ9WsEIG5H8S0ojAiO70SEXwoWcf&gclid=Cj0KCQjw99e4BhDiARIsAISE7P_nVeQNKmPhXGfH5tVapRIHJzLAarQ4W718OnIt97YgoA9FBG_FVLYaAsTmEALw_wcB)"
   ]
  },
  {
   "cell_type": "code",
   "execution_count": 16,
   "metadata": {},
   "outputs": [
    {
     "name": "stdout",
     "output_type": "stream",
     "text": [
      "Hello Pisanello Antonio\n"
     ]
    }
   ],
   "source": [
    "name = input(\"Enter your name: \")\n",
    "firstname = input(\"Enter your firstname: \")\n",
    "\n",
    "print(f\"Hello {firstname} {name}\")"
   ]
  }
 ],
 "metadata": {
  "kernelspec": {
   "display_name": "nomades_pada",
   "language": "python",
   "name": "python3"
  },
  "language_info": {
   "codemirror_mode": {
    "name": "ipython",
    "version": 3
   },
   "file_extension": ".py",
   "mimetype": "text/x-python",
   "name": "python",
   "nbconvert_exporter": "python",
   "pygments_lexer": "ipython3",
   "version": "3.12.7"
  },
  "orig_nbformat": 4
 },
 "nbformat": 4,
 "nbformat_minor": 2
}
