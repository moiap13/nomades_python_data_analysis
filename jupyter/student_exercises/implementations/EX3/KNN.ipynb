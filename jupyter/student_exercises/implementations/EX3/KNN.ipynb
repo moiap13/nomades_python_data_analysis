{
 "cells": [
  {
   "cell_type": "markdown",
   "metadata": {},
   "source": [
    "# KNN - K-Nearest Neighbors\n",
    "\n",
    "The k-Nearest Neighbors (k-NN) algorithm is a simple, non-parametric machine learning method used for classification and regression. It works by finding the `k` closest data points (neighbors) to a given query point in the feature space and classifies the query point based on the majority class of its neighbors (in classification) or computes an average (in regression). The “closeness” is typically measured by a distance metric, such as Euclidean distance. Since k-NN relies on the proximity of data points, it is sensitive to the local data structure and performs well when the data is well separated.\n",
    "\n",
    "> In this exercices we'll create the KNN classification."
   ]
  },
  {
   "cell_type": "markdown",
   "metadata": {},
   "source": [
    "## Prerequisites\n",
    "\n",
    "We defined in this section the imports of the libraries we want to use.\n",
    "\n",
    "The data used in this exercise. The data is random 3D data, stored as a dictionnary. \n",
    "\n",
    "This data represents nomade's students we can see if a student got an `attestation`, `certification` or `mention` based on the lines of code of the project and the number of support session taken.\n",
    "\n",
    "The data is defined as follow:\n",
    "  - The key of the dictionnary is the target value, it represent a `class` informing what kind of paper did the student received. The possibles values are :\n",
    "    - `A`: attestation, when the project grade is below 4\n",
    "    - `Cert`: certification, when the project's grade is between 4 and 5 (not inclusive)\n",
    "    - `Mention`: mention, when the project's grade is over 5\n",
    "  - number of line of code, the number of line of code the project have the value is between 300 and 783\n",
    "  - number of support session taken, value between 0 and 6\n",
    "\n",
    "Then we define `K`, the numbers of neighbors we want to work with, this is a parameter try to executer the code with differents values of `k` to see if the result changes.\n",
    "\n",
    "Finally, the variable `new_point` represent the new data you want to predict. you provide the number of line of code and the number of support session taken and the `KNN` should return which class you should have. "
   ]
  },
  {
   "cell_type": "code",
   "execution_count": 39,
   "metadata": {},
   "outputs": [],
   "source": [
    "import matplotlib.pyplot as plt"
   ]
  },
  {
   "cell_type": "code",
   "execution_count": 40,
   "metadata": {},
   "outputs": [],
   "source": [
    "data = {\n",
    "  'A': [(448,0), (430,\t2), (283,1), (345,3), (314,3), (300, 0)],\n",
    "  'Cert': [(403,1), (357,\t2), (283,3), (345,5), (414,4), (550, 2)],\n",
    "  'Mention': [(503,6), (657,\t6), (783,3), (445,3), (460,3), (555, 4)]\n",
    "}"
   ]
  },
  {
   "cell_type": "code",
   "execution_count": 41,
   "metadata": {},
   "outputs": [],
   "source": [
    "K=3\n",
    "new_point = (400, 4)"
   ]
  },
  {
   "cell_type": "markdown",
   "metadata": {},
   "source": [
    "## Implementations"
   ]
  },
  {
   "cell_type": "markdown",
   "metadata": {},
   "source": [
    "### scatter_plot function\n",
    "\n",
    "This function take three parameters `X`, `Y` and `Z`, where:\n",
    "  - `X` is the number of line of code\n",
    "  - `Y` is the number of support session\n",
    "  - `Z` is the target value, as number [0, 1, 2]\n",
    "  \n",
    "this function create a scatter plot using the `plt.scatter` function from the `matplotlib.pyplot` library. The resulting plot should looks like this:\n",
    "\n",
    "![scatter_example](./imgs/scatter_example.png)\n",
    "\n"
   ]
  },
  {
   "cell_type": "code",
   "execution_count": 42,
   "metadata": {},
   "outputs": [],
   "source": [
    "def scatter_plot(X, Y, Z):\n",
    "  plt.scatter()\n",
    "  return plt"
   ]
  },
  {
   "cell_type": "markdown",
   "metadata": {},
   "source": [
    "### Distance function\n",
    "\n",
    "Because `KNN` relies on the proximity of data points to find the closest neighbors, the distance function is important here. \n",
    "\n",
    "we'll define the `LP` norm general distance function.\n",
    "\n",
    "$$ d(a, b, p) = \\sqrt[p]{\\sum_{i=1}^n |a_i - b_i|^p} $$\n",
    "\n",
    "where:\n",
    "  - $a$ and $b$ are two points\n",
    "  - $p$ is the norm, the default value is 2\n",
    "  - $n$ is the dimensionality of the space\n",
    "\n",
    "this function return the distance between two points"
   ]
  },
  {
   "cell_type": "code",
   "execution_count": 43,
   "metadata": {},
   "outputs": [],
   "source": [
    "def d(a, b, p=2):\n",
    "  return None"
   ]
  },
  {
   "cell_type": "markdown",
   "metadata": {},
   "source": [
    "### Plotting\n",
    "\n",
    "To make the first plot, to display the whole data on the field we need to convert the data (`dict`) inte three lists: `X`, `Y`, `Z`"
   ]
  },
  {
   "cell_type": "code",
   "execution_count": 44,
   "metadata": {},
   "outputs": [],
   "source": [
    "X = []\n",
    "Y = []\n",
    "Z = []\n",
    "\n",
    "# TODO: transform the dictionary to three list: X for lines of code, Y for number session and Z for the certification encoded"
   ]
  },
  {
   "cell_type": "code",
   "execution_count": 45,
   "metadata": {},
   "outputs": [
    {
     "data": {
      "image/png": "[encoded data removed]",
      "text/plain": [
       "<Figure size 640x480 with 1 Axes>"
      ]
     },
     "metadata": {},
     "output_type": "display_data"
    }
   ],
   "source": [
    "p = scatter_plot(X, Y, Z)\n",
    "p.scatter(new_point[0], new_point[1], color='r')\n",
    "p.show()"
   ]
  },
  {
   "cell_type": "markdown",
   "metadata": {},
   "source": [
    "### Prediction\n",
    "\n",
    "Because we choose classification, and our target variable is `categorical`, the prediction output will be the category the new user should assigned to. The prediciton is based on the `k` nearest neighbors. nearest here mean, with the smallest distance.\n",
    "\n",
    "To compute this prediction, we need to compute the distance between the new point and the data points in the dataset. then we have a list of distances we sort in `descending`order and we take the `k` first elements. The class that is the more represeted in this sub list is our prediction.\n",
    "\n",
    "##### Algo steps\n",
    "\n",
    "1. Compute all the distances from all the point of the dataset and the new point\n",
    "   1. > Don't forget to keep in memory the others informations of the current point (x, y and the class)\n",
    "2. Sort the list by distances in descending order\n",
    "   1. > You can use the `sorted` python function, providing the `key` parameter to specify how to sort [doc here](https://www.w3schools.com/python/ref_func_sorted.asp)\n",
    "3. Select the first `k` eleemnts\n",
    "4. given the first `k` element, count the class that is represented the most\n",
    "   1. > maybe think about the `mode` function we did in class :)\n",
    "  \n",
    "> **NOTE :** In this dataset, the two variables `lines_of_code` and `support_session` are under very different scale. \n",
    ">   - `line of code` is between 300 and 785\n",
    ">   - `support session` is between 0 and 6\n",
    ">\n",
    "> To make the distance function works well, we need to have a similar scaling for both variable, for this exercise we'll cheat a bit, you will multiply by `100` the number of support session (Y axis) to have a range between 0 and 600, which is more similar to line of code\n",
    "  "
   ]
  },
  {
   "cell_type": "code",
   "execution_count": 46,
   "metadata": {},
   "outputs": [
    {
     "name": "stdout",
     "output_type": "stream",
     "text": [
      "Cert\n"
     ]
    }
   ],
   "source": [
    "distances = []\n",
    "lp = 2\n",
    "\n",
    "# TODO: Predict ;P"
   ]
  },
  {
   "cell_type": "markdown",
   "metadata": {},
   "source": [
    "## Bonus Part\n",
    "\n",
    "### Part 1\n",
    "Now you predicted the result of this new student. I ask you to display in scatter plot this new student and to draw lines (`plot`) between him and the `k` nearest neighbors. This resulting graph should look like :\n",
    "\n",
    "![prediction_nei](./imgs/prediction_w_nei.png)"
   ]
  },
  {
   "cell_type": "markdown",
   "metadata": {},
   "source": [
    "### Part 2\n",
    "\n",
    "redo, the prediction algorithm, but this time try to change the values of `lp` parameter to see if it's predict differently, if it's not, why ? Try also to display the different neighbors to seee if changing the disstance include differents neighbors, if yes why ?"
   ]
  }
 ],
 "metadata": {
  "kernelspec": {
   "display_name": "base",
   "language": "python",
   "name": "python3"
  },
  "language_info": {
   "codemirror_mode": {
    "name": "ipython",
    "version": 3
   },
   "file_extension": ".py",
   "mimetype": "text/x-python",
   "name": "python",
   "nbconvert_exporter": "python",
   "pygments_lexer": "ipython3",
   "version": "3.10.14"
  }
 },
 "nbformat": 4,
 "nbformat_minor": 2
}
