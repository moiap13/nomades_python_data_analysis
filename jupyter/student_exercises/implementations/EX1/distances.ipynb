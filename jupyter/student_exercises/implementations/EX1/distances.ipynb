{
 "cells": [
  {
   "cell_type": "markdown",
   "metadata": {},
   "source": [
    "# EX1 - Distances\n",
    "\n",
    "In this jupyter, we'll see a basis in data science, **how to compute a distance** between two points (vectors)\n",
    "\n",
    "> In this jupyter we'll consider a 2D plane"
   ]
  },
  {
   "cell_type": "markdown",
   "metadata": {},
   "source": [
    "## Some Recaps\n",
    "### Vectors\n",
    "\n",
    "The vectors are mathematic objects that represents a translation in 2D space. a translation is defined by three properties:\n",
    "- The sign (positive or negative)\n",
    "- The direction (orientation)\n",
    "- The length (length)\n",
    "\n",
    "The length of a vector is the **norm** of the vector. The norm of the vector is denoted with $||\\vec{v}||$.\n",
    "\n",
    "The vectors are inside a d-plane, where d is the number of dimensions. (Here we'll use a 2d plane, so d=2). The vector space is defined by the vectors basis $[\\vec{i}, \\vec{j}]$\n",
    "\n",
    "#### Addition\n",
    "\n",
    "In mathematics the vectors should be added togethers. You can visualize it as this :\n",
    "\n",
    "![vec_add](imgs/vector_addition.png)\n",
    "\n",
    "Where $\\vec{c}$ is the addition of the vectors $\\vec{a}$ and $\\vec{b}$. Visually we copy the vector $\\vec{b}$ to the end of $\\vec{a}$.\n",
    "\n",
    "#### Scalar Multiplication\n",
    "\n",
    "In mathematics, the vectors can be multiplied by a scalar. You can visualize it as this :\n",
    "\n",
    "![vec_mul](imgs/vector_scalar_mult.png)\n",
    "\n",
    "this operation is called the scalar product because it multiplies the vector by a scalar. **it scale the vector**. \n",
    "\n",
    "> **Note**: If the scalar is negative, the vector will be reversed in the opposite direction.\n",
    "\n",
    "## Distances\n",
    "\n",
    "In Machine learning the concept of distance is important. The distances reprensents how far we are from a point. If we try to predict something we want to be as close as possible as a true point (ground truth).\n",
    "\n",
    "There exists multiple distances:\n",
    "- Manhattan distance (L1-Norm)\n",
    "- Euclidean distance (L2-Norm)\n",
    "- Dot product\n",
    "- cosine similarity\n",
    "\n",
    "![the different distances](imgs/distances.png)\n",
    "**source: https://weaviate.io/blog/distance-metrics-in-vector-search**\n",
    "\n",
    "## Exercise\n",
    "\n",
    "In this jupyter you'll be asked to implement these three distances"
   ]
  },
  {
   "cell_type": "code",
   "execution_count": 3,
   "metadata": {},
   "outputs": [],
   "source": [
    "def norm(x, y):\n",
    "  \"\"\"\n",
    "  Return the norm of the vector (x, y).\n",
    "  The norm is the lenght of the vector.\n",
    "  The norm is the square root of the sum of the squares of the two coordinates.\n",
    "\n",
    "  Example:\n",
    "  >>> norm(3, 4)\n",
    "  5\n",
    "  >>> norm(3, 0)\n",
    "  3\n",
    "  >>> norm(0, 4)\n",
    "  4\n",
    "  \"\"\"\n",
    "  return None"
   ]
  },
  {
   "cell_type": "code",
   "execution_count": 4,
   "metadata": {},
   "outputs": [],
   "source": [
    "def manhattan_distance(x1, y1, x2, y2):\n",
    "  \"\"\"\n",
    "  Return the Manhattan distance between points (x1, y1) and (x2, y2).\n",
    "  The Manhattan distance is the sum of the absolute differences between the coordinates of the two points.\n",
    "\n",
    "  Example:\n",
    "  >>> manhattan_distance(0, 0, 3, 4)\n",
    "  7\n",
    "  >>> manhattan_distance(0, 0, 0, 0)\n",
    "  0\n",
    "  >>> manhattan_distance(3, 4, 0, 0)\n",
    "  7\n",
    "  >>> manhattan_distance(-1, 2, 3, 4)\n",
    "  6\n",
    "  \"\"\"\n",
    "  return None"
   ]
  },
  {
   "cell_type": "code",
   "execution_count": 5,
   "metadata": {},
   "outputs": [],
   "source": [
    "def euclidean_distance(x1, y1, x2, y2):\n",
    "  \"\"\"\n",
    "  Return the Euclidean distance between points (x1, y1) and (x2, y2).\n",
    "  The Euclidean distance is the direct distance between the two points.\n",
    "  It's calculated using the pythagorean theorem, where the distance is the hypotenuse\n",
    "\n",
    "  The hypotenuse is the square root of the sum of the squares of the two sides.\n",
    "\n",
    "  Example:\n",
    "  euclidean_distance(0, 0, 3, 4)\n",
    "  5.0\n",
    "  euclidean_distance(0, 0, 0, 0)\n",
    "  0.0\n",
    "  euclidean_distance(3, 4, 0, 0)\n",
    "  5.0\n",
    "  euclidean_distance(-1, 2, 3, 4)\n",
    "  4.47213595499958\n",
    "  \"\"\"\n",
    "  return None"
   ]
  },
  {
   "cell_type": "code",
   "execution_count": null,
   "metadata": {},
   "outputs": [],
   "source": [
    "def dot_product(x1, y1, x2, y2):\n",
    "  \"\"\"\n",
    "  Return the dot product of two vectors (x1, y1) and (x2, y2).\n",
    "  The dot product is the sum of the products of the corresponding coordinates.\n",
    "\n",
    "  if the vectors are (2, 3) and (5, 4), the dot product is (2*5) + (3*4) = 22\n",
    "\n",
    "  Example:\n",
    "  >>> dot_product(2, 3, 3, 4) -> (2*3) + (3*4) = 18\n",
    "  18\n",
    "  >>> dot_product(3, 4, 10, 5)\n",
    "  50\n",
    "  >>> dot_product(0, 4, 4, 0)\n",
    "  0\n",
    "  \"\"\"\n",
    "  return None"
   ]
  },
  {
   "cell_type": "code",
   "execution_count": null,
   "metadata": {},
   "outputs": [],
   "source": [
    "def cosine_similarity(x1, y1, x2, y2):\n",
    "  \"\"\"\n",
    "  Return the cosine similarity between two vectors (x1, y1) and (x2, y2).\n",
    "  The cosine similarity is the dot product of the two vectors normalized by the product of the norms.\n",
    "\n",
    "  Example:\n",
    "  >>> cosine_similarity(2, 3, 3, 4)\n",
    "  0.9984603532054125\n",
    "  >>> cosine_similarity(3, 4, 10, 5)\n",
    "  0.8944271909999159\n",
    "  >>> cosine_similarity(0, 4, 4, 0)\n",
    "  0.0\n",
    "  \"\"\"\n",
    "  return None"
   ]
  }
 ],
 "metadata": {
  "kernelspec": {
   "display_name": "nomades_pada",
   "language": "python",
   "name": "python3"
  },
  "language_info": {
   "codemirror_mode": {
    "name": "ipython",
    "version": 3
   },
   "file_extension": ".py",
   "mimetype": "text/x-python",
   "name": "python",
   "nbconvert_exporter": "python",
   "pygments_lexer": "ipython3",
   "version": "3.12.7"
  }
 },
 "nbformat": 4,
 "nbformat_minor": 2
}
