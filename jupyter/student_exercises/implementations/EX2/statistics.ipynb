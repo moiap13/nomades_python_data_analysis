{
 "cells": [
  {
   "cell_type": "markdown",
   "metadata": {},
   "source": [
    "# EX2 - Statistics\n",
    "\n",
    "![stats](imgs/stats.png)\n",
    "\n",
    "In this jupyter we'll implement the basics of statistics. The statistics are used to describe the distribution of data, to understand how the data is spread out.\n",
    "\n",
    "We won't use any library in this exercice, you are asked to implement the statistics function by yourself."
   ]
  },
  {
   "cell_type": "markdown",
   "metadata": {},
   "source": [
    "## Min and Max\n",
    "\n",
    "The minimum (min) is the smallest value in a data set, while the maximum (max) is the largest value. Together, they provide the range of the data, showing its spread from the lowest to the highest point"
   ]
  },
  {
   "cell_type": "code",
   "execution_count": 39,
   "metadata": {},
   "outputs": [],
   "source": [
    "def min(l):\n",
    "  \"\"\"\n",
    "  Loop throught the list and return the minimum value\n",
    "  \"\"\"\n",
    "  return None\n",
    "\n",
    "def max(l):\n",
    "  \"\"\"\n",
    "  Loop throught the list and return the maximum value\n",
    "  \"\"\"\n",
    "  return None"
   ]
  },
  {
   "cell_type": "markdown",
   "metadata": {},
   "source": [
    "## Range\n",
    "\n",
    "The range is the difference between the maximum and minimum values in a data set. It provides a simple measure of how spread out the data is by indicating the total span between the smallest and largest values.\n",
    "\n",
    "> Feel free to use the `min` and `max` functions you implemented in the previous exercise"
   ]
  },
  {
   "cell_type": "code",
   "execution_count": 40,
   "metadata": {},
   "outputs": [],
   "source": [
    "def m_range(l):\n",
    "  \"\"\"\n",
    "  calculate the range\n",
    "  \"\"\"\n",
    "  return None"
   ]
  },
  {
   "cell_type": "markdown",
   "metadata": {},
   "source": [
    "## Mean\n",
    "\n",
    "The mean, or average, is the sum of all values in a data set divided by the number of values. It represents the central point of the data, giving a measure of its overall trend. The formula for the mean is: $\\frac{1}{n}\\sum_{i=1}^n x_i$\n",
    "\n",
    "where:\n",
    "- $n$ is the number \n",
    "- $x_i$ is the $i$-th element of the list\n",
    "\n",
    "You can read this formula as the sum of all the elements of the list divide by the length of the list."
   ]
  },
  {
   "cell_type": "code",
   "execution_count": 41,
   "metadata": {},
   "outputs": [],
   "source": [
    "def mean(l):\n",
    "  \"\"\"\n",
    "  calculate the mean\n",
    "  \"\"\"\n",
    "  return None"
   ]
  },
  {
   "cell_type": "markdown",
   "metadata": {},
   "source": [
    "## Median\n",
    "\n",
    "The median is the middle value of a data set when the values are arranged in ascending or descending order. It divides the data into two equal halves, with half the values being smaller and half being larger, making it a good measure of central tendency when there are outliers.\n",
    "\n",
    "These are the steps to calculate the median:\n",
    "\n",
    "1. Sort the list (here you can use the `sorted` function or the `list.sort` method)\n",
    "2. If the list has an odd number of elements, return the middle element\n",
    "3. If the list has an even number of elements, return the average of the two middle elements\n",
    "\n",
    "> **Note :** To know if the list as one or two middle elements, we'll use the lenght of the list. If the length is odd, there is only one middle element. If the length is even, there are two middle elements.\n",
    "\n",
    "> **Note :** To know if a number is odd or even you must use the modulo operator `%`, you make the modulo by 2 and the result will be `0` or `1`. If it's `1` the number is odd and if it's `0` the number is even"
   ]
  },
  {
   "cell_type": "code",
   "execution_count": 42,
   "metadata": {},
   "outputs": [],
   "source": [
    "def median(l):\n",
    "  \"\"\"\n",
    "  calculate the median\n",
    "  \"\"\"\n",
    "  return None"
   ]
  },
  {
   "cell_type": "markdown",
   "metadata": {},
   "source": [
    "## Quartiles\n",
    "\n",
    "Quartiles divide a data set into four equal parts, helping to describe the distribution. The first quartile (Q1) represents the 25th percentile, the second quartile (Q2) is the median or 50th percentile, and the third quartile (Q3) is the 75th percentile, showing the spread of values in each quarter of the data."
   ]
  },
  {
   "cell_type": "code",
   "execution_count": 43,
   "metadata": {},
   "outputs": [],
   "source": [
    "def quartiles(l):\n",
    "  \"\"\"\n",
    "    Calculate the quartiles of a given list of numbers.\n",
    "  Returns:\n",
    "    tuple: A tuple containing three values:\n",
    "      - Q1 (float): The first quartile (25th percentile).\n",
    "      - Q2 (float): The second quartile (50th percentile, or median).\n",
    "      - Q3 (float): The third quartile (75th percentile).\n",
    "  \"\"\"\n",
    "  return None"
   ]
  },
  {
   "cell_type": "markdown",
   "metadata": {},
   "source": [
    "## Mode\n",
    "\n",
    "The mode is the value that appears most frequently in a data set. It represents the most common data point and is useful for identifying patterns or repeated occurrences within the data. If there are multiple elements that appear the same number of times, return the lowest one.\n",
    "\n",
    "> **Note :** Use a dictionary to store the frequency of appearances of each element."
   ]
  },
  {
   "cell_type": "code",
   "execution_count": 44,
   "metadata": {},
   "outputs": [],
   "source": [
    "def mode(l):\n",
    "  \"\"\"\n",
    "  calculate the mode\n",
    "  \"\"\"\n",
    "  return None"
   ]
  },
  {
   "cell_type": "markdown",
   "metadata": {},
   "source": [
    "## Variance\n",
    "\n",
    "Variance measures how far individual data points in a set are from the mean. It quantifies the spread of data, with higher variance indicating more spread-out values and lower variance showing data points are closer to the mean. The formula is: $\\frac{1}{n}\\sum_{i=1}^n (x_i - \\mu)^2$\n",
    "\n",
    "where:\n",
    "- $\\mu$ is the mean of the data\n",
    "- $x_i$ is the $i$-th element of the list\n",
    "- $n$ is the number of elements in the list\n",
    "\n",
    "You can see it as the sum of the squares of the differences of each element from the mean divided by the length of the list."
   ]
  },
  {
   "cell_type": "code",
   "execution_count": 45,
   "metadata": {},
   "outputs": [],
   "source": [
    "def variance(l):\n",
    "  \"\"\"\n",
    "  calculate the variance\n",
    "  \"\"\"\n",
    "  return None"
   ]
  },
  {
   "cell_type": "markdown",
   "metadata": {},
   "source": [
    "## Standard Deviation\n",
    "\n",
    "Standard deviation measures the amount of variation or dispersion in a data set. It shows how much the values deviate from the mean, with a low standard deviation indicating values are close to the mean, and a high standard deviation indicating more spread-out values.\n",
    "\n",
    "> Smaller standard deviation indicates that the data points are closer to the mean\n",
    "\n",
    "> Larger standard deviation indicates that the data points are more spread out.\n",
    "\n",
    "The formula for the standard deviation is: $\\sqrt{\\frac{1}{n}\\sum_{i=1}^n (x_i - \\mu)^2}$\n",
    "\n",
    "where:\n",
    "- $\\mu$ is the mean of the data\n",
    "- $x_i$ is the $i$-th element of the list\n",
    "- $n$ is the number of elements in the list\n",
    "\n",
    "You can see it as the square root of the sum of the squares of the differences of each element from the mean divided by the length of the list.\n",
    "\n",
    "or you can see the `std` as the square root of the variance."
   ]
  },
  {
   "cell_type": "code",
   "execution_count": 46,
   "metadata": {},
   "outputs": [],
   "source": [
    "def standard_deviation(l):\n",
    "  \"\"\"\n",
    "  calculate the standard deviation\n",
    "  \"\"\"\n",
    "  return None"
   ]
  },
  {
   "cell_type": "markdown",
   "metadata": {},
   "source": [
    "## Testing part :)"
   ]
  },
  {
   "cell_type": "code",
   "execution_count": 51,
   "metadata": {},
   "outputs": [],
   "source": [
    "l = list(range(1, 6))\n",
    "\n",
    "assert min(l) == 1, f\"Expected 1, got {min(l)}\"\n",
    "assert max(l) == 5, f\"Expected 5, got {max(l)}\"\n",
    "assert m_range(l) == 4, f\"Expected 4, got {m_range(l)}\"\n",
    "assert mean(l) == 3, f\"Expected 3, got {mean(l)}\"\n",
    "assert median(l) == 3, f\"Expected 3, got {median(l)}\"\n",
    "assert quartiles(l) == (1.5, 3, 4.5), f\"Expected (1.5, 3, 4.5), got {quartiles(l)}\"\n",
    "assert variance(l) == 2, f\"Expected 2, got {variance(l)}\"\n",
    "assert standard_deviation(l) == 1.4142135623730951, f\"Expected 1.581, got {standard_deviation(l)}\"\n",
    "\n",
    "l = list(range(1, 6)).extend([2, 4, 5, 5])\n",
    "assert mode(l) == 5, f\"Expected 5, got {mode(l)}\""
   ]
  }
 ],
 "metadata": {
  "kernelspec": {
   "display_name": "nomades_pada",
   "language": "python",
   "name": "python3"
  },
  "language_info": {
   "codemirror_mode": {
    "name": "ipython",
    "version": 3
   },
   "file_extension": ".py",
   "mimetype": "text/x-python",
   "name": "python",
   "nbconvert_exporter": "python",
   "pygments_lexer": "ipython3",
   "version": "3.12.7"
  }
 },
 "nbformat": 4,
 "nbformat_minor": 2
}
