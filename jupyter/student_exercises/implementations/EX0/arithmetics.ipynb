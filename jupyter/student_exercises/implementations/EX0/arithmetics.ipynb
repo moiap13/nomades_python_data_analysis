{
 "cells": [
  {
   "cell_type": "markdown",
   "metadata": {},
   "source": [
    "# Exercice on arithmetics\n",
    "\n",
    "In this exerice you will learn how to add, substract, multiply and divide two numbers. using python"
   ]
  },
  {
   "cell_type": "markdown",
   "metadata": {},
   "source": [
    "## Addition\n",
    "\n",
    "The addition between two numbers (*int*, *float*) in python is done using the `+` operator.\n",
    "\n",
    "In the code below we set two variables `a` and `b` and I ask you to add them together."
   ]
  },
  {
   "cell_type": "code",
   "execution_count": 4,
   "metadata": {},
   "outputs": [],
   "source": [
    "a = 3\n",
    "b = 5\n",
    "\n",
    "# TODO: print the sum of a and b\n",
    "c = ..."
   ]
  },
  {
   "cell_type": "markdown",
   "metadata": {},
   "source": [
    "## Substraction\n",
    "\n",
    "The substraction between two numbers (*int*, *float*) in python is done using the `-` operator.\n",
    "\n",
    "In the code below we set two variables `a` and `b` and I ask you to substract them together."
   ]
  },
  {
   "cell_type": "code",
   "execution_count": null,
   "metadata": {},
   "outputs": [],
   "source": [
    "a = 3\n",
    "b = 5\n",
    "\n",
    "# TODO: print the substraction of a and b\n",
    "c = ..."
   ]
  },
  {
   "cell_type": "markdown",
   "metadata": {},
   "source": [
    "## Multiplication\n",
    "\n",
    "The multiplication between two numbers (*int*, *float*) in python is done using the `*` operator.\n",
    "\n",
    "In the code below we set two variables `a` and `b` and I ask you to multiply them together."
   ]
  },
  {
   "cell_type": "code",
   "execution_count": null,
   "metadata": {},
   "outputs": [],
   "source": [
    "a = 3\n",
    "b = 5\n",
    "\n",
    "# TODO: print the multiplication of a and b\n",
    "c = ..."
   ]
  },
  {
   "cell_type": "markdown",
   "metadata": {},
   "source": [
    "## Division\n",
    "\n",
    "The division between two numbers (*int*, *float*) in python is done using the `/` operator.\n",
    "\n",
    "In the code below we set two variables `a` and `b` and I ask you to divide them together.\n",
    "\n",
    "> **Note:** In mathematics the division by zero is not defined. `Python` will raise a `ZeroDivisionError` if you try to divide by zero.\n",
    "\n",
    "> **Note:** The division in Python returns a `float` number."
   ]
  },
  {
   "cell_type": "code",
   "execution_count": null,
   "metadata": {},
   "outputs": [],
   "source": [
    "a = 3\n",
    "b = 5\n",
    "\n",
    "# TODO: print the division of a and b\n",
    "c = ..."
   ]
  }
 ],
 "metadata": {
  "kernelspec": {
   "display_name": "base",
   "language": "python",
   "name": "python3"
  },
  "language_info": {
   "codemirror_mode": {
    "name": "ipython",
    "version": 3
   },
   "file_extension": ".py",
   "mimetype": "text/x-python",
   "name": "python",
   "nbconvert_exporter": "python",
   "pygments_lexer": "ipython3",
   "version": "3.10.12"
  },
  "orig_nbformat": 4
 },
 "nbformat": 4,
 "nbformat_minor": 2
}
